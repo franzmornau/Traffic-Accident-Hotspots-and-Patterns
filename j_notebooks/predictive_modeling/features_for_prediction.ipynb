{
 "cells": [
  {
   "cell_type": "code",
   "execution_count": 1,
   "metadata": {},
   "outputs": [],
   "source": [
    "import pandas as pd\n",
    "import geopandas as gpd\n",
    "import numpy as np\n",
    "import itertools\n",
    "\n",
    "import matplotlib.pyplot as plt\n",
    "\n",
    "import scipy.stats as stats"
   ]
  },
  {
   "cell_type": "code",
   "execution_count": 2,
   "metadata": {},
   "outputs": [],
   "source": [
    "acc = pd.read_csv('../data/cleaned/coll_coord.csv', low_memory=False)"
   ]
  },
  {
   "cell_type": "code",
   "execution_count": 3,
   "metadata": {},
   "outputs": [],
   "source": [
    "# acc['latitude'][0]"
   ]
  },
  {
   "cell_type": "code",
   "execution_count": 4,
   "metadata": {},
   "outputs": [
    {
     "name": "stdout",
     "output_type": "stream",
     "text": [
      "<class 'pandas.core.frame.DataFrame'>\n",
      "RangeIndex: 202130 entries, 0 to 202129\n",
      "Data columns (total 47 columns):\n",
      "Unnamed: 0         202130 non-null int64\n",
      "OBJECTID           202130 non-null int64\n",
      "INCKEY             202130 non-null int64\n",
      "COLDETKEY          202130 non-null int64\n",
      "REPORTNO           202130 non-null object\n",
      "STATUS             202130 non-null object\n",
      "ADDRTYPE           202130 non-null object\n",
      "INTKEY             67263 non-null float64\n",
      "LOCATION           202130 non-null object\n",
      "EXCEPTRSNCODE      84141 non-null object\n",
      "EXCEPTRSNDESC      7190 non-null object\n",
      "SEVERITYCODE       202129 non-null object\n",
      "SEVERITYDESC       202130 non-null object\n",
      "COLLISIONTYPE      179243 non-null object\n",
      "PERSONCOUNT        202130 non-null int64\n",
      "PEDCOUNT           202130 non-null int64\n",
      "PEDCYLCOUNT        202130 non-null int64\n",
      "VEHCOUNT           202130 non-null int64\n",
      "INJURIES           202130 non-null int64\n",
      "SERIOUSINJURIES    202130 non-null int64\n",
      "FATALITIES         202130 non-null int64\n",
      "INCDATE            202130 non-null object\n",
      "INCDTTM            202130 non-null object\n",
      "JUNCTIONTYPE       194447 non-null object\n",
      "SDOT_COLCODE       202129 non-null float64\n",
      "SDOT_COLDESC       202129 non-null object\n",
      "INATTENTIONIND     27954 non-null object\n",
      "UNDERINFL          179264 non-null object\n",
      "WEATHER            179093 non-null object\n",
      "ROADCOND           179149 non-null object\n",
      "LIGHTCOND          179006 non-null object\n",
      "PEDROWNOTGRNT      4907 non-null object\n",
      "SDOTCOLNUM         123111 non-null float64\n",
      "SPEEDING           8795 non-null object\n",
      "ST_COLCODE         193528 non-null object\n",
      "ST_COLDESC         179243 non-null object\n",
      "SEGLANEKEY         202130 non-null int64\n",
      "CROSSWALKKEY       202130 non-null int64\n",
      "HITPARKEDCAR       202130 non-null object\n",
      "longitude          202130 non-null float64\n",
      "latitude           202130 non-null float64\n",
      "year               202130 non-null int64\n",
      "month              202130 non-null int64\n",
      "week               202130 non-null int64\n",
      "day                202130 non-null int64\n",
      "hour               202130 non-null int64\n",
      "weekday            202130 non-null int64\n",
      "dtypes: float64(5), int64(19), object(23)\n",
      "memory usage: 72.5+ MB\n"
     ]
    }
   ],
   "source": [
    "acc.info()"
   ]
  },
  {
   "cell_type": "code",
   "execution_count": 5,
   "metadata": {},
   "outputs": [
    {
     "data": {
      "text/plain": [
       "Index(['Unnamed: 0', 'OBJECTID', 'INCKEY', 'COLDETKEY', 'REPORTNO', 'STATUS',\n",
       "       'ADDRTYPE', 'INTKEY', 'LOCATION', 'EXCEPTRSNCODE', 'EXCEPTRSNDESC',\n",
       "       'SEVERITYCODE', 'SEVERITYDESC', 'COLLISIONTYPE', 'PERSONCOUNT',\n",
       "       'PEDCOUNT', 'PEDCYLCOUNT', 'VEHCOUNT', 'INJURIES', 'SERIOUSINJURIES',\n",
       "       'FATALITIES', 'INCDATE', 'INCDTTM', 'JUNCTIONTYPE', 'SDOT_COLCODE',\n",
       "       'SDOT_COLDESC', 'INATTENTIONIND', 'UNDERINFL', 'WEATHER', 'ROADCOND',\n",
       "       'LIGHTCOND', 'PEDROWNOTGRNT', 'SDOTCOLNUM', 'SPEEDING', 'ST_COLCODE',\n",
       "       'ST_COLDESC', 'SEGLANEKEY', 'CROSSWALKKEY', 'HITPARKEDCAR', 'longitude',\n",
       "       'latitude', 'year', 'month', 'week', 'day', 'hour', 'weekday'],\n",
       "      dtype='object')"
      ]
     },
     "execution_count": 5,
     "metadata": {},
     "output_type": "execute_result"
    }
   ],
   "source": [
    "acc.columns"
   ]
  },
  {
   "cell_type": "code",
   "execution_count": 6,
   "metadata": {},
   "outputs": [
    {
     "data": {
      "text/html": [
       "<div>\n",
       "<style scoped>\n",
       "    .dataframe tbody tr th:only-of-type {\n",
       "        vertical-align: middle;\n",
       "    }\n",
       "\n",
       "    .dataframe tbody tr th {\n",
       "        vertical-align: top;\n",
       "    }\n",
       "\n",
       "    .dataframe thead th {\n",
       "        text-align: right;\n",
       "    }\n",
       "</style>\n",
       "<table border=\"1\" class=\"dataframe\">\n",
       "  <thead>\n",
       "    <tr style=\"text-align: right;\">\n",
       "      <th></th>\n",
       "      <th>Unnamed: 0</th>\n",
       "      <th>OBJECTID</th>\n",
       "      <th>INCKEY</th>\n",
       "      <th>COLDETKEY</th>\n",
       "      <th>REPORTNO</th>\n",
       "      <th>STATUS</th>\n",
       "      <th>ADDRTYPE</th>\n",
       "      <th>INTKEY</th>\n",
       "      <th>LOCATION</th>\n",
       "      <th>EXCEPTRSNCODE</th>\n",
       "      <th>...</th>\n",
       "      <th>CROSSWALKKEY</th>\n",
       "      <th>HITPARKEDCAR</th>\n",
       "      <th>longitude</th>\n",
       "      <th>latitude</th>\n",
       "      <th>year</th>\n",
       "      <th>month</th>\n",
       "      <th>week</th>\n",
       "      <th>day</th>\n",
       "      <th>hour</th>\n",
       "      <th>weekday</th>\n",
       "    </tr>\n",
       "  </thead>\n",
       "  <tbody>\n",
       "    <tr>\n",
       "      <th>0</th>\n",
       "      <td>0</td>\n",
       "      <td>1</td>\n",
       "      <td>300647</td>\n",
       "      <td>301861</td>\n",
       "      <td>E828639</td>\n",
       "      <td>Matched</td>\n",
       "      <td>Block</td>\n",
       "      <td>NaN</td>\n",
       "      <td>WEEDIN E PL NE BETWEEN WEEDIN PL NE AND 8TH AV...</td>\n",
       "      <td></td>\n",
       "      <td>...</td>\n",
       "      <td>0</td>\n",
       "      <td>N</td>\n",
       "      <td>-122.319483</td>\n",
       "      <td>47.675997</td>\n",
       "      <td>2018</td>\n",
       "      <td>8</td>\n",
       "      <td>33</td>\n",
       "      <td>15</td>\n",
       "      <td>20</td>\n",
       "      <td>2</td>\n",
       "    </tr>\n",
       "  </tbody>\n",
       "</table>\n",
       "<p>1 rows × 47 columns</p>\n",
       "</div>"
      ],
      "text/plain": [
       "   Unnamed: 0  OBJECTID  INCKEY  COLDETKEY REPORTNO   STATUS ADDRTYPE  INTKEY  \\\n",
       "0           0         1  300647     301861  E828639  Matched    Block     NaN   \n",
       "\n",
       "                                            LOCATION EXCEPTRSNCODE  ...  \\\n",
       "0  WEEDIN E PL NE BETWEEN WEEDIN PL NE AND 8TH AV...                ...   \n",
       "\n",
       "  CROSSWALKKEY HITPARKEDCAR   longitude   latitude  year  month  week  day  \\\n",
       "0            0            N -122.319483  47.675997  2018      8    33   15   \n",
       "\n",
       "   hour  weekday  \n",
       "0    20        2  \n",
       "\n",
       "[1 rows x 47 columns]"
      ]
     },
     "execution_count": 6,
     "metadata": {},
     "output_type": "execute_result"
    }
   ],
   "source": [
    "acc.head(1)"
   ]
  },
  {
   "cell_type": "code",
   "execution_count": 7,
   "metadata": {},
   "outputs": [
    {
     "data": {
      "text/plain": [
       "Unnamed: 0                                                         0\n",
       "OBJECTID                                                           1\n",
       "INCKEY                                                        300647\n",
       "COLDETKEY                                                     301861\n",
       "REPORTNO                                                     E828639\n",
       "STATUS                                                       Matched\n",
       "ADDRTYPE                                                       Block\n",
       "INTKEY                                                           NaN\n",
       "LOCATION           WEEDIN E PL NE BETWEEN WEEDIN PL NE AND 8TH AV...\n",
       "EXCEPTRSNCODE                                                       \n",
       "EXCEPTRSNDESC                                                    NaN\n",
       "SEVERITYCODE                                                       1\n",
       "SEVERITYDESC                          Property Damage Only Collision\n",
       "COLLISIONTYPE                                                 Angles\n",
       "PERSONCOUNT                                                        2\n",
       "PEDCOUNT                                                           0\n",
       "PEDCYLCOUNT                                                        0\n",
       "VEHCOUNT                                                           2\n",
       "INJURIES                                                           0\n",
       "SERIOUSINJURIES                                                    0\n",
       "FATALITIES                                                         0\n",
       "INCDATE                                          2018-08-15T00:00:00\n",
       "INCDTTM                                         8/15/2018 8:00:00 PM\n",
       "JUNCTIONTYPE                                       Driveway Junction\n",
       "SDOT_COLCODE                                                      11\n",
       "SDOT_COLDESC       MOTOR VEHICLE STRUCK MOTOR VEHICLE, FRONT END ...\n",
       "INATTENTIONIND                                                   NaN\n",
       "UNDERINFL                                                          N\n",
       "WEATHER                                       Clear or Partly Cloudy\n",
       "ROADCOND                                                         Dry\n",
       "LIGHTCOND                                                   Daylight\n",
       "PEDROWNOTGRNT                                                    NaN\n",
       "SDOTCOLNUM                                                       NaN\n",
       "SPEEDING                                                         NaN\n",
       "ST_COLCODE                                                        10\n",
       "ST_COLDESC                                         Entering at angle\n",
       "SEGLANEKEY                                                         0\n",
       "CROSSWALKKEY                                                       0\n",
       "HITPARKEDCAR                                                       N\n",
       "longitude                                                   -122.319\n",
       "latitude                                                      47.676\n",
       "year                                                            2018\n",
       "month                                                              8\n",
       "week                                                              33\n",
       "day                                                               15\n",
       "hour                                                              20\n",
       "weekday                                                            2\n",
       "Name: 0, dtype: object"
      ]
     },
     "execution_count": 7,
     "metadata": {},
     "output_type": "execute_result"
    }
   ],
   "source": [
    "acc.iloc[0]"
   ]
  },
  {
   "cell_type": "code",
   "execution_count": 8,
   "metadata": {},
   "outputs": [
    {
     "data": {
      "text/plain": [
       "array([    0, 42680, 45509, ...,  6397, 44360,  3800])"
      ]
     },
     "execution_count": 8,
     "metadata": {},
     "output_type": "execute_result"
    }
   ],
   "source": [
    "acc.SEGLANEKEY.unique()"
   ]
  },
  {
   "cell_type": "code",
   "execution_count": 9,
   "metadata": {},
   "outputs": [
    {
     "data": {
      "text/plain": [
       "array(['Daylight', 'Unknown', 'Dark - Street Lights On', 'Dusk',\n",
       "       'Dark - No Street Lights', nan, 'Other', 'Dawn',\n",
       "       'Dark - Street Lights Off'], dtype=object)"
      ]
     },
     "execution_count": 9,
     "metadata": {},
     "output_type": "execute_result"
    }
   ],
   "source": [
    "acc.LIGHTCOND.unique()"
   ]
  },
  {
   "cell_type": "code",
   "execution_count": 10,
   "metadata": {},
   "outputs": [
    {
     "data": {
      "text/plain": [
       "array(['Angles', 'Rear Ended', 'Parked Car', 'Other', 'Sideswipe',\n",
       "       'Right Turn', 'Pedestrian', 'Head On', 'Left Turn', nan, 'Cycles'],\n",
       "      dtype=object)"
      ]
     },
     "execution_count": 10,
     "metadata": {},
     "output_type": "execute_result"
    }
   ],
   "source": [
    "acc.COLLISIONTYPE.unique()"
   ]
  },
  {
   "cell_type": "code",
   "execution_count": 11,
   "metadata": {},
   "outputs": [
    {
     "data": {
      "text/plain": [
       "63"
      ]
     },
     "execution_count": 11,
     "metadata": {},
     "output_type": "execute_result"
    }
   ],
   "source": [
    "len(acc['ST_COLDESC'].unique())"
   ]
  },
  {
   "cell_type": "code",
   "execution_count": 12,
   "metadata": {},
   "outputs": [
    {
     "data": {
      "text/plain": [
       "64"
      ]
     },
     "execution_count": 12,
     "metadata": {},
     "output_type": "execute_result"
    }
   ],
   "source": [
    "len(acc['ST_COLCODE'].unique())"
   ]
  },
  {
   "cell_type": "code",
   "execution_count": 13,
   "metadata": {},
   "outputs": [
    {
     "data": {
      "text/plain": [
       "array(['Driveway Junction', 'Mid-Block (not related to intersection)',\n",
       "       'At Intersection (intersection related)',\n",
       "       'At Intersection (but not related to intersection)', nan,\n",
       "       'Mid-Block (but intersection related)', 'Ramp Junction', 'Unknown'],\n",
       "      dtype=object)"
      ]
     },
     "execution_count": 13,
     "metadata": {},
     "output_type": "execute_result"
    }
   ],
   "source": [
    "acc.JUNCTIONTYPE.unique()"
   ]
  },
  {
   "cell_type": "code",
   "execution_count": 14,
   "metadata": {},
   "outputs": [
    {
     "data": {
      "text/plain": [
       "array([11., 14., 28.,  0., 13., 24., 16., 15., 51., 26., 18., 54., 12.,\n",
       "       48., 29., 64., 25., 69., 31., 21., 27., 23., 34., 55., 56., 33.,\n",
       "       nan, 44., 32., 66., 36., 22., 47., 58., 35., 61., 53., 46., 68.,\n",
       "       52.])"
      ]
     },
     "execution_count": 14,
     "metadata": {},
     "output_type": "execute_result"
    }
   ],
   "source": [
    "acc.SDOT_COLCODE.unique()"
   ]
  },
  {
   "cell_type": "code",
   "execution_count": 15,
   "metadata": {},
   "outputs": [
    {
     "data": {
      "text/plain": [
       "40"
      ]
     },
     "execution_count": 15,
     "metadata": {},
     "output_type": "execute_result"
    }
   ],
   "source": [
    "len(acc.SDOT_COLDESC.unique())"
   ]
  },
  {
   "cell_type": "code",
   "execution_count": 16,
   "metadata": {},
   "outputs": [
    {
     "data": {
      "text/plain": [
       "array(['Dry', 'Unknown', 'Wet', nan, 'Other', 'Snow/Slush', 'Ice',\n",
       "       'Standing Water', 'Sand/Mud/Dirt', 'Oil'], dtype=object)"
      ]
     },
     "execution_count": 16,
     "metadata": {},
     "output_type": "execute_result"
    }
   ],
   "source": [
    "acc.ROADCOND.unique()"
   ]
  },
  {
   "cell_type": "code",
   "execution_count": 17,
   "metadata": {},
   "outputs": [
    {
     "data": {
      "text/plain": [
       "array(['10', '14', '32', '50', '11', '16', '0', '12', '24', '28', ' ',\n",
       "       '20', '6', '23', '13', '26', '5', '1', '56', '7', '27', '15', '2',\n",
       "       '40', '52', '71', '72', '30', '51', '88', '84', '81', '73', '25',\n",
       "       '29', '41', '48', nan, '45', '53', '19', '3', '74', '22', '21',\n",
       "       '83', '4', '66', '57', '65', '82', '67', '49', '31', '42', '43',\n",
       "       '64', '54', '60', '87', '17', '8', '18', '85'], dtype=object)"
      ]
     },
     "execution_count": 17,
     "metadata": {},
     "output_type": "execute_result"
    }
   ],
   "source": [
    "acc.ST_COLCODE.unique()"
   ]
  },
  {
   "cell_type": "code",
   "execution_count": 18,
   "metadata": {},
   "outputs": [
    {
     "data": {
      "text/plain": [
       "Index(['Unnamed: 0', 'OBJECTID', 'INCKEY', 'COLDETKEY', 'REPORTNO', 'STATUS',\n",
       "       'ADDRTYPE', 'INTKEY', 'LOCATION', 'EXCEPTRSNCODE', 'EXCEPTRSNDESC',\n",
       "       'SEVERITYCODE', 'SEVERITYDESC', 'COLLISIONTYPE', 'PERSONCOUNT',\n",
       "       'PEDCOUNT', 'PEDCYLCOUNT', 'VEHCOUNT', 'INJURIES', 'SERIOUSINJURIES',\n",
       "       'FATALITIES', 'INCDATE', 'INCDTTM', 'JUNCTIONTYPE', 'SDOT_COLCODE',\n",
       "       'SDOT_COLDESC', 'INATTENTIONIND', 'UNDERINFL', 'WEATHER', 'ROADCOND',\n",
       "       'LIGHTCOND', 'PEDROWNOTGRNT', 'SDOTCOLNUM', 'SPEEDING', 'ST_COLCODE',\n",
       "       'ST_COLDESC', 'SEGLANEKEY', 'CROSSWALKKEY', 'HITPARKEDCAR', 'longitude',\n",
       "       'latitude', 'year', 'month', 'week', 'day', 'hour', 'weekday'],\n",
       "      dtype='object')"
      ]
     },
     "execution_count": 18,
     "metadata": {},
     "output_type": "execute_result"
    }
   ],
   "source": [
    "acc.columns"
   ]
  },
  {
   "cell_type": "code",
   "execution_count": 19,
   "metadata": {},
   "outputs": [
    {
     "data": {
      "text/plain": [
       "[('STATUS', array(['Matched', 'Unmatched'], dtype=object)),\n",
       " ('ADDRTYPE', array(['Block', 'Intersection'], dtype=object)),\n",
       " ('EXCEPTRSNCODE', array([' ', 'NEI', nan], dtype=object)),\n",
       " ('EXCEPTRSNDESC', array([nan,\n",
       "         'Not Enough Information, or Insufficient Location Information'],\n",
       "        dtype=object)),\n",
       " ('SEVERITYCODE', array(['1', '2', '2b', '0', '3', nan], dtype=object)),\n",
       " ('SEVERITYDESC', array(['Property Damage Only Collision', 'Injury Collision',\n",
       "         'Serious Injury Collision', 'Unknown', 'Fatality Collision'],\n",
       "        dtype=object)),\n",
       " ('COLLISIONTYPE',\n",
       "  array(['Angles', 'Rear Ended', 'Parked Car', 'Other', 'Sideswipe',\n",
       "         'Right Turn', 'Pedestrian', 'Head On', 'Left Turn', nan, 'Cycles'],\n",
       "        dtype=object)),\n",
       " ('PERSONCOUNT',\n",
       "  array([ 2,  3,  4,  7,  5,  1,  0,  6,  9,  8, 13, 12, 16, 17, 11, 26, 22,\n",
       "         10, 37, 28, 36, 14, 19, 53, 30, 29, 23, 44, 15, 32, 21, 20, 41, 27,\n",
       "         35, 43, 81, 18, 48, 25, 24, 34, 57, 39, 47, 31, 54, 93])),\n",
       " ('PEDCOUNT', array([0, 1, 2, 3, 4, 5, 6])),\n",
       " ('PEDCYLCOUNT', array([0, 1, 2])),\n",
       " ('VEHCOUNT',\n",
       "  array([ 2,  1,  3,  4,  0,  8,  6,  5,  7, 11,  9, 14, 10, 12, 13, 15])),\n",
       " ('INJURIES',\n",
       "  array([ 0,  2,  1,  4,  3,  7,  5,  6,  8, 11,  9, 10, 12, 13, 15, 78])),\n",
       " ('SERIOUSINJURIES', array([ 0,  1,  2,  3,  5,  4, 41])),\n",
       " ('FATALITIES', array([0, 1, 2, 4, 3, 5])),\n",
       " ('JUNCTIONTYPE',\n",
       "  array(['Driveway Junction', 'Mid-Block (not related to intersection)',\n",
       "         'At Intersection (intersection related)',\n",
       "         'At Intersection (but not related to intersection)', nan,\n",
       "         'Mid-Block (but intersection related)', 'Ramp Junction', 'Unknown'],\n",
       "        dtype=object)),\n",
       " ('SDOT_COLCODE',\n",
       "  array([11., 14., 28.,  0., 13., 24., 16., 15., 51., 26., 18., 54., 12.,\n",
       "         48., 29., 64., 25., 69., 31., 21., 27., 23., 34., 55., 56., 33.,\n",
       "         nan, 44., 32., 66., 36., 22., 47., 58., 35., 61., 53., 46., 68.,\n",
       "         52.])),\n",
       " ('SDOT_COLDESC',\n",
       "  array(['MOTOR VEHICLE STRUCK MOTOR VEHICLE, FRONT END AT ANGLE',\n",
       "         'MOTOR VEHICLE STRUCK MOTOR VEHICLE, REAR END',\n",
       "         'MOTOR VEHICLE RAN OFF ROAD - HIT FIXED OBJECT',\n",
       "         'NOT ENOUGH INFORMATION / NOT APPLICABLE',\n",
       "         'MOTOR VEHICLE STRUCK MOTOR VEHICLE, LEFT SIDE AT ANGLE',\n",
       "         'MOTOR VEHCILE STRUCK PEDESTRIAN',\n",
       "         'MOTOR VEHICLE STRUCK MOTOR VEHICLE, LEFT SIDE SIDESWIPE',\n",
       "         'MOTOR VEHICLE STRUCK MOTOR VEHICLE, RIGHT SIDE SIDESWIPE',\n",
       "         'PEDALCYCLIST STRUCK MOTOR VEHICLE FRONT END AT ANGLE',\n",
       "         'MOTOR VEHICLE STRUCK OBJECT IN ROAD',\n",
       "         'MOTOR VEHICLE STRUCK PEDALCYCLIST, FRONT END AT ANGLE',\n",
       "         'PEDALCYCLIST STRUCK MOTOR VEHICLE REAR END',\n",
       "         'MOTOR VEHICLE STRUCK MOTOR VEHICLE, RIGHT SIDE AT ANGLE',\n",
       "         'DRIVERLESS VEHICLE RAN OFF ROAD - HIT FIXED OBJECT',\n",
       "         'MOTOR VEHICLE OVERTURNED IN ROAD',\n",
       "         'PEDALCYCLIST STRUCK PEDESTRIAN', 'MOTOR VEHICLE STRUCK TRAIN',\n",
       "         'PEDALCYCLIST OVERTURNED IN ROAD',\n",
       "         'DRIVERLESS VEHICLE STRUCK MOTOR VEHICLE FRONT END AT ANGLE',\n",
       "         'MOTOR VEHICLE STRUCK PEDALCYCLIST, REAR END',\n",
       "         'MOTOR VEHICLE RAN OFF ROAD - NO COLLISION',\n",
       "         'MOTOR VEHICLE STRUCK PEDALCYCLIST, LEFT SIDE SIDESWIPE',\n",
       "         'DRIVERLESS VEHICLE STRUCK MOTOR VEHICLE REAR END',\n",
       "         'PEDALCYCLIST STRUCK MOTOR VEHICLE RIGHT SIDE SIDESWIPE',\n",
       "         'PEDALCYCLIST STRUCK MOTOR VEHICLE LEFT SIDE SIDESWIPE',\n",
       "         'DRIVERLESS VEHICLE STRUCK MOTOR VEHICLE LEFT SIDE AT ANGLE', nan,\n",
       "         'DRIVERLESS VEHICLE STRUCK PEDESTRIAN',\n",
       "         'DRIVERLESS VEHICLE STRUCK MOTOR VEHICLE RIGHT SIDE AT ANGLE ',\n",
       "         'PEDALCYCLIST STRUCK OBJECT IN ROAD',\n",
       "         'DRIVERLESS VEHICLE STRUCK MOTOR VEHICLE LEFT SIDE SIDESWIPE',\n",
       "         'MOTOR VEHICLE STRUCK PEDALCYCLIST, RIGHT SIDE SIDESWIPE',\n",
       "         'DRIVERLESS VEHICLE RAN OFF ROAD - NO COLLISION',\n",
       "         'PEDALCYCLIST STRUCK PEDALCYCLIST FRONT END AT ANGLE',\n",
       "         'DRIVERLESS VEHICLE STRUCK MOTOR VEHICLE RIGHT SIDE SIDESWIPE',\n",
       "         'PEDALCYCLIST STRUCK PEDALCYCLIST REAR END',\n",
       "         'PEDALCYCLIST STRUCK MOTOR VEHICLE LEFT SIDE AT ANGLE',\n",
       "         'DRIVERLESS VEHICLE STRUCK OBJECT IN ROADWAY',\n",
       "         'PEDALCYCLIST RAN OFF ROAD - HIT FIXED OBJECT',\n",
       "         'PEDALCYCLIST STRUCK MOTOR VEHICLE RIGHT SIDE AT ANGLE'],\n",
       "        dtype=object)),\n",
       " ('INATTENTIONIND', array([nan, 'Y'], dtype=object)),\n",
       " ('UNDERINFL', array(['N', 'Y', nan, '0', '1'], dtype=object)),\n",
       " ('WEATHER',\n",
       "  array(['Clear or Partly Cloudy', 'Unknown', 'Overcast', 'Fog/Smog/Smoke',\n",
       "         'Raining', nan, 'Severe Crosswind', 'Other', 'Snowing',\n",
       "         'Blowing Sand or Dirt or Snow', 'Sleet/Hail/Freezing Rain'],\n",
       "        dtype=object)),\n",
       " ('ROADCOND',\n",
       "  array(['Dry', 'Unknown', 'Wet', nan, 'Other', 'Snow/Slush', 'Ice',\n",
       "         'Standing Water', 'Sand/Mud/Dirt', 'Oil'], dtype=object)),\n",
       " ('LIGHTCOND', array(['Daylight', 'Unknown', 'Dark - Street Lights On', 'Dusk',\n",
       "         'Dark - No Street Lights', nan, 'Other', 'Dawn',\n",
       "         'Dark - Street Lights Off'], dtype=object)),\n",
       " ('PEDROWNOTGRNT', array([nan, 'Y'], dtype=object)),\n",
       " ('SPEEDING', array([nan, 'Y'], dtype=object)),\n",
       " ('ST_COLCODE',\n",
       "  array(['10', '14', '32', '50', '11', '16', '0', '12', '24', '28', ' ',\n",
       "         '20', '6', '23', '13', '26', '5', '1', '56', '7', '27', '15', '2',\n",
       "         '40', '52', '71', '72', '30', '51', '88', '84', '81', '73', '25',\n",
       "         '29', '41', '48', nan, '45', '53', '19', '3', '74', '22', '21',\n",
       "         '83', '4', '66', '57', '65', '82', '67', '49', '31', '42', '43',\n",
       "         '64', '54', '60', '87', '17', '8', '18', '85'], dtype=object)),\n",
       " ('ST_COLDESC', array(['Entering at angle',\n",
       "         'From same direction - both going straight - one stopped - rear-end',\n",
       "         'One parked--one moving', 'Fixed object',\n",
       "         'From same direction - both going straight - both moving - sideswipe',\n",
       "         'From same direction - one right turn - one straight',\n",
       "         'Vehicle going straight hits pedestrian',\n",
       "         'From same direction - both going straight - one stopped - sideswipe',\n",
       "         'From opposite direction - both moving - head-on',\n",
       "         'From opposite direction - one left turn - one straight', nan,\n",
       "         'One car leaving parked position',\n",
       "         'Pedalcyclist Strikes Moving Vehicle',\n",
       "         'From same direction - all others',\n",
       "         'From same direction - both going straight - both moving - rear-end',\n",
       "         'From opposite direction - both going straight - sideswipe',\n",
       "         'Vehicle Strikes Pedalcyclist',\n",
       "         'Vehicle turning right hits pedestrian',\n",
       "         'Breakage of any part of the vehicle resulting in injury or in further property damage',\n",
       "         'Pedalcyclist Strikes Pedalcyclist or Pedestrian',\n",
       "         'From opposite direction - both going straight - one stopped - sideswipe',\n",
       "         'From same direction - one left turn - one straight',\n",
       "         'Vehicle turning left hits pedestrian',\n",
       "         'Railway Vehicle Strikes Vehicle', 'Vehicle overturned',\n",
       "         'Same direction -- both turning right -- both moving -- sideswipe',\n",
       "         'Same direction -- both turning right -- one stopped -- sideswipe',\n",
       "         'From opposite direction - all others', 'Other object',\n",
       "         'All Other Multi Vehicle',\n",
       "         'Same direction -- both turning left -- one stopped -- rear end',\n",
       "         'Same direction -- both turning left -- both moving -- sideswipe',\n",
       "         'Same direction -- both turning right -- both moving -- rear end',\n",
       "         'From opposite direction - one stopped - head-on',\n",
       "         'From opposite direction - one left turn - one right turn',\n",
       "         'Vehicle Strikes Railway Vehicle',\n",
       "         'Domestic animal other (cat, dog, etc)', 'Vehicle - Pedalcyclist',\n",
       "         'Person fell, jumped or was pushed from vehicle',\n",
       "         'One car entering parked position',\n",
       "         'Vehicle backing hits pedestrian',\n",
       "         'Same direction -- both turning right -- one stopped -- rear end',\n",
       "         'One car leaving driveway access',\n",
       "         'One car entering driveway access',\n",
       "         'Same direction -- both turning left -- both moving -- rear end',\n",
       "         'Vehicle hits Pedestrian - All Other Actions',\n",
       "         'Vehicle Hits Other Road or Construction Machinery',\n",
       "         'All other non-collision',\n",
       "         'Vehicle Struck by City Road or Construction Machinery',\n",
       "         'Same direction -- both turning left -- one stopped -- sideswipe',\n",
       "         'Vehicle Struck by Other Road or Construction Machinery',\n",
       "         'Non-domestic animal (deer, bear, elk, etc)', 'Not stated',\n",
       "         'Railway Vehicle Strikes Pedestrian',\n",
       "         'Railway Vehicle Strikes Pedalcyclist',\n",
       "         'Vehicle Hits City Road or Construction Machinery',\n",
       "         'Fire started in vehicle',\n",
       "         'Vehicle Hits State Road or Construction Machinery',\n",
       "         'Vehicle Strikes All Other Non-Domestic Animal',\n",
       "         'Strikes or Was Struck by Object from the Load of Another Vehicle',\n",
       "         'Pedalcyclist All Other Involvements ONE UNIT - PEDALCYCLIST ONLY or PEDALCYCLIST STR',\n",
       "         'Strikes or Was Struck by a Part of Another Vehicle (Not from Load)',\n",
       "         'Vehicle Strikes Deer'], dtype=object)),\n",
       " ('HITPARKEDCAR', array(['N', 'Y'], dtype=object)),\n",
       " ('year',\n",
       "  array([2018, 2017, 2019, 2004, 2013, 2015, 2014, 2012, 2016, 2006, 2005,\n",
       "         2011, 2010, 2009, 2008, 2007, 2003])),\n",
       " ('month', array([ 8,  7,  6,  5,  4,  9,  3, 11, 12, 10,  1,  2])),\n",
       " ('week',\n",
       "  array([33, 31, 32, 34, 30, 35, 22, 23, 19, 16, 15, 21, 18, 38, 13, 17, 12,\n",
       "         36, 29, 47, 49, 46, 48, 50, 42, 51, 45, 20, 24,  2, 10, 11,  7, 52,\n",
       "          9,  1,  5,  3,  6,  8, 41, 37, 26, 28, 53, 27, 43, 14, 25, 39,  4,\n",
       "         44, 40])),\n",
       " ('day',\n",
       "  array([15, 19,  5, 12, 23,  9, 18, 22,  6, 26, 29, 11, 10, 21, 27, 17, 13,\n",
       "          7, 14, 31, 24,  1,  8, 28, 30, 20,  4, 25,  3, 16,  2])),\n",
       " ('hour',\n",
       "  array([20, 10, 13,  5, 14,  9, 16, 11, 18,  0,  2, 17, 19,  7, 15,  4, 22,\n",
       "          1, 12,  6,  8, 21, 23,  3])),\n",
       " ('weekday', array([2, 6, 3, 5, 0, 4, 1]))]"
      ]
     },
     "execution_count": 19,
     "metadata": {},
     "output_type": "execute_result"
    }
   ],
   "source": [
    "[(column, acc[column].unique()) for column in acc.columns if len(acc[column].unique()) < 100]"
   ]
  },
  {
   "cell_type": "markdown",
   "metadata": {},
   "source": [
    "Now let's see how balanced these data are."
   ]
  },
  {
   "cell_type": "code",
   "execution_count": 20,
   "metadata": {},
   "outputs": [
    {
     "data": {
      "text/plain": [
       "pandas.core.series.Series"
      ]
     },
     "execution_count": 20,
     "metadata": {},
     "output_type": "execute_result"
    }
   ],
   "source": [
    "type(acc['ST_COLDESC'])"
   ]
  },
  {
   "cell_type": "code",
   "execution_count": 21,
   "metadata": {},
   "outputs": [
    {
     "data": {
      "text/plain": [
       "One parked--one moving                                                                   41474\n",
       "Entering at angle                                                                        33110\n",
       "From same direction - both going straight - one stopped - rear-end                       24221\n",
       "Fixed object                                                                             12182\n",
       "From same direction - both going straight - both moving - sideswipe                      11661\n",
       "From opposite direction - one left turn - one straight                                   10009\n",
       "From same direction - both going straight - both moving - rear-end                        6888\n",
       "Vehicle - Pedalcyclist                                                                    5055\n",
       "From same direction - all others                                                          4175\n",
       "Vehicle going straight hits pedestrian                                                    3247\n",
       "From same direction - one left turn - one straight                                        2967\n",
       "From same direction - one right turn - one straight                                       2817\n",
       "One car leaving parked position                                                           2665\n",
       "From same direction - both going straight - one stopped - sideswipe                       2254\n",
       "One car leaving driveway access                                                           2241\n",
       "Vehicle turning left hits pedestrian                                                      2231\n",
       "One car entering driveway access                                                          1625\n",
       "From opposite direction - all others                                                      1265\n",
       "Vehicle turning right hits pedestrian                                                     1196\n",
       "Same direction -- both turning right -- both moving -- sideswipe                          1112\n",
       "From opposite direction - both going straight - sideswipe                                  977\n",
       "Vehicle overturned                                                                         853\n",
       "Same direction -- both turning left -- both moving -- sideswipe                            783\n",
       "One car entering parked position                                                           681\n",
       "From opposite direction - both moving - head-on                                            623\n",
       "Other object                                                                               341\n",
       "Same direction -- both turning right -- one stopped -- rear end                            327\n",
       "From opposite direction - one left turn - one right turn                                   272\n",
       "Vehicle Strikes Pedalcyclist                                                               242\n",
       "Vehicle backing hits pedestrian                                                            227\n",
       "                                                                                         ...  \n",
       "From opposite direction - one stopped - head-on                                            131\n",
       "Pedalcyclist Strikes Moving Vehicle                                                        131\n",
       "Vehicle hits Pedestrian - All Other Actions                                                115\n",
       "Railway Vehicle Strikes Vehicle                                                             97\n",
       "All other non-collision                                                                     94\n",
       "Same direction -- both turning left -- one stopped -- rear end                              87\n",
       "Same direction -- both turning left -- both moving -- rear end                              82\n",
       "Same direction -- both turning right -- one stopped -- sideswipe                            69\n",
       "Vehicle Strikes Railway Vehicle                                                             51\n",
       "Vehicle Hits City Road or Construction Machinery                                            47\n",
       "Not stated                                                                                  36\n",
       "Same direction -- both turning left -- one stopped -- sideswipe                             34\n",
       "Domestic animal other (cat, dog, etc)                                                       31\n",
       "Person fell, jumped or was pushed from vehicle                                              30\n",
       "Breakage of any part of the vehicle resulting in injury or in further property damage       28\n",
       "Pedalcyclist Strikes Pedalcyclist or Pedestrian                                             17\n",
       "Railway Vehicle Strikes Pedestrian                                                          12\n",
       "Vehicle Struck by City Road or Construction Machinery                                       11\n",
       "Vehicle Hits Other Road or Construction Machinery                                           10\n",
       "Pedalcyclist All Other Involvements ONE UNIT - PEDALCYCLIST ONLY or PEDALCYCLIST STR        10\n",
       "Vehicle Struck by Other Road or Construction Machinery                                       8\n",
       "Fire started in vehicle                                                                      7\n",
       "All Other Multi Vehicle                                                                      6\n",
       "Strikes or Was Struck by Object from the Load of Another Vehicle                             4\n",
       "Railway Vehicle Strikes Pedalcyclist                                                         2\n",
       "Vehicle Strikes All Other Non-Domestic Animal                                                2\n",
       "Vehicle Hits State Road or Construction Machinery                                            1\n",
       "Vehicle Strikes Deer                                                                         1\n",
       "Non-domestic animal (deer, bear, elk, etc)                                                   1\n",
       "Strikes or Was Struck by a Part of Another Vehicle (Not from Load)                           1\n",
       "Name: ST_COLDESC, Length: 62, dtype: int64"
      ]
     },
     "execution_count": 21,
     "metadata": {},
     "output_type": "execute_result"
    }
   ],
   "source": [
    "acc['ST_COLDESC'].value_counts()"
   ]
  },
  {
   "cell_type": "code",
   "execution_count": 22,
   "metadata": {},
   "outputs": [
    {
     "data": {
      "text/plain": [
       "MOTOR VEHICLE STRUCK MOTOR VEHICLE, FRONT END AT ANGLE          85820\n",
       "MOTOR VEHICLE STRUCK MOTOR VEHICLE, REAR END                    54930\n",
       "NOT ENOUGH INFORMATION / NOT APPLICABLE                         14359\n",
       "MOTOR VEHICLE STRUCK MOTOR VEHICLE, LEFT SIDE SIDESWIPE         10373\n",
       "MOTOR VEHICLE RAN OFF ROAD - HIT FIXED OBJECT                    8930\n",
       "MOTOR VEHCILE STRUCK PEDESTRIAN                                  7113\n",
       "MOTOR VEHICLE STRUCK MOTOR VEHICLE, LEFT SIDE AT ANGLE           6517\n",
       "MOTOR VEHICLE STRUCK OBJECT IN ROAD                              3986\n",
       "MOTOR VEHICLE STRUCK PEDALCYCLIST, FRONT END AT ANGLE            3158\n",
       "MOTOR VEHICLE STRUCK MOTOR VEHICLE, RIGHT SIDE SIDESWIPE         1723\n",
       "MOTOR VEHICLE STRUCK MOTOR VEHICLE, RIGHT SIDE AT ANGLE          1668\n",
       "PEDALCYCLIST STRUCK MOTOR VEHICLE FRONT END AT ANGLE             1384\n",
       "MOTOR VEHICLE OVERTURNED IN ROAD                                  531\n",
       "MOTOR VEHICLE STRUCK PEDALCYCLIST, REAR END                       200\n",
       "PEDALCYCLIST STRUCK MOTOR VEHICLE LEFT SIDE SIDESWIPE             192\n",
       "MOTOR VEHICLE RAN OFF ROAD - NO COLLISION                         161\n",
       "PEDALCYCLIST STRUCK MOTOR VEHICLE REAR END                        144\n",
       "MOTOR VEHICLE STRUCK PEDALCYCLIST, LEFT SIDE SIDESWIPE            128\n",
       "DRIVERLESS VEHICLE RAN OFF ROAD - HIT FIXED OBJECT                110\n",
       "DRIVERLESS VEHICLE STRUCK MOTOR VEHICLE FRONT END AT ANGLE        106\n",
       "MOTOR VEHICLE STRUCK TRAIN                                         98\n",
       "DRIVERLESS VEHICLE STRUCK MOTOR VEHICLE REAR END                   96\n",
       "PEDALCYCLIST STRUCK PEDESTRIAN                                     89\n",
       "PEDALCYCLIST OVERTURNED IN ROAD                                    85\n",
       "DRIVERLESS VEHICLE STRUCK MOTOR VEHICLE LEFT SIDE AT ANGLE         55\n",
       "PEDALCYCLIST STRUCK MOTOR VEHICLE RIGHT SIDE SIDESWIPE             53\n",
       "PEDALCYCLIST STRUCK OBJECT IN ROAD                                 30\n",
       "MOTOR VEHICLE STRUCK PEDALCYCLIST, RIGHT SIDE SIDESWIPE            18\n",
       "DRIVERLESS VEHICLE STRUCK PEDESTRIAN                               15\n",
       "DRIVERLESS VEHICLE STRUCK MOTOR VEHICLE RIGHT SIDE AT ANGLE        12\n",
       "PEDALCYCLIST STRUCK MOTOR VEHICLE LEFT SIDE AT ANGLE                9\n",
       "PEDALCYCLIST STRUCK PEDALCYCLIST REAR END                           7\n",
       "DRIVERLESS VEHICLE STRUCK MOTOR VEHICLE RIGHT SIDE SIDESWIPE        6\n",
       "PEDALCYCLIST RAN OFF ROAD - HIT FIXED OBJECT                        6\n",
       "PEDALCYCLIST STRUCK PEDALCYCLIST FRONT END AT ANGLE                 5\n",
       "DRIVERLESS VEHICLE STRUCK OBJECT IN ROADWAY                         4\n",
       "DRIVERLESS VEHICLE STRUCK MOTOR VEHICLE LEFT SIDE SIDESWIPE         4\n",
       "PEDALCYCLIST STRUCK MOTOR VEHICLE RIGHT SIDE AT ANGLE               2\n",
       "DRIVERLESS VEHICLE RAN OFF ROAD - NO COLLISION                      2\n",
       "Name: SDOT_COLDESC, dtype: int64"
      ]
     },
     "execution_count": 22,
     "metadata": {},
     "output_type": "execute_result"
    }
   ],
   "source": [
    "acc['SDOT_COLDESC'].value_counts()"
   ]
  },
  {
   "cell_type": "code",
   "execution_count": 23,
   "metadata": {},
   "outputs": [],
   "source": [
    "pmvc =['MOTOR VEHICLE STRUCK MOTOR VEHICLE, FRONT END AT ANGLE',\n",
    "      'MOTOR VEHICLE STRUCK MOTOR VEHICLE, REAR END',\n",
    "      'MOTOR VEHICLE STRUCK MOTOR VEHICLE, LEFT SIDE SIDESWIPE',\n",
    "      'MOTOR VEHICLE STRUCK MOTOR VEHICLE, LEFT SIDE AT ANGLE',\n",
    "      'MOTOR VEHICLE STRUCK MOTOR VEHICLE, RIGHT SIDE SIDESWIPE',\n",
    "      'MOTOR VEHICLE STRUCK MOTOR VEHICLE, RIGHT SIDE AT ANGLE']"
   ]
  },
  {
   "cell_type": "code",
   "execution_count": 24,
   "metadata": {},
   "outputs": [],
   "source": [
    "X = acc[acc['ST_COLDESC'].notnull()]"
   ]
  },
  {
   "cell_type": "code",
   "execution_count": 25,
   "metadata": {},
   "outputs": [],
   "source": [
    "X_pmvc = X[X['SDOT_COLDESC'].isin(pmvc)]"
   ]
  },
  {
   "cell_type": "code",
   "execution_count": 26,
   "metadata": {},
   "outputs": [
    {
     "data": {
      "text/plain": [
       "147045"
      ]
     },
     "execution_count": 26,
     "metadata": {},
     "output_type": "execute_result"
    }
   ],
   "source": [
    "len(X_pmvc)"
   ]
  },
  {
   "cell_type": "code",
   "execution_count": 27,
   "metadata": {},
   "outputs": [
    {
     "data": {
      "text/plain": [
       "210"
      ]
     },
     "execution_count": 27,
     "metadata": {},
     "output_type": "execute_result"
    }
   ],
   "source": [
    "X_pmvc['PEDCYLCOUNT'].sum()"
   ]
  },
  {
   "cell_type": "code",
   "execution_count": 28,
   "metadata": {},
   "outputs": [
    {
     "data": {
      "text/plain": [
       "291"
      ]
     },
     "execution_count": 28,
     "metadata": {},
     "output_type": "execute_result"
    }
   ],
   "source": [
    "X_pmvc['PEDCOUNT'].sum()"
   ]
  },
  {
   "cell_type": "code",
   "execution_count": 29,
   "metadata": {},
   "outputs": [
    {
     "data": {
      "text/plain": [
       "<matplotlib.collections.PathCollection at 0x1a28b02860>"
      ]
     },
     "execution_count": 29,
     "metadata": {},
     "output_type": "execute_result"
    },
    {
     "data": {
      "image/png": "[encoded data removed]",
      "text/plain": [
       "<Figure size 432x288 with 1 Axes>"
      ]
     },
     "metadata": {
      "needs_background": "light"
     },
     "output_type": "display_data"
    }
   ],
   "source": [
    "plt.scatter(X['ST_COLDESC'],X['ST_COLCODE'])"
   ]
  },
  {
   "cell_type": "markdown",
   "metadata": {},
   "source": [
    "- perfect correlation. ST_COLDOCE could br used to complete where ST_COLDESC is missing (about 14000 rows)"
   ]
  },
  {
   "cell_type": "code",
   "execution_count": 30,
   "metadata": {},
   "outputs": [
    {
     "data": {
      "text/plain": [
       "<matplotlib.collections.PathCollection at 0x1a29890e80>"
      ]
     },
     "execution_count": 30,
     "metadata": {},
     "output_type": "execute_result"
    },
    {
     "data": {
      "image/png": "[encoded data removed]",
      "text/plain": [
       "<Figure size 432x288 with 1 Axes>"
      ]
     },
     "metadata": {
      "needs_background": "light"
     },
     "output_type": "display_data"
    }
   ],
   "source": [
    "Xd=acc[acc['SDOT_COLCODE'].notnull()]\n",
    "plt.scatter(Xd['SDOT_COLCODE'],Xd['SDOT_COLDESC'])"
   ]
  },
  {
   "cell_type": "markdown",
   "metadata": {},
   "source": [
    "(no such luck here, but also it doesn't matter: they are almost all filled. We will ignore SDOT_COLCODE.)"
   ]
  },
  {
   "cell_type": "code",
   "execution_count": 31,
   "metadata": {},
   "outputs": [
    {
     "data": {
      "text/plain": [
       "array([2004, 2005, 2006, 2007, 2008, 2009, 2010, 2011, 2012, 2013, 2014,\n",
       "       2015, 2016, 2017, 2018, 2019])"
      ]
     },
     "execution_count": 31,
     "metadata": {},
     "output_type": "execute_result"
    }
   ],
   "source": [
    "years=X['year'].unique()\n",
    "years.sort()\n",
    "years"
   ]
  },
  {
   "cell_type": "code",
   "execution_count": 58,
   "metadata": {},
   "outputs": [],
   "source": [
    "mwoc =(X['SDOT_COLDESC'].str.contains('MOTOR VEHICLE')) &  (~X['SDOT_COLDESC'].str.contains('PEDALCYCLIST')) "
   ]
  },
  {
   "cell_type": "code",
   "execution_count": 33,
   "metadata": {},
   "outputs": [],
   "source": [
    "m_cy = X['SDOT_COLDESC'].str.contains('PEDALCYCLIST')"
   ]
  },
  {
   "cell_type": "code",
   "execution_count": 34,
   "metadata": {},
   "outputs": [
    {
     "data": {
      "text/plain": [
       "92         Cycles\n",
       "133    Pedestrian\n",
       "162        Cycles\n",
       "202        Cycles\n",
       "230    Pedestrian\n",
       "Name: COLLISIONTYPE, dtype: object"
      ]
     },
     "execution_count": 34,
     "metadata": {},
     "output_type": "execute_result"
    }
   ],
   "source": [
    "X[m_cy]['COLLISIONTYPE'].head()"
   ]
  },
  {
   "cell_type": "code",
   "execution_count": 35,
   "metadata": {},
   "outputs": [
    {
     "data": {
      "text/plain": [
       "5154"
      ]
     },
     "execution_count": 35,
     "metadata": {},
     "output_type": "execute_result"
    }
   ],
   "source": [
    "X[m_cy]['PEDCYLCOUNT'].sum()"
   ]
  },
  {
   "cell_type": "code",
   "execution_count": 36,
   "metadata": {},
   "outputs": [
    {
     "data": {
      "text/plain": [
       "5234"
      ]
     },
     "execution_count": 36,
     "metadata": {},
     "output_type": "execute_result"
    }
   ],
   "source": [
    "len(X[m_cy])"
   ]
  },
  {
   "cell_type": "code",
   "execution_count": 40,
   "metadata": {},
   "outputs": [],
   "source": [
    "X_cyd = X[m_cy]"
   ]
  },
  {
   "cell_type": "code",
   "execution_count": 42,
   "metadata": {},
   "outputs": [
    {
     "data": {
      "text/plain": [
       "5110"
      ]
     },
     "execution_count": 42,
     "metadata": {},
     "output_type": "execute_result"
    }
   ],
   "source": [
    "len(X_cyd[X_cyd['PEDCYLCOUNT']>0])"
   ]
  },
  {
   "cell_type": "code",
   "execution_count": 43,
   "metadata": {},
   "outputs": [
    {
     "data": {
      "text/plain": [
       "5504"
      ]
     },
     "execution_count": 43,
     "metadata": {},
     "output_type": "execute_result"
    }
   ],
   "source": [
    "len(X[X['PEDCYLCOUNT']>0])"
   ]
  },
  {
   "cell_type": "code",
   "execution_count": null,
   "metadata": {},
   "outputs": [],
   "source": [
    "X[(X['PEDCYLCOUNT']>0 & (~X['SDOT_COLDESC'].str.contains('PEDALCYCLIST')))][['PEDCYLCOUNT','SDOT_COLDESC']]"
   ]
  },
  {
   "cell_type": "code",
   "execution_count": null,
   "metadata": {},
   "outputs": [],
   "source": [
    "X[~X['SDOT_COLDESC'].str.contains('PEDALCYCLIST')][['PEDCYLCOUNT','SDOT_COLDESC']]"
   ]
  },
  {
   "cell_type": "code",
   "execution_count": 69,
   "metadata": {},
   "outputs": [],
   "source": [
    "Xnc=X[~X['SDOT_COLDESC'].str.contains('PEDALCYCLIST')]"
   ]
  },
  {
   "cell_type": "code",
   "execution_count": 92,
   "metadata": {},
   "outputs": [],
   "source": []
  },
  {
   "cell_type": "code",
   "execution_count": 87,
   "metadata": {},
   "outputs": [],
   "source": [
    "X_dirty_cases=Xnc[Xnc['PEDCYLCOUNT']>0][['PEDCOUNT','PEDCYLCOUNT','SDOT_COLDESC','COLLISIONTYPE','ST_COLDESC']]"
   ]
  },
  {
   "cell_type": "code",
   "execution_count": 88,
   "metadata": {},
   "outputs": [
    {
     "data": {
      "text/plain": [
       "PEDCOUNT                                                         0\n",
       "PEDCYLCOUNT                                                      1\n",
       "SDOT_COLDESC     MOTOR VEHICLE STRUCK MOTOR VEHICLE, FRONT END ...\n",
       "COLLISIONTYPE                                           Pedestrian\n",
       "ST_COLDESC                            Vehicle Strikes Pedalcyclist\n",
       "Name: 1207, dtype: object"
      ]
     },
     "execution_count": 88,
     "metadata": {},
     "output_type": "execute_result"
    }
   ],
   "source": [
    "X_dirty_cases.loc[1207]"
   ]
  },
  {
   "cell_type": "code",
   "execution_count": 77,
   "metadata": {},
   "outputs": [
    {
     "data": {
      "text/plain": [
       "MOTOR VEHICLE STRUCK MOTOR VEHICLE, FRONT END AT ANGLE         138\n",
       "NOT ENOUGH INFORMATION / NOT APPLICABLE                        124\n",
       "MOTOR VEHICLE STRUCK MOTOR VEHICLE, REAR END                    51\n",
       "MOTOR VEHCILE STRUCK PEDESTRIAN                                 41\n",
       "MOTOR VEHICLE STRUCK MOTOR VEHICLE, LEFT SIDE SIDESWIPE         13\n",
       "MOTOR VEHICLE STRUCK OBJECT IN ROAD                             10\n",
       "MOTOR VEHICLE OVERTURNED IN ROAD                                 7\n",
       "MOTOR VEHICLE RAN OFF ROAD - HIT FIXED OBJECT                    3\n",
       "MOTOR VEHICLE STRUCK MOTOR VEHICLE, RIGHT SIDE SIDESWIPE         2\n",
       "MOTOR VEHICLE STRUCK MOTOR VEHICLE, RIGHT SIDE AT ANGLE          2\n",
       "MOTOR VEHICLE STRUCK MOTOR VEHICLE, LEFT SIDE AT ANGLE           1\n",
       "DRIVERLESS VEHICLE STRUCK MOTOR VEHICLE LEFT SIDE SIDESWIPE      1\n",
       "DRIVERLESS VEHICLE STRUCK MOTOR VEHICLE FRONT END AT ANGLE       1\n",
       "Name: SDOT_COLDESC, dtype: int64"
      ]
     },
     "execution_count": 77,
     "metadata": {},
     "output_type": "execute_result"
    }
   ],
   "source": [
    "(Xnc[Xnc['PEDCYLCOUNT']>0]['SDOT_COLDESC']).value_counts()"
   ]
  },
  {
   "cell_type": "markdown",
   "metadata": {},
   "source": [
    "These cases (except the 'NOT ENOUGH INFORMATION' ones) probably had a cyclist involved, but not damaged. Or are errors. We can leave them out."
   ]
  },
  {
   "cell_type": "code",
   "execution_count": null,
   "metadata": {},
   "outputs": [],
   "source": [
    "(X['SDOT_COLDESC'].str.contains('MOTOR VEHICLE')) &  (~X['SDOT_COLDESC'].str.contains('PEDALCYCLIST')) "
   ]
  },
  {
   "cell_type": "markdown",
   "metadata": {},
   "source": [
    "--------------"
   ]
  },
  {
   "cell_type": "markdown",
   "metadata": {},
   "source": [
    "Let's look into the cases where cyclists are mentioned in SDOT_COLDESC. These seem to be the best candidates for clyclist cases."
   ]
  },
  {
   "cell_type": "code",
   "execution_count": null,
   "metadata": {},
   "outputs": [],
   "source": [
    "Xc = X[X['SDOT_COLDESC'].str.contains('PEDALCYCLIST')]"
   ]
  },
  {
   "cell_type": "code",
   "execution_count": 95,
   "metadata": {},
   "outputs": [
    {
     "data": {
      "text/plain": [
       "5234"
      ]
     },
     "execution_count": 95,
     "metadata": {},
     "output_type": "execute_result"
    }
   ],
   "source": [
    "len(Xc)"
   ]
  },
  {
   "cell_type": "code",
   "execution_count": 94,
   "metadata": {},
   "outputs": [
    {
     "data": {
      "text/plain": [
       "MOTOR VEHICLE STRUCK PEDALCYCLIST, FRONT END AT ANGLE      2984\n",
       "PEDALCYCLIST STRUCK MOTOR VEHICLE FRONT END AT ANGLE       1330\n",
       "MOTOR VEHICLE STRUCK PEDALCYCLIST, REAR END                 195\n",
       "PEDALCYCLIST STRUCK MOTOR VEHICLE LEFT SIDE SIDESWIPE       182\n",
       "PEDALCYCLIST STRUCK MOTOR VEHICLE REAR END                  135\n",
       "MOTOR VEHICLE STRUCK PEDALCYCLIST, LEFT SIDE SIDESWIPE      126\n",
       "PEDALCYCLIST STRUCK PEDESTRIAN                               82\n",
       "PEDALCYCLIST OVERTURNED IN ROAD                              79\n",
       "PEDALCYCLIST STRUCK MOTOR VEHICLE RIGHT SIDE SIDESWIPE       49\n",
       "PEDALCYCLIST STRUCK OBJECT IN ROAD                           27\n",
       "MOTOR VEHICLE STRUCK PEDALCYCLIST, RIGHT SIDE SIDESWIPE      17\n",
       "PEDALCYCLIST STRUCK MOTOR VEHICLE LEFT SIDE AT ANGLE          9\n",
       "PEDALCYCLIST STRUCK PEDALCYCLIST REAR END                     7\n",
       "PEDALCYCLIST STRUCK PEDALCYCLIST FRONT END AT ANGLE           5\n",
       "PEDALCYCLIST RAN OFF ROAD - HIT FIXED OBJECT                  5\n",
       "PEDALCYCLIST STRUCK MOTOR VEHICLE RIGHT SIDE AT ANGLE         2\n",
       "Name: SDOT_COLDESC, dtype: int64"
      ]
     },
     "execution_count": 94,
     "metadata": {},
     "output_type": "execute_result"
    }
   ],
   "source": [
    "Xc['SDOT_COLDESC'].value_counts()"
   ]
  },
  {
   "cell_type": "code",
   "execution_count": null,
   "metadata": {},
   "outputs": [],
   "source": [
    "Xc[['PEDCYLCOUNT','SDOT_COLDESC','COLLISIONTYPE']]"
   ]
  },
  {
   "cell_type": "code",
   "execution_count": 98,
   "metadata": {},
   "outputs": [
    {
     "data": {
      "text/plain": [
       "1    5066\n",
       "0     124\n",
       "2      44\n",
       "Name: PEDCYLCOUNT, dtype: int64"
      ]
     },
     "execution_count": 98,
     "metadata": {},
     "output_type": "execute_result"
    }
   ],
   "source": [
    "Xc['PEDCYLCOUNT'].value_counts()"
   ]
  },
  {
   "cell_type": "code",
   "execution_count": 99,
   "metadata": {},
   "outputs": [
    {
     "data": {
      "text/plain": [
       "Cycles        4854\n",
       "Pedestrian     244\n",
       "Other           44\n",
       "Angles          31\n",
       "Left Turn       24\n",
       "Parked Car      11\n",
       "Sideswipe       10\n",
       "Rear Ended       7\n",
       "Right Turn       5\n",
       "Head On          4\n",
       "Name: COLLISIONTYPE, dtype: int64"
      ]
     },
     "execution_count": 99,
     "metadata": {},
     "output_type": "execute_result"
    }
   ],
   "source": [
    "Xc['COLLISIONTYPE'].value_counts()"
   ]
  },
  {
   "cell_type": "markdown",
   "metadata": {},
   "source": [
    "COLLISIONTYPE is apparently not well defined. Let's ignore it."
   ]
  },
  {
   "cell_type": "code",
   "execution_count": 106,
   "metadata": {},
   "outputs": [
    {
     "data": {
      "text/plain": [
       "Unnamed: 0                                                 23482\n",
       "OBJECTID                                                   23483\n",
       "INCKEY                                                     36683\n",
       "COLDETKEY                                                  36683\n",
       "REPORTNO                                                 1930990\n",
       "STATUS                                                   Matched\n",
       "ADDRTYPE                                                   Block\n",
       "INTKEY                                                       NaN\n",
       "LOCATION           20TH AVE NE BETWEEN NE 52ND ST AND NE 54TH ST\n",
       "EXCEPTRSNCODE                                                NaN\n",
       "EXCEPTRSNDESC                                                NaN\n",
       "SEVERITYCODE                                                   1\n",
       "SEVERITYDESC                      Property Damage Only Collision\n",
       "COLLISIONTYPE                                         Parked Car\n",
       "PERSONCOUNT                                                    2\n",
       "PEDCOUNT                                                       0\n",
       "PEDCYLCOUNT                                                    0\n",
       "VEHCOUNT                                                       2\n",
       "INJURIES                                                       0\n",
       "SERIOUSINJURIES                                                0\n",
       "FATALITIES                                                     0\n",
       "INCDATE                                      2005-01-11T00:00:00\n",
       "INCDTTM                                     1/11/2005 2:51:00 PM\n",
       "JUNCTIONTYPE             Mid-Block (not related to intersection)\n",
       "SDOT_COLCODE                                                  54\n",
       "SDOT_COLDESC          PEDALCYCLIST STRUCK MOTOR VEHICLE REAR END\n",
       "INATTENTIONIND                                               NaN\n",
       "UNDERINFL                                                      0\n",
       "WEATHER                                   Clear or Partly Cloudy\n",
       "ROADCOND                                                     Dry\n",
       "LIGHTCOND                                               Daylight\n",
       "PEDROWNOTGRNT                                                NaN\n",
       "SDOTCOLNUM                                           5.01102e+06\n",
       "SPEEDING                                                     NaN\n",
       "ST_COLCODE                                                    32\n",
       "ST_COLDESC                                One parked--one moving\n",
       "SEGLANEKEY                                                     0\n",
       "CROSSWALKKEY                                                   0\n",
       "HITPARKEDCAR                                                   N\n",
       "longitude                                               -122.306\n",
       "latitude                                                 47.6672\n",
       "year                                                        2005\n",
       "month                                                          1\n",
       "week                                                           2\n",
       "day                                                           11\n",
       "hour                                                          14\n",
       "weekday                                                        1\n",
       "Name: 22804, dtype: object"
      ]
     },
     "execution_count": 106,
     "metadata": {},
     "output_type": "execute_result"
    }
   ],
   "source": [
    "Xc[Xc['PEDCYLCOUNT']==0].iloc[5]"
   ]
  },
  {
   "cell_type": "markdown",
   "metadata": {},
   "source": [
    "The examples with PEDCYLCOUNT = 0 are pretty consistent, exept the PEDCYLCOUNT. They all seem to be actually cycling accidents. We can keep them in our cyclist collision set."
   ]
  },
  {
   "cell_type": "code",
   "execution_count": 107,
   "metadata": {},
   "outputs": [
    {
     "ename": "ValueError",
     "evalue": "cannot index with vector containing NA / NaN values",
     "output_type": "error",
     "traceback": [
      "\u001b[0;31m---------------------------------------------------------------------------\u001b[0m",
      "\u001b[0;31mValueError\u001b[0m                                Traceback (most recent call last)",
      "\u001b[0;32m<ipython-input-107-9601fd28b108>\u001b[0m in \u001b[0;36m<module>\u001b[0;34m\u001b[0m\n\u001b[0;32m----> 1\u001b[0;31m \u001b[0mX_pytest\u001b[0m \u001b[0;34m=\u001b[0m \u001b[0macc\u001b[0m\u001b[0;34m[\u001b[0m\u001b[0macc\u001b[0m\u001b[0;34m[\u001b[0m\u001b[0;34m'SDOT_COLDESC'\u001b[0m\u001b[0;34m]\u001b[0m\u001b[0;34m.\u001b[0m\u001b[0mstr\u001b[0m\u001b[0;34m.\u001b[0m\u001b[0mcontains\u001b[0m\u001b[0;34m(\u001b[0m\u001b[0;34m'PEDALCYCLIST'\u001b[0m\u001b[0;34m)\u001b[0m\u001b[0;34m]\u001b[0m\u001b[0;34m\u001b[0m\u001b[0;34m\u001b[0m\u001b[0m\n\u001b[0m",
      "\u001b[0;32m~/anaconda3/lib/python3.7/site-packages/pandas/core/frame.py\u001b[0m in \u001b[0;36m__getitem__\u001b[0;34m(self, key)\u001b[0m\n\u001b[1;32m   2915\u001b[0m \u001b[0;34m\u001b[0m\u001b[0m\n\u001b[1;32m   2916\u001b[0m         \u001b[0;31m# Do we have a (boolean) 1d indexer?\u001b[0m\u001b[0;34m\u001b[0m\u001b[0;34m\u001b[0m\u001b[0;34m\u001b[0m\u001b[0m\n\u001b[0;32m-> 2917\u001b[0;31m         \u001b[0;32mif\u001b[0m \u001b[0mcom\u001b[0m\u001b[0;34m.\u001b[0m\u001b[0mis_bool_indexer\u001b[0m\u001b[0;34m(\u001b[0m\u001b[0mkey\u001b[0m\u001b[0;34m)\u001b[0m\u001b[0;34m:\u001b[0m\u001b[0;34m\u001b[0m\u001b[0;34m\u001b[0m\u001b[0m\n\u001b[0m\u001b[1;32m   2918\u001b[0m             \u001b[0;32mreturn\u001b[0m \u001b[0mself\u001b[0m\u001b[0;34m.\u001b[0m\u001b[0m_getitem_bool_array\u001b[0m\u001b[0;34m(\u001b[0m\u001b[0mkey\u001b[0m\u001b[0;34m)\u001b[0m\u001b[0;34m\u001b[0m\u001b[0;34m\u001b[0m\u001b[0m\n\u001b[1;32m   2919\u001b[0m \u001b[0;34m\u001b[0m\u001b[0m\n",
      "\u001b[0;32m~/anaconda3/lib/python3.7/site-packages/pandas/core/common.py\u001b[0m in \u001b[0;36mis_bool_indexer\u001b[0;34m(key)\u001b[0m\n\u001b[1;32m    122\u001b[0m             \u001b[0;32mif\u001b[0m \u001b[0;32mnot\u001b[0m \u001b[0mlib\u001b[0m\u001b[0;34m.\u001b[0m\u001b[0mis_bool_array\u001b[0m\u001b[0;34m(\u001b[0m\u001b[0mkey\u001b[0m\u001b[0;34m)\u001b[0m\u001b[0;34m:\u001b[0m\u001b[0;34m\u001b[0m\u001b[0;34m\u001b[0m\u001b[0m\n\u001b[1;32m    123\u001b[0m                 \u001b[0;32mif\u001b[0m \u001b[0misna\u001b[0m\u001b[0;34m(\u001b[0m\u001b[0mkey\u001b[0m\u001b[0;34m)\u001b[0m\u001b[0;34m.\u001b[0m\u001b[0many\u001b[0m\u001b[0;34m(\u001b[0m\u001b[0;34m)\u001b[0m\u001b[0;34m:\u001b[0m\u001b[0;34m\u001b[0m\u001b[0;34m\u001b[0m\u001b[0m\n\u001b[0;32m--> 124\u001b[0;31m                     \u001b[0;32mraise\u001b[0m \u001b[0mValueError\u001b[0m\u001b[0;34m(\u001b[0m\u001b[0mna_msg\u001b[0m\u001b[0;34m)\u001b[0m\u001b[0;34m\u001b[0m\u001b[0;34m\u001b[0m\u001b[0m\n\u001b[0m\u001b[1;32m    125\u001b[0m                 \u001b[0;32mreturn\u001b[0m \u001b[0;32mFalse\u001b[0m\u001b[0;34m\u001b[0m\u001b[0;34m\u001b[0m\u001b[0m\n\u001b[1;32m    126\u001b[0m             \u001b[0;32mreturn\u001b[0m \u001b[0;32mTrue\u001b[0m\u001b[0;34m\u001b[0m\u001b[0;34m\u001b[0m\u001b[0m\n",
      "\u001b[0;31mValueError\u001b[0m: cannot index with vector containing NA / NaN values"
     ]
    }
   ],
   "source": [
    "X_pytest = acc[acc['SDOT_COLDESC'].str.contains('PEDALCYCLIST')]"
   ]
  },
  {
   "cell_type": "code",
   "execution_count": 111,
   "metadata": {},
   "outputs": [
    {
     "data": {
      "text/html": [
       "<div>\n",
       "<style scoped>\n",
       "    .dataframe tbody tr th:only-of-type {\n",
       "        vertical-align: middle;\n",
       "    }\n",
       "\n",
       "    .dataframe tbody tr th {\n",
       "        vertical-align: top;\n",
       "    }\n",
       "\n",
       "    .dataframe thead th {\n",
       "        text-align: right;\n",
       "    }\n",
       "</style>\n",
       "<table border=\"1\" class=\"dataframe\">\n",
       "  <thead>\n",
       "    <tr style=\"text-align: right;\">\n",
       "      <th></th>\n",
       "      <th>Unnamed: 0</th>\n",
       "      <th>OBJECTID</th>\n",
       "      <th>INCKEY</th>\n",
       "      <th>COLDETKEY</th>\n",
       "      <th>REPORTNO</th>\n",
       "      <th>STATUS</th>\n",
       "      <th>ADDRTYPE</th>\n",
       "      <th>INTKEY</th>\n",
       "      <th>LOCATION</th>\n",
       "      <th>EXCEPTRSNCODE</th>\n",
       "      <th>...</th>\n",
       "      <th>CROSSWALKKEY</th>\n",
       "      <th>HITPARKEDCAR</th>\n",
       "      <th>longitude</th>\n",
       "      <th>latitude</th>\n",
       "      <th>year</th>\n",
       "      <th>month</th>\n",
       "      <th>week</th>\n",
       "      <th>day</th>\n",
       "      <th>hour</th>\n",
       "      <th>weekday</th>\n",
       "    </tr>\n",
       "  </thead>\n",
       "  <tbody>\n",
       "    <tr>\n",
       "      <th>2402</th>\n",
       "      <td>2467</td>\n",
       "      <td>1468</td>\n",
       "      <td>3663</td>\n",
       "      <td>3663</td>\n",
       "      <td>1787335</td>\n",
       "      <td>Matched</td>\n",
       "      <td>Intersection</td>\n",
       "      <td>29797.0</td>\n",
       "      <td>BROADWAY AND CHERRY ST</td>\n",
       "      <td>NaN</td>\n",
       "      <td>...</td>\n",
       "      <td>0</td>\n",
       "      <td>N</td>\n",
       "      <td>-122.320755</td>\n",
       "      <td>47.608073</td>\n",
       "      <td>2003</td>\n",
       "      <td>10</td>\n",
       "      <td>41</td>\n",
       "      <td>6</td>\n",
       "      <td>0</td>\n",
       "      <td>0</td>\n",
       "    </tr>\n",
       "  </tbody>\n",
       "</table>\n",
       "<p>1 rows × 47 columns</p>\n",
       "</div>"
      ],
      "text/plain": [
       "      Unnamed: 0  OBJECTID  INCKEY  COLDETKEY REPORTNO   STATUS      ADDRTYPE  \\\n",
       "2402        2467      1468    3663       3663  1787335  Matched  Intersection   \n",
       "\n",
       "       INTKEY                LOCATION EXCEPTRSNCODE  ... CROSSWALKKEY  \\\n",
       "2402  29797.0  BROADWAY AND CHERRY ST           NaN  ...            0   \n",
       "\n",
       "     HITPARKEDCAR   longitude   latitude  year  month  week  day  hour  \\\n",
       "2402            N -122.320755  47.608073  2003     10    41    6     0   \n",
       "\n",
       "      weekday  \n",
       "2402        0  \n",
       "\n",
       "[1 rows x 47 columns]"
      ]
     },
     "execution_count": 111,
     "metadata": {},
     "output_type": "execute_result"
    }
   ],
   "source": [
    "acc[acc['SDOT_COLDESC'].isnull()]"
   ]
  },
  {
   "cell_type": "code",
   "execution_count": 113,
   "metadata": {},
   "outputs": [
    {
     "data": {
      "text/plain": [
       "Unnamed: 0                           2467\n",
       "OBJECTID                             1468\n",
       "INCKEY                               3663\n",
       "COLDETKEY                            3663\n",
       "REPORTNO                          1787335\n",
       "STATUS                            Matched\n",
       "ADDRTYPE                     Intersection\n",
       "INTKEY                              29797\n",
       "LOCATION           BROADWAY AND CHERRY ST\n",
       "EXCEPTRSNCODE                         NaN\n",
       "EXCEPTRSNDESC                         NaN\n",
       "SEVERITYCODE                            0\n",
       "SEVERITYDESC                      Unknown\n",
       "COLLISIONTYPE                         NaN\n",
       "PERSONCOUNT                             0\n",
       "PEDCOUNT                                0\n",
       "PEDCYLCOUNT                             0\n",
       "VEHCOUNT                                0\n",
       "INJURIES                                0\n",
       "SERIOUSINJURIES                         0\n",
       "FATALITIES                              0\n",
       "INCDATE               2003-10-06T00:00:00\n",
       "INCDTTM                         10/6/2003\n",
       "JUNCTIONTYPE                          NaN\n",
       "SDOT_COLCODE                          NaN\n",
       "SDOT_COLDESC                          NaN\n",
       "INATTENTIONIND                        NaN\n",
       "UNDERINFL                             NaN\n",
       "WEATHER                               NaN\n",
       "ROADCOND                              NaN\n",
       "LIGHTCOND                             NaN\n",
       "PEDROWNOTGRNT                           Y\n",
       "SDOTCOLNUM                      3.279e+06\n",
       "SPEEDING                              NaN\n",
       "ST_COLCODE                            NaN\n",
       "ST_COLDESC                            NaN\n",
       "SEGLANEKEY                              0\n",
       "CROSSWALKKEY                            0\n",
       "HITPARKEDCAR                            N\n",
       "longitude                        -122.321\n",
       "latitude                          47.6081\n",
       "year                                 2003\n",
       "month                                  10\n",
       "week                                   41\n",
       "day                                     6\n",
       "hour                                    0\n",
       "weekday                                 0\n",
       "Name: 2402, dtype: object"
      ]
     },
     "execution_count": 113,
     "metadata": {},
     "output_type": "execute_result"
    }
   ],
   "source": [
    "acc.iloc[2402]"
   ]
  },
  {
   "cell_type": "markdown",
   "metadata": {},
   "source": [
    "------------"
   ]
  },
  {
   "cell_type": "code",
   "execution_count": null,
   "metadata": {},
   "outputs": [],
   "source": []
  },
  {
   "cell_type": "code",
   "execution_count": null,
   "metadata": {},
   "outputs": [],
   "source": []
  }
 ],
 "metadata": {
  "kernelspec": {
   "display_name": "Python 3",
   "language": "python",
   "name": "python3"
  },
  "language_info": {
   "codemirror_mode": {
    "name": "ipython",
    "version": 3
   },
   "file_extension": ".py",
   "mimetype": "text/x-python",
   "name": "python",
   "nbconvert_exporter": "python",
   "pygments_lexer": "ipython3",
   "version": "3.7.3"
  }
 },
 "nbformat": 4,
 "nbformat_minor": 2
}
