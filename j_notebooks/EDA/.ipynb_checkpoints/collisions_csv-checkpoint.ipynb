{
 "cells": [
  {
   "cell_type": "code",
   "execution_count": 1,
   "metadata": {},
   "outputs": [],
   "source": [
    "import pandas as pd\n",
    "import numpy as np\n",
    "import matplotlib.pyplot as plt\n",
    "import geopandas as gpd\n",
    "from shapely.geometry import Point, Polygon, LineString\n",
    "import seaborn as sns"
   ]
  },
  {
   "cell_type": "code",
   "execution_count": 11,
   "metadata": {},
   "outputs": [],
   "source": [
    "df_coll = pd.read_csv('data/Collisions.csv')"
   ]
  },
  {
   "cell_type": "code",
   "execution_count": 4,
   "metadata": {},
   "outputs": [
    {
     "data": {
      "text/html": [
       "<div>\n",
       "<style scoped>\n",
       "    .dataframe tbody tr th:only-of-type {\n",
       "        vertical-align: middle;\n",
       "    }\n",
       "\n",
       "    .dataframe tbody tr th {\n",
       "        vertical-align: top;\n",
       "    }\n",
       "\n",
       "    .dataframe thead th {\n",
       "        text-align: right;\n",
       "    }\n",
       "</style>\n",
       "<table border=\"1\" class=\"dataframe\">\n",
       "  <thead>\n",
       "    <tr style=\"text-align: right;\">\n",
       "      <th></th>\n",
       "      <th>X</th>\n",
       "      <th>Y</th>\n",
       "      <th>OBJECTID</th>\n",
       "      <th>INCKEY</th>\n",
       "      <th>COLDETKEY</th>\n",
       "      <th>REPORTNO</th>\n",
       "      <th>STATUS</th>\n",
       "      <th>ADDRTYPE</th>\n",
       "      <th>INTKEY</th>\n",
       "      <th>LOCATION</th>\n",
       "      <th>...</th>\n",
       "      <th>ROADCOND</th>\n",
       "      <th>LIGHTCOND</th>\n",
       "      <th>PEDROWNOTGRNT</th>\n",
       "      <th>SDOTCOLNUM</th>\n",
       "      <th>SPEEDING</th>\n",
       "      <th>ST_COLCODE</th>\n",
       "      <th>ST_COLDESC</th>\n",
       "      <th>SEGLANEKEY</th>\n",
       "      <th>CROSSWALKKEY</th>\n",
       "      <th>HITPARKEDCAR</th>\n",
       "    </tr>\n",
       "  </thead>\n",
       "  <tbody>\n",
       "    <tr>\n",
       "      <th>0</th>\n",
       "      <td>-122.351713</td>\n",
       "      <td>47.559415</td>\n",
       "      <td>1</td>\n",
       "      <td>308268</td>\n",
       "      <td>309548</td>\n",
       "      <td>E871216</td>\n",
       "      <td>Matched</td>\n",
       "      <td>Intersection</td>\n",
       "      <td>33048.0</td>\n",
       "      <td>SW EDMUNDS ST AND WEST MARGINAL WAY SW</td>\n",
       "      <td>...</td>\n",
       "      <td>Dry</td>\n",
       "      <td>Dusk</td>\n",
       "      <td>NaN</td>\n",
       "      <td>NaN</td>\n",
       "      <td>NaN</td>\n",
       "      <td>10</td>\n",
       "      <td>Entering at angle</td>\n",
       "      <td>0</td>\n",
       "      <td>0</td>\n",
       "      <td>N</td>\n",
       "    </tr>\n",
       "  </tbody>\n",
       "</table>\n",
       "<p>1 rows × 40 columns</p>\n",
       "</div>"
      ],
      "text/plain": [
       "            X          Y  OBJECTID  INCKEY  COLDETKEY REPORTNO   STATUS  \\\n",
       "0 -122.351713  47.559415         1  308268     309548  E871216  Matched   \n",
       "\n",
       "       ADDRTYPE   INTKEY                                LOCATION  ...  \\\n",
       "0  Intersection  33048.0  SW EDMUNDS ST AND WEST MARGINAL WAY SW  ...   \n",
       "\n",
       "  ROADCOND LIGHTCOND PEDROWNOTGRNT SDOTCOLNUM SPEEDING  ST_COLCODE  \\\n",
       "0      Dry      Dusk           NaN        NaN      NaN          10   \n",
       "\n",
       "          ST_COLDESC  SEGLANEKEY  CROSSWALKKEY  HITPARKEDCAR  \n",
       "0  Entering at angle           0             0             N  \n",
       "\n",
       "[1 rows x 40 columns]"
      ]
     },
     "execution_count": 4,
     "metadata": {},
     "output_type": "execute_result"
    }
   ],
   "source": [
    "df_coll.head(1)"
   ]
  },
  {
   "cell_type": "code",
   "execution_count": null,
   "metadata": {},
   "outputs": [],
   "source": []
  },
  {
   "cell_type": "code",
   "execution_count": 6,
   "metadata": {},
   "outputs": [
    {
     "data": {
      "text/plain": [
       "Index(['X', 'Y', 'OBJECTID', 'INCKEY', 'COLDETKEY', 'REPORTNO', 'STATUS',\n",
       "       'ADDRTYPE', 'INTKEY', 'LOCATION', 'EXCEPTRSNCODE', 'EXCEPTRSNDESC',\n",
       "       'SEVERITYCODE', 'SEVERITYDESC', 'COLLISIONTYPE', 'PERSONCOUNT',\n",
       "       'PEDCOUNT', 'PEDCYLCOUNT', 'VEHCOUNT', 'INJURIES', 'SERIOUSINJURIES',\n",
       "       'FATALITIES', 'INCDATE', 'INCDTTM', 'JUNCTIONTYPE', 'SDOT_COLCODE',\n",
       "       'SDOT_COLDESC', 'INATTENTIONIND', 'UNDERINFL', 'WEATHER', 'ROADCOND',\n",
       "       'LIGHTCOND', 'PEDROWNOTGRNT', 'SDOTCOLNUM', 'SPEEDING', 'ST_COLCODE',\n",
       "       'ST_COLDESC', 'SEGLANEKEY', 'CROSSWALKKEY', 'HITPARKEDCAR'],\n",
       "      dtype='object')"
      ]
     },
     "execution_count": 6,
     "metadata": {},
     "output_type": "execute_result"
    }
   ],
   "source": [
    "df_coll.columns"
   ]
  },
  {
   "cell_type": "code",
   "execution_count": 7,
   "metadata": {},
   "outputs": [
    {
     "data": {
      "text/plain": [
       "array(['Clear or Partly Cloudy', 'Raining', nan, 'Overcast', 'Unknown',\n",
       "       'Severe Crosswind', 'Fog/Smog/Smoke',\n",
       "       'Blowing Sand or Dirt or Snow', 'Other', 'Snowing',\n",
       "       'Sleet/Hail/Freezing Rain'], dtype=object)"
      ]
     },
     "execution_count": 7,
     "metadata": {},
     "output_type": "execute_result"
    }
   ],
   "source": [
    "df_coll.WEATHER.unique()"
   ]
  },
  {
   "cell_type": "code",
   "execution_count": 9,
   "metadata": {},
   "outputs": [
    {
     "data": {
      "text/plain": [
       "X                  199906\n",
       "Y                  199906\n",
       "OBJECTID           207160\n",
       "INCKEY             207160\n",
       "COLDETKEY          207160\n",
       "REPORTNO           207160\n",
       "STATUS             207160\n",
       "ADDRTYPE           203548\n",
       "INTKEY              66842\n",
       "LOCATION           202732\n",
       "EXCEPTRSNCODE       86756\n",
       "EXCEPTRSNDESC       10542\n",
       "SEVERITYCODE       207159\n",
       "SEVERITYDESC       207160\n",
       "COLLISIONTYPE      183002\n",
       "PERSONCOUNT        207160\n",
       "PEDCOUNT           207160\n",
       "PEDCYLCOUNT        207160\n",
       "VEHCOUNT           207160\n",
       "INJURIES           207160\n",
       "SERIOUSINJURIES    207160\n",
       "FATALITIES         207160\n",
       "INCDATE            207160\n",
       "INCDTTM            207160\n",
       "JUNCTIONTYPE       196053\n",
       "SDOT_COLCODE       207159\n",
       "SDOT_COLDESC       207159\n",
       "INATTENTIONIND      28277\n",
       "UNDERINFL          183023\n",
       "WEATHER            182849\n",
       "ROADCOND           182906\n",
       "LIGHTCOND          182757\n",
       "PEDROWNOTGRNT        4894\n",
       "SDOTCOLNUM         127205\n",
       "SPEEDING             9355\n",
       "ST_COLCODE         197747\n",
       "ST_COLDESC         183002\n",
       "SEGLANEKEY         207160\n",
       "CROSSWALKKEY       207160\n",
       "HITPARKEDCAR       207160\n",
       "dtype: int64"
      ]
     },
     "execution_count": 9,
     "metadata": {},
     "output_type": "execute_result"
    }
   ],
   "source": [
    "df_coll.count()"
   ]
  },
  {
   "cell_type": "code",
   "execution_count": 10,
   "metadata": {},
   "outputs": [
    {
     "data": {
      "text/html": [
       "<div>\n",
       "<style scoped>\n",
       "    .dataframe tbody tr th:only-of-type {\n",
       "        vertical-align: middle;\n",
       "    }\n",
       "\n",
       "    .dataframe tbody tr th {\n",
       "        vertical-align: top;\n",
       "    }\n",
       "\n",
       "    .dataframe thead th {\n",
       "        text-align: right;\n",
       "    }\n",
       "</style>\n",
       "<table border=\"1\" class=\"dataframe\">\n",
       "  <thead>\n",
       "    <tr style=\"text-align: right;\">\n",
       "      <th></th>\n",
       "      <th>X</th>\n",
       "      <th>Y</th>\n",
       "      <th>OBJECTID</th>\n",
       "      <th>INCKEY</th>\n",
       "      <th>COLDETKEY</th>\n",
       "      <th>INTKEY</th>\n",
       "      <th>PERSONCOUNT</th>\n",
       "      <th>PEDCOUNT</th>\n",
       "      <th>PEDCYLCOUNT</th>\n",
       "      <th>VEHCOUNT</th>\n",
       "      <th>INJURIES</th>\n",
       "      <th>SERIOUSINJURIES</th>\n",
       "      <th>FATALITIES</th>\n",
       "      <th>SDOT_COLCODE</th>\n",
       "      <th>SDOTCOLNUM</th>\n",
       "      <th>SEGLANEKEY</th>\n",
       "      <th>CROSSWALKKEY</th>\n",
       "    </tr>\n",
       "  </thead>\n",
       "  <tbody>\n",
       "    <tr>\n",
       "      <th>count</th>\n",
       "      <td>199906.000000</td>\n",
       "      <td>199906.000000</td>\n",
       "      <td>207160.00000</td>\n",
       "      <td>207160.000000</td>\n",
       "      <td>207160.000000</td>\n",
       "      <td>66842.000000</td>\n",
       "      <td>207160.000000</td>\n",
       "      <td>207160.000000</td>\n",
       "      <td>207160.000000</td>\n",
       "      <td>207160.000000</td>\n",
       "      <td>207160.000000</td>\n",
       "      <td>207160.000000</td>\n",
       "      <td>207160.000000</td>\n",
       "      <td>207159.000000</td>\n",
       "      <td>1.272050e+05</td>\n",
       "      <td>207160.000000</td>\n",
       "      <td>2.071600e+05</td>\n",
       "    </tr>\n",
       "    <tr>\n",
       "      <th>mean</th>\n",
       "      <td>-122.330753</td>\n",
       "      <td>47.620446</td>\n",
       "      <td>103580.50000</td>\n",
       "      <td>132319.575637</td>\n",
       "      <td>132460.420168</td>\n",
       "      <td>37347.016352</td>\n",
       "      <td>2.229306</td>\n",
       "      <td>0.037232</td>\n",
       "      <td>0.026839</td>\n",
       "      <td>1.735905</td>\n",
       "      <td>0.373788</td>\n",
       "      <td>0.015051</td>\n",
       "      <td>0.001646</td>\n",
       "      <td>13.377227</td>\n",
       "      <td>7.971063e+06</td>\n",
       "      <td>270.806908</td>\n",
       "      <td>9.629950e+03</td>\n",
       "    </tr>\n",
       "    <tr>\n",
       "      <th>std</th>\n",
       "      <td>0.030070</td>\n",
       "      <td>0.055916</td>\n",
       "      <td>59802.08522</td>\n",
       "      <td>78099.564519</td>\n",
       "      <td>78340.573278</td>\n",
       "      <td>50766.510410</td>\n",
       "      <td>1.481342</td>\n",
       "      <td>0.199195</td>\n",
       "      <td>0.163100</td>\n",
       "      <td>0.824771</td>\n",
       "      <td>0.735511</td>\n",
       "      <td>0.159241</td>\n",
       "      <td>0.044294</td>\n",
       "      <td>7.308191</td>\n",
       "      <td>2.611523e+06</td>\n",
       "      <td>3310.595736</td>\n",
       "      <td>7.168368e+04</td>\n",
       "    </tr>\n",
       "    <tr>\n",
       "      <th>min</th>\n",
       "      <td>-122.419091</td>\n",
       "      <td>47.495573</td>\n",
       "      <td>1.00000</td>\n",
       "      <td>1001.000000</td>\n",
       "      <td>1001.000000</td>\n",
       "      <td>23807.000000</td>\n",
       "      <td>0.000000</td>\n",
       "      <td>0.000000</td>\n",
       "      <td>0.000000</td>\n",
       "      <td>0.000000</td>\n",
       "      <td>0.000000</td>\n",
       "      <td>0.000000</td>\n",
       "      <td>0.000000</td>\n",
       "      <td>0.000000</td>\n",
       "      <td>1.007024e+06</td>\n",
       "      <td>0.000000</td>\n",
       "      <td>0.000000e+00</td>\n",
       "    </tr>\n",
       "    <tr>\n",
       "      <th>25%</th>\n",
       "      <td>-122.349311</td>\n",
       "      <td>47.578151</td>\n",
       "      <td>51790.75000</td>\n",
       "      <td>68076.750000</td>\n",
       "      <td>68076.750000</td>\n",
       "      <td>28645.000000</td>\n",
       "      <td>2.000000</td>\n",
       "      <td>0.000000</td>\n",
       "      <td>0.000000</td>\n",
       "      <td>2.000000</td>\n",
       "      <td>0.000000</td>\n",
       "      <td>0.000000</td>\n",
       "      <td>0.000000</td>\n",
       "      <td>11.000000</td>\n",
       "      <td>6.007029e+06</td>\n",
       "      <td>0.000000</td>\n",
       "      <td>0.000000e+00</td>\n",
       "    </tr>\n",
       "    <tr>\n",
       "      <th>50%</th>\n",
       "      <td>-122.330420</td>\n",
       "      <td>47.616393</td>\n",
       "      <td>103580.50000</td>\n",
       "      <td>120055.500000</td>\n",
       "      <td>120055.500000</td>\n",
       "      <td>29966.000000</td>\n",
       "      <td>2.000000</td>\n",
       "      <td>0.000000</td>\n",
       "      <td>0.000000</td>\n",
       "      <td>2.000000</td>\n",
       "      <td>0.000000</td>\n",
       "      <td>0.000000</td>\n",
       "      <td>0.000000</td>\n",
       "      <td>11.000000</td>\n",
       "      <td>8.033011e+06</td>\n",
       "      <td>0.000000</td>\n",
       "      <td>0.000000e+00</td>\n",
       "    </tr>\n",
       "    <tr>\n",
       "      <th>75%</th>\n",
       "      <td>-122.311990</td>\n",
       "      <td>47.664380</td>\n",
       "      <td>155370.25000</td>\n",
       "      <td>190000.250000</td>\n",
       "      <td>190080.250000</td>\n",
       "      <td>33963.000000</td>\n",
       "      <td>3.000000</td>\n",
       "      <td>0.000000</td>\n",
       "      <td>0.000000</td>\n",
       "      <td>2.000000</td>\n",
       "      <td>1.000000</td>\n",
       "      <td>0.000000</td>\n",
       "      <td>0.000000</td>\n",
       "      <td>14.000000</td>\n",
       "      <td>1.018101e+07</td>\n",
       "      <td>0.000000</td>\n",
       "      <td>0.000000e+00</td>\n",
       "    </tr>\n",
       "    <tr>\n",
       "      <th>max</th>\n",
       "      <td>-122.238951</td>\n",
       "      <td>47.734142</td>\n",
       "      <td>207160.00000</td>\n",
       "      <td>316022.000000</td>\n",
       "      <td>317522.000000</td>\n",
       "      <td>673974.000000</td>\n",
       "      <td>93.000000</td>\n",
       "      <td>6.000000</td>\n",
       "      <td>2.000000</td>\n",
       "      <td>15.000000</td>\n",
       "      <td>78.000000</td>\n",
       "      <td>41.000000</td>\n",
       "      <td>5.000000</td>\n",
       "      <td>69.000000</td>\n",
       "      <td>1.307202e+07</td>\n",
       "      <td>525241.000000</td>\n",
       "      <td>5.239700e+06</td>\n",
       "    </tr>\n",
       "  </tbody>\n",
       "</table>\n",
       "</div>"
      ],
      "text/plain": [
       "                   X              Y      OBJECTID         INCKEY  \\\n",
       "count  199906.000000  199906.000000  207160.00000  207160.000000   \n",
       "mean     -122.330753      47.620446  103580.50000  132319.575637   \n",
       "std         0.030070       0.055916   59802.08522   78099.564519   \n",
       "min      -122.419091      47.495573       1.00000    1001.000000   \n",
       "25%      -122.349311      47.578151   51790.75000   68076.750000   \n",
       "50%      -122.330420      47.616393  103580.50000  120055.500000   \n",
       "75%      -122.311990      47.664380  155370.25000  190000.250000   \n",
       "max      -122.238951      47.734142  207160.00000  316022.000000   \n",
       "\n",
       "           COLDETKEY         INTKEY    PERSONCOUNT       PEDCOUNT  \\\n",
       "count  207160.000000   66842.000000  207160.000000  207160.000000   \n",
       "mean   132460.420168   37347.016352       2.229306       0.037232   \n",
       "std     78340.573278   50766.510410       1.481342       0.199195   \n",
       "min      1001.000000   23807.000000       0.000000       0.000000   \n",
       "25%     68076.750000   28645.000000       2.000000       0.000000   \n",
       "50%    120055.500000   29966.000000       2.000000       0.000000   \n",
       "75%    190080.250000   33963.000000       3.000000       0.000000   \n",
       "max    317522.000000  673974.000000      93.000000       6.000000   \n",
       "\n",
       "         PEDCYLCOUNT       VEHCOUNT       INJURIES  SERIOUSINJURIES  \\\n",
       "count  207160.000000  207160.000000  207160.000000    207160.000000   \n",
       "mean        0.026839       1.735905       0.373788         0.015051   \n",
       "std         0.163100       0.824771       0.735511         0.159241   \n",
       "min         0.000000       0.000000       0.000000         0.000000   \n",
       "25%         0.000000       2.000000       0.000000         0.000000   \n",
       "50%         0.000000       2.000000       0.000000         0.000000   \n",
       "75%         0.000000       2.000000       1.000000         0.000000   \n",
       "max         2.000000      15.000000      78.000000        41.000000   \n",
       "\n",
       "          FATALITIES   SDOT_COLCODE    SDOTCOLNUM     SEGLANEKEY  CROSSWALKKEY  \n",
       "count  207160.000000  207159.000000  1.272050e+05  207160.000000  2.071600e+05  \n",
       "mean        0.001646      13.377227  7.971063e+06     270.806908  9.629950e+03  \n",
       "std         0.044294       7.308191  2.611523e+06    3310.595736  7.168368e+04  \n",
       "min         0.000000       0.000000  1.007024e+06       0.000000  0.000000e+00  \n",
       "25%         0.000000      11.000000  6.007029e+06       0.000000  0.000000e+00  \n",
       "50%         0.000000      11.000000  8.033011e+06       0.000000  0.000000e+00  \n",
       "75%         0.000000      14.000000  1.018101e+07       0.000000  0.000000e+00  \n",
       "max         5.000000      69.000000  1.307202e+07  525241.000000  5.239700e+06  "
      ]
     },
     "execution_count": 10,
     "metadata": {},
     "output_type": "execute_result"
    }
   ],
   "source": [
    "df_coll.describe()"
   ]
  },
  {
   "cell_type": "code",
   "execution_count": null,
   "metadata": {},
   "outputs": [],
   "source": []
  },
  {
   "cell_type": "code",
   "execution_count": 32,
   "metadata": {},
   "outputs": [
    {
     "data": {
      "text/plain": [
       "nan"
      ]
     },
     "execution_count": 32,
     "metadata": {},
     "output_type": "execute_result"
    }
   ],
   "source": [
    "x=list(df_coll.WEATHER.unique())\n",
    "x.pop(2)"
   ]
  },
  {
   "cell_type": "code",
   "execution_count": 19,
   "metadata": {},
   "outputs": [],
   "source": [
    "y=list(df_coll.WEATHER.value_counts())"
   ]
  },
  {
   "cell_type": "code",
   "execution_count": 33,
   "metadata": {},
   "outputs": [
    {
     "data": {
      "text/plain": [
       "<BarContainer object of 10 artists>"
      ]
     },
     "execution_count": 33,
     "metadata": {},
     "output_type": "execute_result"
    },
    {
     "data": {
      "image/png": "[encoded data removed]",
      "text/plain": [
       "<Figure size 1440x720 with 1 Axes>"
      ]
     },
     "metadata": {
      "needs_background": "light"
     },
     "output_type": "display_data"
    }
   ],
   "source": [
    "plt.figure(figsize=(20,10))\n",
    "plt.bar(x, y)"
   ]
  },
  {
   "cell_type": "code",
   "execution_count": 41,
   "metadata": {},
   "outputs": [
    {
     "data": {
      "text/plain": [
       "0"
      ]
     },
     "execution_count": 41,
     "metadata": {},
     "output_type": "execute_result"
    }
   ],
   "source": [
    "x=list(df_coll.FATALITIES.unique())\n",
    "x.pop(0)"
   ]
  },
  {
   "cell_type": "code",
   "execution_count": 42,
   "metadata": {},
   "outputs": [
    {
     "data": {
      "text/plain": [
       "206841"
      ]
     },
     "execution_count": 42,
     "metadata": {},
     "output_type": "execute_result"
    }
   ],
   "source": [
    "y=list(df_coll.FATALITIES.value_counts())\n",
    "y.pop(0)"
   ]
  },
  {
   "cell_type": "code",
   "execution_count": 49,
   "metadata": {},
   "outputs": [
    {
     "data": {
      "text/plain": [
       "Text(0.5, 1.0, 'Fatalities per accident (out of 200,000 accidents)')"
      ]
     },
     "execution_count": 49,
     "metadata": {},
     "output_type": "execute_result"
    },
    {
     "data": {
      "image/png": "[encoded data removed]",
      "text/plain": [
       "<Figure size 432x288 with 1 Axes>"
      ]
     },
     "metadata": {
      "needs_background": "light"
     },
     "output_type": "display_data"
    }
   ],
   "source": [
    "# plt.figure()\n",
    "plt.bar(x, y)\n",
    "plt.title('Fatalities in one accident (out of 200,000 accidents)')"
   ]
  },
  {
   "cell_type": "code",
   "execution_count": 53,
   "metadata": {},
   "outputs": [
    {
     "data": {
      "text/plain": [
       "N    92255\n",
       "0    81692\n",
       "Y     4845\n",
       "1     4231\n",
       "Name: UNDERINFL, dtype: int64"
      ]
     },
     "execution_count": 53,
     "metadata": {},
     "output_type": "execute_result"
    }
   ],
   "source": [
    "x=list(df_coll.UNDERINFL.unique())\n",
    "df_coll.UNDERINFL.value_counts()\n"
   ]
  },
  {
   "cell_type": "code",
   "execution_count": null,
   "metadata": {},
   "outputs": [],
   "source": [
    "pd.plotting.scatter_matrix(df_coll, alpha=0.2, figsize=(10, 10));"
   ]
  }
 ],
 "metadata": {
  "kernelspec": {
   "display_name": "Python 3",
   "language": "python",
   "name": "python3"
  },
  "language_info": {
   "codemirror_mode": {
    "name": "ipython",
    "version": 3
   },
   "file_extension": ".py",
   "mimetype": "text/x-python",
   "name": "python",
   "nbconvert_exporter": "python",
   "pygments_lexer": "ipython3",
   "version": "3.7.3"
  }
 },
 "nbformat": 4,
 "nbformat_minor": 2
}
