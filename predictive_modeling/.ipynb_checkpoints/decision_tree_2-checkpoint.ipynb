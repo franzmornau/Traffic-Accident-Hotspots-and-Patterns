{
 "cells": [
  {
   "cell_type": "code",
   "execution_count": 4,
   "metadata": {},
   "outputs": [],
   "source": [
    "import pandas as pd\n",
    "import geopandas as gpd\n",
    "import numpy as np\n",
    "import itertools\n",
    "\n",
    "import matplotlib.pyplot as plt\n",
    "from shapely.geometry import Point, Polygon, LineString\n",
    "import seaborn as sns\n",
    "\n",
    "import scipy.stats as stats\n",
    "#from scipy.spatial.distance import pdist, squareform\n",
    "from sklearn.cluster import KMeans, AgglomerativeClustering\n",
    "from sklearn.metrics import silhouette_score\n"
   ]
  },
  {
   "cell_type": "code",
   "execution_count": 5,
   "metadata": {},
   "outputs": [],
   "source": [
    "acc = pd.read_csv('../data/cleaned/coll_coord.csv', low_memory=False)"
   ]
  },
  {
   "cell_type": "code",
   "execution_count": 6,
   "metadata": {},
   "outputs": [
    {
     "name": "stdout",
     "output_type": "stream",
     "text": [
      "<class 'pandas.core.frame.DataFrame'>\n",
      "RangeIndex: 202130 entries, 0 to 202129\n",
      "Data columns (total 41 columns):\n",
      "Unnamed: 0         202130 non-null int64\n",
      "OBJECTID           202130 non-null int64\n",
      "INCKEY             202130 non-null int64\n",
      "COLDETKEY          202130 non-null int64\n",
      "REPORTNO           202130 non-null object\n",
      "STATUS             202130 non-null object\n",
      "ADDRTYPE           202130 non-null object\n",
      "INTKEY             67263 non-null float64\n",
      "LOCATION           202130 non-null object\n",
      "EXCEPTRSNCODE      84141 non-null object\n",
      "EXCEPTRSNDESC      7190 non-null object\n",
      "SEVERITYCODE       202129 non-null object\n",
      "SEVERITYDESC       202130 non-null object\n",
      "COLLISIONTYPE      179243 non-null object\n",
      "PERSONCOUNT        202130 non-null int64\n",
      "PEDCOUNT           202130 non-null int64\n",
      "PEDCYLCOUNT        202130 non-null int64\n",
      "VEHCOUNT           202130 non-null int64\n",
      "INJURIES           202130 non-null int64\n",
      "SERIOUSINJURIES    202130 non-null int64\n",
      "FATALITIES         202130 non-null int64\n",
      "INCDATE            202130 non-null object\n",
      "INCDTTM            202130 non-null object\n",
      "JUNCTIONTYPE       194447 non-null object\n",
      "SDOT_COLCODE       202129 non-null float64\n",
      "SDOT_COLDESC       202129 non-null object\n",
      "INATTENTIONIND     27954 non-null object\n",
      "UNDERINFL          179264 non-null object\n",
      "WEATHER            179093 non-null object\n",
      "ROADCOND           179149 non-null object\n",
      "LIGHTCOND          179006 non-null object\n",
      "PEDROWNOTGRNT      4907 non-null object\n",
      "SDOTCOLNUM         123111 non-null float64\n",
      "SPEEDING           8795 non-null object\n",
      "ST_COLCODE         193528 non-null object\n",
      "ST_COLDESC         179243 non-null object\n",
      "SEGLANEKEY         202130 non-null int64\n",
      "CROSSWALKKEY       202130 non-null int64\n",
      "HITPARKEDCAR       202130 non-null object\n",
      "longitude          202130 non-null float64\n",
      "latitude           202130 non-null float64\n",
      "dtypes: float64(5), int64(13), object(23)\n",
      "memory usage: 63.2+ MB\n"
     ]
    }
   ],
   "source": [
    "acc.info()"
   ]
  },
  {
   "cell_type": "code",
   "execution_count": 7,
   "metadata": {},
   "outputs": [
    {
     "data": {
      "text/plain": [
       "[('STATUS', array(['Matched', 'Unmatched'], dtype=object)),\n",
       " ('ADDRTYPE', array(['Block', 'Intersection'], dtype=object)),\n",
       " ('EXCEPTRSNCODE', array([' ', 'NEI', nan], dtype=object)),\n",
       " ('EXCEPTRSNDESC', array([nan,\n",
       "         'Not Enough Information, or Insufficient Location Information'],\n",
       "        dtype=object)),\n",
       " ('SEVERITYCODE', array(['1', '2', '2b', '0', '3', nan], dtype=object)),\n",
       " ('SEVERITYDESC', array(['Property Damage Only Collision', 'Injury Collision',\n",
       "         'Serious Injury Collision', 'Unknown', 'Fatality Collision'],\n",
       "        dtype=object)),\n",
       " ('COLLISIONTYPE',\n",
       "  array(['Angles', 'Rear Ended', 'Parked Car', 'Other', 'Sideswipe',\n",
       "         'Right Turn', 'Pedestrian', 'Head On', 'Left Turn', nan, 'Cycles'],\n",
       "        dtype=object)),\n",
       " ('PERSONCOUNT',\n",
       "  array([ 2,  3,  4,  7,  5,  1,  0,  6,  9,  8, 13, 12, 16, 17, 11, 26, 22,\n",
       "         10, 37, 28, 36, 14, 19, 53, 30, 29, 23, 44, 15, 32, 21, 20, 41, 27,\n",
       "         35, 43, 81, 18, 48, 25, 24, 34, 57, 39, 47, 31, 54, 93])),\n",
       " ('PEDCOUNT', array([0, 1, 2, 3, 4, 5, 6])),\n",
       " ('PEDCYLCOUNT', array([0, 1, 2])),\n",
       " ('VEHCOUNT',\n",
       "  array([ 2,  1,  3,  4,  0,  8,  6,  5,  7, 11,  9, 14, 10, 12, 13, 15])),\n",
       " ('INJURIES',\n",
       "  array([ 0,  2,  1,  4,  3,  7,  5,  6,  8, 11,  9, 10, 12, 13, 15, 78])),\n",
       " ('SERIOUSINJURIES', array([ 0,  1,  2,  3,  5,  4, 41])),\n",
       " ('FATALITIES', array([0, 1, 2, 4, 3, 5])),\n",
       " ('JUNCTIONTYPE',\n",
       "  array(['Driveway Junction', 'Mid-Block (not related to intersection)',\n",
       "         'At Intersection (intersection related)',\n",
       "         'At Intersection (but not related to intersection)', nan,\n",
       "         'Mid-Block (but intersection related)', 'Ramp Junction', 'Unknown'],\n",
       "        dtype=object)),\n",
       " ('SDOT_COLCODE',\n",
       "  array([11., 14., 28.,  0., 13., 24., 16., 15., 51., 26., 18., 54., 12.,\n",
       "         48., 29., 64., 25., 69., 31., 21., 27., 23., 34., 55., 56., 33.,\n",
       "         nan, 44., 32., 66., 36., 22., 47., 58., 35., 61., 53., 46., 68.,\n",
       "         52.])),\n",
       " ('SDOT_COLDESC',\n",
       "  array(['MOTOR VEHICLE STRUCK MOTOR VEHICLE, FRONT END AT ANGLE',\n",
       "         'MOTOR VEHICLE STRUCK MOTOR VEHICLE, REAR END',\n",
       "         'MOTOR VEHICLE RAN OFF ROAD - HIT FIXED OBJECT',\n",
       "         'NOT ENOUGH INFORMATION / NOT APPLICABLE',\n",
       "         'MOTOR VEHICLE STRUCK MOTOR VEHICLE, LEFT SIDE AT ANGLE',\n",
       "         'MOTOR VEHCILE STRUCK PEDESTRIAN',\n",
       "         'MOTOR VEHICLE STRUCK MOTOR VEHICLE, LEFT SIDE SIDESWIPE',\n",
       "         'MOTOR VEHICLE STRUCK MOTOR VEHICLE, RIGHT SIDE SIDESWIPE',\n",
       "         'PEDALCYCLIST STRUCK MOTOR VEHICLE FRONT END AT ANGLE',\n",
       "         'MOTOR VEHICLE STRUCK OBJECT IN ROAD',\n",
       "         'MOTOR VEHICLE STRUCK PEDALCYCLIST, FRONT END AT ANGLE',\n",
       "         'PEDALCYCLIST STRUCK MOTOR VEHICLE REAR END',\n",
       "         'MOTOR VEHICLE STRUCK MOTOR VEHICLE, RIGHT SIDE AT ANGLE',\n",
       "         'DRIVERLESS VEHICLE RAN OFF ROAD - HIT FIXED OBJECT',\n",
       "         'MOTOR VEHICLE OVERTURNED IN ROAD',\n",
       "         'PEDALCYCLIST STRUCK PEDESTRIAN', 'MOTOR VEHICLE STRUCK TRAIN',\n",
       "         'PEDALCYCLIST OVERTURNED IN ROAD',\n",
       "         'DRIVERLESS VEHICLE STRUCK MOTOR VEHICLE FRONT END AT ANGLE',\n",
       "         'MOTOR VEHICLE STRUCK PEDALCYCLIST, REAR END',\n",
       "         'MOTOR VEHICLE RAN OFF ROAD - NO COLLISION',\n",
       "         'MOTOR VEHICLE STRUCK PEDALCYCLIST, LEFT SIDE SIDESWIPE',\n",
       "         'DRIVERLESS VEHICLE STRUCK MOTOR VEHICLE REAR END',\n",
       "         'PEDALCYCLIST STRUCK MOTOR VEHICLE RIGHT SIDE SIDESWIPE',\n",
       "         'PEDALCYCLIST STRUCK MOTOR VEHICLE LEFT SIDE SIDESWIPE',\n",
       "         'DRIVERLESS VEHICLE STRUCK MOTOR VEHICLE LEFT SIDE AT ANGLE', nan,\n",
       "         'DRIVERLESS VEHICLE STRUCK PEDESTRIAN',\n",
       "         'DRIVERLESS VEHICLE STRUCK MOTOR VEHICLE RIGHT SIDE AT ANGLE ',\n",
       "         'PEDALCYCLIST STRUCK OBJECT IN ROAD',\n",
       "         'DRIVERLESS VEHICLE STRUCK MOTOR VEHICLE LEFT SIDE SIDESWIPE',\n",
       "         'MOTOR VEHICLE STRUCK PEDALCYCLIST, RIGHT SIDE SIDESWIPE',\n",
       "         'DRIVERLESS VEHICLE RAN OFF ROAD - NO COLLISION',\n",
       "         'PEDALCYCLIST STRUCK PEDALCYCLIST FRONT END AT ANGLE',\n",
       "         'DRIVERLESS VEHICLE STRUCK MOTOR VEHICLE RIGHT SIDE SIDESWIPE',\n",
       "         'PEDALCYCLIST STRUCK PEDALCYCLIST REAR END',\n",
       "         'PEDALCYCLIST STRUCK MOTOR VEHICLE LEFT SIDE AT ANGLE',\n",
       "         'DRIVERLESS VEHICLE STRUCK OBJECT IN ROADWAY',\n",
       "         'PEDALCYCLIST RAN OFF ROAD - HIT FIXED OBJECT',\n",
       "         'PEDALCYCLIST STRUCK MOTOR VEHICLE RIGHT SIDE AT ANGLE'],\n",
       "        dtype=object)),\n",
       " ('INATTENTIONIND', array([nan, 'Y'], dtype=object)),\n",
       " ('UNDERINFL', array(['N', 'Y', nan, '0', '1'], dtype=object)),\n",
       " ('WEATHER',\n",
       "  array(['Clear or Partly Cloudy', 'Unknown', 'Overcast', 'Fog/Smog/Smoke',\n",
       "         'Raining', nan, 'Severe Crosswind', 'Other', 'Snowing',\n",
       "         'Blowing Sand or Dirt or Snow', 'Sleet/Hail/Freezing Rain'],\n",
       "        dtype=object)),\n",
       " ('ROADCOND',\n",
       "  array(['Dry', 'Unknown', 'Wet', nan, 'Other', 'Snow/Slush', 'Ice',\n",
       "         'Standing Water', 'Sand/Mud/Dirt', 'Oil'], dtype=object)),\n",
       " ('LIGHTCOND', array(['Daylight', 'Unknown', 'Dark - Street Lights On', 'Dusk',\n",
       "         'Dark - No Street Lights', nan, 'Other', 'Dawn',\n",
       "         'Dark - Street Lights Off'], dtype=object)),\n",
       " ('PEDROWNOTGRNT', array([nan, 'Y'], dtype=object)),\n",
       " ('SPEEDING', array([nan, 'Y'], dtype=object)),\n",
       " ('ST_COLCODE',\n",
       "  array(['10', '14', '32', '50', '11', '16', '0', '12', '24', '28', ' ',\n",
       "         '20', '6', '23', '13', '26', '5', '1', '56', '7', '27', '15', '2',\n",
       "         '40', '52', '71', '72', '30', '51', '88', '84', '81', '73', '25',\n",
       "         '29', '41', '48', nan, '45', '53', '19', '3', '74', '22', '21',\n",
       "         '83', '4', '66', '57', '65', '82', '67', '49', '31', '42', '43',\n",
       "         '64', '54', '60', '87', '17', '8', '18', '85'], dtype=object)),\n",
       " ('ST_COLDESC', array(['Entering at angle',\n",
       "         'From same direction - both going straight - one stopped - rear-end',\n",
       "         'One parked--one moving', 'Fixed object',\n",
       "         'From same direction - both going straight - both moving - sideswipe',\n",
       "         'From same direction - one right turn - one straight',\n",
       "         'Vehicle going straight hits pedestrian',\n",
       "         'From same direction - both going straight - one stopped - sideswipe',\n",
       "         'From opposite direction - both moving - head-on',\n",
       "         'From opposite direction - one left turn - one straight', nan,\n",
       "         'One car leaving parked position',\n",
       "         'Pedalcyclist Strikes Moving Vehicle',\n",
       "         'From same direction - all others',\n",
       "         'From same direction - both going straight - both moving - rear-end',\n",
       "         'From opposite direction - both going straight - sideswipe',\n",
       "         'Vehicle Strikes Pedalcyclist',\n",
       "         'Vehicle turning right hits pedestrian',\n",
       "         'Breakage of any part of the vehicle resulting in injury or in further property damage',\n",
       "         'Pedalcyclist Strikes Pedalcyclist or Pedestrian',\n",
       "         'From opposite direction - both going straight - one stopped - sideswipe',\n",
       "         'From same direction - one left turn - one straight',\n",
       "         'Vehicle turning left hits pedestrian',\n",
       "         'Railway Vehicle Strikes Vehicle', 'Vehicle overturned',\n",
       "         'Same direction -- both turning right -- both moving -- sideswipe',\n",
       "         'Same direction -- both turning right -- one stopped -- sideswipe',\n",
       "         'From opposite direction - all others', 'Other object',\n",
       "         'All Other Multi Vehicle',\n",
       "         'Same direction -- both turning left -- one stopped -- rear end',\n",
       "         'Same direction -- both turning left -- both moving -- sideswipe',\n",
       "         'Same direction -- both turning right -- both moving -- rear end',\n",
       "         'From opposite direction - one stopped - head-on',\n",
       "         'From opposite direction - one left turn - one right turn',\n",
       "         'Vehicle Strikes Railway Vehicle',\n",
       "         'Domestic animal other (cat, dog, etc)', 'Vehicle - Pedalcyclist',\n",
       "         'Person fell, jumped or was pushed from vehicle',\n",
       "         'One car entering parked position',\n",
       "         'Vehicle backing hits pedestrian',\n",
       "         'Same direction -- both turning right -- one stopped -- rear end',\n",
       "         'One car leaving driveway access',\n",
       "         'One car entering driveway access',\n",
       "         'Same direction -- both turning left -- both moving -- rear end',\n",
       "         'Vehicle hits Pedestrian - All Other Actions',\n",
       "         'Vehicle Hits Other Road or Construction Machinery',\n",
       "         'All other non-collision',\n",
       "         'Vehicle Struck by City Road or Construction Machinery',\n",
       "         'Same direction -- both turning left -- one stopped -- sideswipe',\n",
       "         'Vehicle Struck by Other Road or Construction Machinery',\n",
       "         'Non-domestic animal (deer, bear, elk, etc)', 'Not stated',\n",
       "         'Railway Vehicle Strikes Pedestrian',\n",
       "         'Railway Vehicle Strikes Pedalcyclist',\n",
       "         'Vehicle Hits City Road or Construction Machinery',\n",
       "         'Fire started in vehicle',\n",
       "         'Vehicle Hits State Road or Construction Machinery',\n",
       "         'Vehicle Strikes All Other Non-Domestic Animal',\n",
       "         'Strikes or Was Struck by Object from the Load of Another Vehicle',\n",
       "         'Pedalcyclist All Other Involvements ONE UNIT - PEDALCYCLIST ONLY or PEDALCYCLIST STR',\n",
       "         'Strikes or Was Struck by a Part of Another Vehicle (Not from Load)',\n",
       "         'Vehicle Strikes Deer'], dtype=object)),\n",
       " ('HITPARKEDCAR', array(['N', 'Y'], dtype=object))]"
      ]
     },
     "execution_count": 7,
     "metadata": {},
     "output_type": "execute_result"
    }
   ],
   "source": [
    "[(column, acc[column].unique()) for column in acc.columns if len(acc[column].unique()) < 100]"
   ]
  },
  {
   "cell_type": "markdown",
   "metadata": {},
   "source": [
    "For warmup, et's try to predict 'HITPARKEDCAR' by the location."
   ]
  },
  {
   "cell_type": "code",
   "execution_count": 3,
   "metadata": {},
   "outputs": [],
   "source": [
    "from sklearn.linear_model import LogisticRegression\n",
    "from sklearn.model_selection import train_test_split"
   ]
  },
  {
   "cell_type": "code",
   "execution_count": 74,
   "metadata": {},
   "outputs": [
    {
     "data": {
      "text/plain": [
       "numpy.ndarray"
      ]
     },
     "execution_count": 74,
     "metadata": {},
     "output_type": "execute_result"
    }
   ],
   "source": [
    "X = acc[['longitude','latitude']]\n",
    "y_f = np.array(acc[['HITPARKEDCAR']]).reshape(-1,)\n",
    "type(y_f)"
   ]
  },
  {
   "cell_type": "code",
   "execution_count": 81,
   "metadata": {},
   "outputs": [
    {
     "data": {
      "text/plain": [
       "(202130,)"
      ]
     },
     "execution_count": 81,
     "metadata": {},
     "output_type": "execute_result"
    }
   ],
   "source": [
    "y = np.array([y_f=='Y']).reshape(-1,)\n",
    "# y=y_f\n",
    "y.shape"
   ]
  },
  {
   "cell_type": "code",
   "execution_count": 82,
   "metadata": {},
   "outputs": [
    {
     "name": "stderr",
     "output_type": "stream",
     "text": [
      "/Users/franzmornau/anaconda3/lib/python3.7/site-packages/sklearn/linear_model/logistic.py:433: FutureWarning: Default solver will be changed to 'lbfgs' in 0.22. Specify a solver to silence this warning.\n",
      "  FutureWarning)\n"
     ]
    }
   ],
   "source": [
    "X_train, X_test, y_train, y_test = train_test_split(X, y)\n",
    "model = LogisticRegression()\n",
    "model.fit(X_train, y_train)\n",
    "probabilities = model.predict_proba(X_test)[:, 1]"
   ]
  },
  {
   "cell_type": "code",
   "execution_count": 83,
   "metadata": {},
   "outputs": [
    {
     "data": {
      "text/plain": [
       "array([0.04482749, 0.04470675, 0.04477006, ..., 0.04476012, 0.04475146,\n",
       "       0.04471677])"
      ]
     },
     "execution_count": 83,
     "metadata": {},
     "output_type": "execute_result"
    }
   ],
   "source": [
    "probabilities"
   ]
  },
  {
   "cell_type": "code",
   "execution_count": 84,
   "metadata": {},
   "outputs": [
    {
     "data": {
      "text/plain": [
       "0.044884272371916833"
      ]
     },
     "execution_count": 84,
     "metadata": {},
     "output_type": "execute_result"
    }
   ],
   "source": [
    "probabilities.max()"
   ]
  },
  {
   "cell_type": "code",
   "execution_count": 85,
   "metadata": {},
   "outputs": [
    {
     "data": {
      "text/plain": [
       "0.044659845284509905"
      ]
     },
     "execution_count": 85,
     "metadata": {},
     "output_type": "execute_result"
    }
   ],
   "source": [
    "probabilities.min()"
   ]
  },
  {
   "cell_type": "markdown",
   "metadata": {},
   "source": [
    "(looks not very promising)"
   ]
  },
  {
   "cell_type": "code",
   "execution_count": 86,
   "metadata": {},
   "outputs": [],
   "source": [
    "%run src/myroc_curve.py"
   ]
  },
  {
   "cell_type": "code",
   "execution_count": null,
   "metadata": {},
   "outputs": [],
   "source": [
    "tpr, fpr, thresholds = roc_curve(probabilities, y_test)\n",
    "\n",
    "plt.plot(fpr, tpr)\n",
    "plt.xlabel(\"False Positive Rate (1 - Specificity)\")\n",
    "plt.ylabel(\"True Positive Rate (Sensitivity, Recall)\")\n",
    "plt.title(\"ROC plot of fake data\")\n",
    "plt.show()"
   ]
  },
  {
   "cell_type": "code",
   "execution_count": null,
   "metadata": {},
   "outputs": [],
   "source": []
  }
 ],
 "metadata": {
  "kernelspec": {
   "display_name": "Python 3",
   "language": "python",
   "name": "python3"
  },
  "language_info": {
   "codemirror_mode": {
    "name": "ipython",
    "version": 3
   },
   "file_extension": ".py",
   "mimetype": "text/x-python",
   "name": "python",
   "nbconvert_exporter": "python",
   "pygments_lexer": "ipython3",
   "version": "3.7.3"
  }
 },
 "nbformat": 4,
 "nbformat_minor": 2
}
