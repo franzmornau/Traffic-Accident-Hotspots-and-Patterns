{
 "cells": [
  {
   "cell_type": "markdown",
   "metadata": {},
   "source": [
    "### Apply the 'gettig started' Turorial to our dataset (aggregation by week)"
   ]
  },
  {
   "cell_type": "code",
   "execution_count": 2,
   "metadata": {},
   "outputs": [],
   "source": [
    "import pandas as pd\n",
    "from fbprophet import Prophet"
   ]
  },
  {
   "cell_type": "code",
   "execution_count": 3,
   "metadata": {},
   "outputs": [
    {
     "data": {
      "text/plain": [
       "(783,            ds    y\n",
       " 0  2004-01-04  142\n",
       " 1  2004-01-11  263\n",
       " 2  2004-01-18  291\n",
       " 3  2004-01-25  222\n",
       " 4  2004-02-01  277,              ds    y\n",
       " 778  2018-12-02  261\n",
       " 779  2018-12-09  274\n",
       " 780  2018-12-16  275\n",
       " 781  2018-12-23  234\n",
       " 782  2018-12-30  150)"
      ]
     },
     "execution_count": 3,
     "metadata": {},
     "output_type": "execute_result"
    }
   ],
   "source": [
    "df = pd.read_csv('../../data/cleaned/weekseries_04_18.csv')\n",
    "df.rename({'acc_nr':'y'}, axis=1, inplace=True)\n",
    "len(df), df.head(), df.tail()"
   ]
  },
  {
   "cell_type": "code",
   "execution_count": 100,
   "metadata": {},
   "outputs": [
    {
     "name": "stderr",
     "output_type": "stream",
     "text": [
      "INFO:fbprophet:Disabling weekly seasonality. Run prophet with weekly_seasonality=True to override this.\n",
      "INFO:fbprophet:Disabling daily seasonality. Run prophet with daily_seasonality=True to override this.\n"
     ]
    },
    {
     "data": {
      "text/plain": [
       "<fbprophet.forecaster.Prophet at 0x1a215708d0>"
      ]
     },
     "execution_count": 100,
     "metadata": {},
     "output_type": "execute_result"
    }
   ],
   "source": [
    "m = Prophet(yearly_seasonality=52) #daily_seasonality=True) #, weekly_seasonality=True)\n",
    "m.add_country_holidays(country_name='US')\n",
    "m.fit(df)\n",
    "# m.train_holiday_names"
   ]
  },
  {
   "cell_type": "code",
   "execution_count": 101,
   "metadata": {},
   "outputs": [
    {
     "data": {
      "text/html": [
       "<div>\n",
       "<style scoped>\n",
       "    .dataframe tbody tr th:only-of-type {\n",
       "        vertical-align: middle;\n",
       "    }\n",
       "\n",
       "    .dataframe tbody tr th {\n",
       "        vertical-align: top;\n",
       "    }\n",
       "\n",
       "    .dataframe thead th {\n",
       "        text-align: right;\n",
       "    }\n",
       "</style>\n",
       "<table border=\"1\" class=\"dataframe\">\n",
       "  <thead>\n",
       "    <tr style=\"text-align: right;\">\n",
       "      <th></th>\n",
       "      <th>ds</th>\n",
       "    </tr>\n",
       "  </thead>\n",
       "  <tbody>\n",
       "    <tr>\n",
       "      <th>0</th>\n",
       "      <td>2019-01-06</td>\n",
       "    </tr>\n",
       "    <tr>\n",
       "      <th>1</th>\n",
       "      <td>2019-01-13</td>\n",
       "    </tr>\n",
       "  </tbody>\n",
       "</table>\n",
       "</div>"
      ],
      "text/plain": [
       "          ds\n",
       "0 2019-01-06\n",
       "1 2019-01-13"
      ]
     },
     "execution_count": 101,
     "metadata": {},
     "output_type": "execute_result"
    }
   ],
   "source": [
    "future = m.make_future_dataframe(periods=20,freq='W',include_history=False)\n",
    "future.head(2)"
   ]
  },
  {
   "cell_type": "code",
   "execution_count": 121,
   "metadata": {},
   "outputs": [
    {
     "data": {
      "text/html": [
       "<div>\n",
       "<style scoped>\n",
       "    .dataframe tbody tr th:only-of-type {\n",
       "        vertical-align: middle;\n",
       "    }\n",
       "\n",
       "    .dataframe tbody tr th {\n",
       "        vertical-align: top;\n",
       "    }\n",
       "\n",
       "    .dataframe thead th {\n",
       "        text-align: right;\n",
       "    }\n",
       "</style>\n",
       "<table border=\"1\" class=\"dataframe\">\n",
       "  <thead>\n",
       "    <tr style=\"text-align: right;\">\n",
       "      <th></th>\n",
       "      <th>ds</th>\n",
       "      <th>trend</th>\n",
       "      <th>yhat_lower</th>\n",
       "      <th>yhat_upper</th>\n",
       "      <th>trend_lower</th>\n",
       "      <th>trend_upper</th>\n",
       "      <th>Christmas Day</th>\n",
       "      <th>Christmas Day_lower</th>\n",
       "      <th>Christmas Day_upper</th>\n",
       "      <th>Christmas Day (Observed)</th>\n",
       "      <th>...</th>\n",
       "      <th>holidays</th>\n",
       "      <th>holidays_lower</th>\n",
       "      <th>holidays_upper</th>\n",
       "      <th>yearly</th>\n",
       "      <th>yearly_lower</th>\n",
       "      <th>yearly_upper</th>\n",
       "      <th>multiplicative_terms</th>\n",
       "      <th>multiplicative_terms_lower</th>\n",
       "      <th>multiplicative_terms_upper</th>\n",
       "      <th>yhat</th>\n",
       "    </tr>\n",
       "  </thead>\n",
       "  <tbody>\n",
       "    <tr>\n",
       "      <th>0</th>\n",
       "      <td>2019-01-06</td>\n",
       "      <td>221.872914</td>\n",
       "      <td>171.937906</td>\n",
       "      <td>228.610143</td>\n",
       "      <td>221.872914</td>\n",
       "      <td>221.872914</td>\n",
       "      <td>0.0</td>\n",
       "      <td>0.0</td>\n",
       "      <td>0.0</td>\n",
       "      <td>0.0</td>\n",
       "      <td>...</td>\n",
       "      <td>0.0</td>\n",
       "      <td>0.0</td>\n",
       "      <td>0.0</td>\n",
       "      <td>-22.920864</td>\n",
       "      <td>-22.920864</td>\n",
       "      <td>-22.920864</td>\n",
       "      <td>0.0</td>\n",
       "      <td>0.0</td>\n",
       "      <td>0.0</td>\n",
       "      <td>198.952050</td>\n",
       "    </tr>\n",
       "    <tr>\n",
       "      <th>1</th>\n",
       "      <td>2019-01-13</td>\n",
       "      <td>221.685540</td>\n",
       "      <td>195.891482</td>\n",
       "      <td>255.254308</td>\n",
       "      <td>221.685540</td>\n",
       "      <td>221.685540</td>\n",
       "      <td>0.0</td>\n",
       "      <td>0.0</td>\n",
       "      <td>0.0</td>\n",
       "      <td>0.0</td>\n",
       "      <td>...</td>\n",
       "      <td>0.0</td>\n",
       "      <td>0.0</td>\n",
       "      <td>0.0</td>\n",
       "      <td>5.254499</td>\n",
       "      <td>5.254499</td>\n",
       "      <td>5.254499</td>\n",
       "      <td>0.0</td>\n",
       "      <td>0.0</td>\n",
       "      <td>0.0</td>\n",
       "      <td>226.940039</td>\n",
       "    </tr>\n",
       "    <tr>\n",
       "      <th>2</th>\n",
       "      <td>2019-01-20</td>\n",
       "      <td>221.498165</td>\n",
       "      <td>170.819609</td>\n",
       "      <td>232.263884</td>\n",
       "      <td>221.498165</td>\n",
       "      <td>221.498165</td>\n",
       "      <td>0.0</td>\n",
       "      <td>0.0</td>\n",
       "      <td>0.0</td>\n",
       "      <td>0.0</td>\n",
       "      <td>...</td>\n",
       "      <td>0.0</td>\n",
       "      <td>0.0</td>\n",
       "      <td>0.0</td>\n",
       "      <td>-20.460986</td>\n",
       "      <td>-20.460986</td>\n",
       "      <td>-20.460986</td>\n",
       "      <td>0.0</td>\n",
       "      <td>0.0</td>\n",
       "      <td>0.0</td>\n",
       "      <td>201.037179</td>\n",
       "    </tr>\n",
       "    <tr>\n",
       "      <th>3</th>\n",
       "      <td>2019-01-27</td>\n",
       "      <td>221.310791</td>\n",
       "      <td>160.787335</td>\n",
       "      <td>220.683819</td>\n",
       "      <td>221.310791</td>\n",
       "      <td>221.310791</td>\n",
       "      <td>0.0</td>\n",
       "      <td>0.0</td>\n",
       "      <td>0.0</td>\n",
       "      <td>0.0</td>\n",
       "      <td>...</td>\n",
       "      <td>0.0</td>\n",
       "      <td>0.0</td>\n",
       "      <td>0.0</td>\n",
       "      <td>-28.752540</td>\n",
       "      <td>-28.752540</td>\n",
       "      <td>-28.752540</td>\n",
       "      <td>0.0</td>\n",
       "      <td>0.0</td>\n",
       "      <td>0.0</td>\n",
       "      <td>192.558251</td>\n",
       "    </tr>\n",
       "    <tr>\n",
       "      <th>4</th>\n",
       "      <td>2019-02-03</td>\n",
       "      <td>221.123416</td>\n",
       "      <td>182.021544</td>\n",
       "      <td>240.107494</td>\n",
       "      <td>221.123416</td>\n",
       "      <td>221.123416</td>\n",
       "      <td>0.0</td>\n",
       "      <td>0.0</td>\n",
       "      <td>0.0</td>\n",
       "      <td>0.0</td>\n",
       "      <td>...</td>\n",
       "      <td>0.0</td>\n",
       "      <td>0.0</td>\n",
       "      <td>0.0</td>\n",
       "      <td>-8.524012</td>\n",
       "      <td>-8.524012</td>\n",
       "      <td>-8.524012</td>\n",
       "      <td>0.0</td>\n",
       "      <td>0.0</td>\n",
       "      <td>0.0</td>\n",
       "      <td>212.599405</td>\n",
       "    </tr>\n",
       "    <tr>\n",
       "      <th>5</th>\n",
       "      <td>2019-02-10</td>\n",
       "      <td>220.936041</td>\n",
       "      <td>162.812232</td>\n",
       "      <td>222.327051</td>\n",
       "      <td>220.936041</td>\n",
       "      <td>220.936041</td>\n",
       "      <td>0.0</td>\n",
       "      <td>0.0</td>\n",
       "      <td>0.0</td>\n",
       "      <td>0.0</td>\n",
       "      <td>...</td>\n",
       "      <td>0.0</td>\n",
       "      <td>0.0</td>\n",
       "      <td>0.0</td>\n",
       "      <td>-28.239974</td>\n",
       "      <td>-28.239974</td>\n",
       "      <td>-28.239974</td>\n",
       "      <td>0.0</td>\n",
       "      <td>0.0</td>\n",
       "      <td>0.0</td>\n",
       "      <td>192.696068</td>\n",
       "    </tr>\n",
       "    <tr>\n",
       "      <th>6</th>\n",
       "      <td>2019-02-17</td>\n",
       "      <td>220.748667</td>\n",
       "      <td>165.294737</td>\n",
       "      <td>226.230169</td>\n",
       "      <td>220.748382</td>\n",
       "      <td>220.748667</td>\n",
       "      <td>0.0</td>\n",
       "      <td>0.0</td>\n",
       "      <td>0.0</td>\n",
       "      <td>0.0</td>\n",
       "      <td>...</td>\n",
       "      <td>0.0</td>\n",
       "      <td>0.0</td>\n",
       "      <td>0.0</td>\n",
       "      <td>-26.080804</td>\n",
       "      <td>-26.080804</td>\n",
       "      <td>-26.080804</td>\n",
       "      <td>0.0</td>\n",
       "      <td>0.0</td>\n",
       "      <td>0.0</td>\n",
       "      <td>194.667863</td>\n",
       "    </tr>\n",
       "    <tr>\n",
       "      <th>7</th>\n",
       "      <td>2019-02-24</td>\n",
       "      <td>220.561292</td>\n",
       "      <td>142.400658</td>\n",
       "      <td>201.687153</td>\n",
       "      <td>220.550719</td>\n",
       "      <td>220.564726</td>\n",
       "      <td>0.0</td>\n",
       "      <td>0.0</td>\n",
       "      <td>0.0</td>\n",
       "      <td>0.0</td>\n",
       "      <td>...</td>\n",
       "      <td>0.0</td>\n",
       "      <td>0.0</td>\n",
       "      <td>0.0</td>\n",
       "      <td>-47.293870</td>\n",
       "      <td>-47.293870</td>\n",
       "      <td>-47.293870</td>\n",
       "      <td>0.0</td>\n",
       "      <td>0.0</td>\n",
       "      <td>0.0</td>\n",
       "      <td>173.267422</td>\n",
       "    </tr>\n",
       "    <tr>\n",
       "      <th>8</th>\n",
       "      <td>2019-03-03</td>\n",
       "      <td>220.373918</td>\n",
       "      <td>176.450907</td>\n",
       "      <td>235.780337</td>\n",
       "      <td>220.343436</td>\n",
       "      <td>220.392101</td>\n",
       "      <td>0.0</td>\n",
       "      <td>0.0</td>\n",
       "      <td>0.0</td>\n",
       "      <td>0.0</td>\n",
       "      <td>...</td>\n",
       "      <td>0.0</td>\n",
       "      <td>0.0</td>\n",
       "      <td>0.0</td>\n",
       "      <td>-13.259920</td>\n",
       "      <td>-13.259920</td>\n",
       "      <td>-13.259920</td>\n",
       "      <td>0.0</td>\n",
       "      <td>0.0</td>\n",
       "      <td>0.0</td>\n",
       "      <td>207.113998</td>\n",
       "    </tr>\n",
       "    <tr>\n",
       "      <th>9</th>\n",
       "      <td>2019-03-10</td>\n",
       "      <td>220.186543</td>\n",
       "      <td>168.653920</td>\n",
       "      <td>229.181766</td>\n",
       "      <td>220.135967</td>\n",
       "      <td>220.216510</td>\n",
       "      <td>0.0</td>\n",
       "      <td>0.0</td>\n",
       "      <td>0.0</td>\n",
       "      <td>0.0</td>\n",
       "      <td>...</td>\n",
       "      <td>0.0</td>\n",
       "      <td>0.0</td>\n",
       "      <td>0.0</td>\n",
       "      <td>-20.229658</td>\n",
       "      <td>-20.229658</td>\n",
       "      <td>-20.229658</td>\n",
       "      <td>0.0</td>\n",
       "      <td>0.0</td>\n",
       "      <td>0.0</td>\n",
       "      <td>199.956886</td>\n",
       "    </tr>\n",
       "    <tr>\n",
       "      <th>10</th>\n",
       "      <td>2019-03-17</td>\n",
       "      <td>219.999169</td>\n",
       "      <td>184.283589</td>\n",
       "      <td>244.011550</td>\n",
       "      <td>219.929860</td>\n",
       "      <td>220.049084</td>\n",
       "      <td>0.0</td>\n",
       "      <td>0.0</td>\n",
       "      <td>0.0</td>\n",
       "      <td>0.0</td>\n",
       "      <td>...</td>\n",
       "      <td>0.0</td>\n",
       "      <td>0.0</td>\n",
       "      <td>0.0</td>\n",
       "      <td>-5.626258</td>\n",
       "      <td>-5.626258</td>\n",
       "      <td>-5.626258</td>\n",
       "      <td>0.0</td>\n",
       "      <td>0.0</td>\n",
       "      <td>0.0</td>\n",
       "      <td>214.372910</td>\n",
       "    </tr>\n",
       "    <tr>\n",
       "      <th>11</th>\n",
       "      <td>2019-03-24</td>\n",
       "      <td>219.811794</td>\n",
       "      <td>170.073212</td>\n",
       "      <td>224.719390</td>\n",
       "      <td>219.721733</td>\n",
       "      <td>219.888606</td>\n",
       "      <td>0.0</td>\n",
       "      <td>0.0</td>\n",
       "      <td>0.0</td>\n",
       "      <td>0.0</td>\n",
       "      <td>...</td>\n",
       "      <td>0.0</td>\n",
       "      <td>0.0</td>\n",
       "      <td>0.0</td>\n",
       "      <td>-23.310856</td>\n",
       "      <td>-23.310856</td>\n",
       "      <td>-23.310856</td>\n",
       "      <td>0.0</td>\n",
       "      <td>0.0</td>\n",
       "      <td>0.0</td>\n",
       "      <td>196.500939</td>\n",
       "    </tr>\n",
       "    <tr>\n",
       "      <th>12</th>\n",
       "      <td>2019-03-31</td>\n",
       "      <td>219.624420</td>\n",
       "      <td>174.281507</td>\n",
       "      <td>233.993969</td>\n",
       "      <td>219.497671</td>\n",
       "      <td>219.727674</td>\n",
       "      <td>0.0</td>\n",
       "      <td>0.0</td>\n",
       "      <td>0.0</td>\n",
       "      <td>0.0</td>\n",
       "      <td>...</td>\n",
       "      <td>0.0</td>\n",
       "      <td>0.0</td>\n",
       "      <td>0.0</td>\n",
       "      <td>-14.554002</td>\n",
       "      <td>-14.554002</td>\n",
       "      <td>-14.554002</td>\n",
       "      <td>0.0</td>\n",
       "      <td>0.0</td>\n",
       "      <td>0.0</td>\n",
       "      <td>205.070418</td>\n",
       "    </tr>\n",
       "    <tr>\n",
       "      <th>13</th>\n",
       "      <td>2019-04-07</td>\n",
       "      <td>219.437045</td>\n",
       "      <td>184.796716</td>\n",
       "      <td>241.367394</td>\n",
       "      <td>219.284102</td>\n",
       "      <td>219.572829</td>\n",
       "      <td>0.0</td>\n",
       "      <td>0.0</td>\n",
       "      <td>0.0</td>\n",
       "      <td>0.0</td>\n",
       "      <td>...</td>\n",
       "      <td>0.0</td>\n",
       "      <td>0.0</td>\n",
       "      <td>0.0</td>\n",
       "      <td>-6.930211</td>\n",
       "      <td>-6.930211</td>\n",
       "      <td>-6.930211</td>\n",
       "      <td>0.0</td>\n",
       "      <td>0.0</td>\n",
       "      <td>0.0</td>\n",
       "      <td>212.506834</td>\n",
       "    </tr>\n",
       "    <tr>\n",
       "      <th>14</th>\n",
       "      <td>2019-04-14</td>\n",
       "      <td>219.249670</td>\n",
       "      <td>182.657480</td>\n",
       "      <td>239.602113</td>\n",
       "      <td>219.054433</td>\n",
       "      <td>219.418248</td>\n",
       "      <td>0.0</td>\n",
       "      <td>0.0</td>\n",
       "      <td>0.0</td>\n",
       "      <td>0.0</td>\n",
       "      <td>...</td>\n",
       "      <td>0.0</td>\n",
       "      <td>0.0</td>\n",
       "      <td>0.0</td>\n",
       "      <td>-6.710819</td>\n",
       "      <td>-6.710819</td>\n",
       "      <td>-6.710819</td>\n",
       "      <td>0.0</td>\n",
       "      <td>0.0</td>\n",
       "      <td>0.0</td>\n",
       "      <td>212.538852</td>\n",
       "    </tr>\n",
       "    <tr>\n",
       "      <th>15</th>\n",
       "      <td>2019-04-21</td>\n",
       "      <td>219.062296</td>\n",
       "      <td>173.234215</td>\n",
       "      <td>228.471738</td>\n",
       "      <td>218.833235</td>\n",
       "      <td>219.261974</td>\n",
       "      <td>0.0</td>\n",
       "      <td>0.0</td>\n",
       "      <td>0.0</td>\n",
       "      <td>0.0</td>\n",
       "      <td>...</td>\n",
       "      <td>0.0</td>\n",
       "      <td>0.0</td>\n",
       "      <td>0.0</td>\n",
       "      <td>-19.328818</td>\n",
       "      <td>-19.328818</td>\n",
       "      <td>-19.328818</td>\n",
       "      <td>0.0</td>\n",
       "      <td>0.0</td>\n",
       "      <td>0.0</td>\n",
       "      <td>199.733478</td>\n",
       "    </tr>\n",
       "    <tr>\n",
       "      <th>16</th>\n",
       "      <td>2019-04-28</td>\n",
       "      <td>218.874921</td>\n",
       "      <td>180.424474</td>\n",
       "      <td>239.382637</td>\n",
       "      <td>218.612215</td>\n",
       "      <td>219.118747</td>\n",
       "      <td>0.0</td>\n",
       "      <td>0.0</td>\n",
       "      <td>0.0</td>\n",
       "      <td>0.0</td>\n",
       "      <td>...</td>\n",
       "      <td>0.0</td>\n",
       "      <td>0.0</td>\n",
       "      <td>0.0</td>\n",
       "      <td>-9.368220</td>\n",
       "      <td>-9.368220</td>\n",
       "      <td>-9.368220</td>\n",
       "      <td>0.0</td>\n",
       "      <td>0.0</td>\n",
       "      <td>0.0</td>\n",
       "      <td>209.506701</td>\n",
       "    </tr>\n",
       "    <tr>\n",
       "      <th>17</th>\n",
       "      <td>2019-05-05</td>\n",
       "      <td>218.687547</td>\n",
       "      <td>197.419516</td>\n",
       "      <td>257.924370</td>\n",
       "      <td>218.377941</td>\n",
       "      <td>218.962641</td>\n",
       "      <td>0.0</td>\n",
       "      <td>0.0</td>\n",
       "      <td>0.0</td>\n",
       "      <td>0.0</td>\n",
       "      <td>...</td>\n",
       "      <td>0.0</td>\n",
       "      <td>0.0</td>\n",
       "      <td>0.0</td>\n",
       "      <td>9.895218</td>\n",
       "      <td>9.895218</td>\n",
       "      <td>9.895218</td>\n",
       "      <td>0.0</td>\n",
       "      <td>0.0</td>\n",
       "      <td>0.0</td>\n",
       "      <td>228.582764</td>\n",
       "    </tr>\n",
       "    <tr>\n",
       "      <th>18</th>\n",
       "      <td>2019-05-12</td>\n",
       "      <td>218.500172</td>\n",
       "      <td>191.806662</td>\n",
       "      <td>252.627125</td>\n",
       "      <td>218.156510</td>\n",
       "      <td>218.817133</td>\n",
       "      <td>0.0</td>\n",
       "      <td>0.0</td>\n",
       "      <td>0.0</td>\n",
       "      <td>0.0</td>\n",
       "      <td>...</td>\n",
       "      <td>0.0</td>\n",
       "      <td>0.0</td>\n",
       "      <td>0.0</td>\n",
       "      <td>3.718062</td>\n",
       "      <td>3.718062</td>\n",
       "      <td>3.718062</td>\n",
       "      <td>0.0</td>\n",
       "      <td>0.0</td>\n",
       "      <td>0.0</td>\n",
       "      <td>222.218234</td>\n",
       "    </tr>\n",
       "    <tr>\n",
       "      <th>19</th>\n",
       "      <td>2019-05-19</td>\n",
       "      <td>218.312798</td>\n",
       "      <td>195.982317</td>\n",
       "      <td>252.395027</td>\n",
       "      <td>217.933555</td>\n",
       "      <td>218.676355</td>\n",
       "      <td>0.0</td>\n",
       "      <td>0.0</td>\n",
       "      <td>0.0</td>\n",
       "      <td>0.0</td>\n",
       "      <td>...</td>\n",
       "      <td>0.0</td>\n",
       "      <td>0.0</td>\n",
       "      <td>0.0</td>\n",
       "      <td>4.263433</td>\n",
       "      <td>4.263433</td>\n",
       "      <td>4.263433</td>\n",
       "      <td>0.0</td>\n",
       "      <td>0.0</td>\n",
       "      <td>0.0</td>\n",
       "      <td>222.576230</td>\n",
       "    </tr>\n",
       "  </tbody>\n",
       "</table>\n",
       "<p>20 rows × 61 columns</p>\n",
       "</div>"
      ],
      "text/plain": [
       "           ds       trend  yhat_lower  yhat_upper  trend_lower  trend_upper  \\\n",
       "0  2019-01-06  221.872914  171.937906  228.610143   221.872914   221.872914   \n",
       "1  2019-01-13  221.685540  195.891482  255.254308   221.685540   221.685540   \n",
       "2  2019-01-20  221.498165  170.819609  232.263884   221.498165   221.498165   \n",
       "3  2019-01-27  221.310791  160.787335  220.683819   221.310791   221.310791   \n",
       "4  2019-02-03  221.123416  182.021544  240.107494   221.123416   221.123416   \n",
       "5  2019-02-10  220.936041  162.812232  222.327051   220.936041   220.936041   \n",
       "6  2019-02-17  220.748667  165.294737  226.230169   220.748382   220.748667   \n",
       "7  2019-02-24  220.561292  142.400658  201.687153   220.550719   220.564726   \n",
       "8  2019-03-03  220.373918  176.450907  235.780337   220.343436   220.392101   \n",
       "9  2019-03-10  220.186543  168.653920  229.181766   220.135967   220.216510   \n",
       "10 2019-03-17  219.999169  184.283589  244.011550   219.929860   220.049084   \n",
       "11 2019-03-24  219.811794  170.073212  224.719390   219.721733   219.888606   \n",
       "12 2019-03-31  219.624420  174.281507  233.993969   219.497671   219.727674   \n",
       "13 2019-04-07  219.437045  184.796716  241.367394   219.284102   219.572829   \n",
       "14 2019-04-14  219.249670  182.657480  239.602113   219.054433   219.418248   \n",
       "15 2019-04-21  219.062296  173.234215  228.471738   218.833235   219.261974   \n",
       "16 2019-04-28  218.874921  180.424474  239.382637   218.612215   219.118747   \n",
       "17 2019-05-05  218.687547  197.419516  257.924370   218.377941   218.962641   \n",
       "18 2019-05-12  218.500172  191.806662  252.627125   218.156510   218.817133   \n",
       "19 2019-05-19  218.312798  195.982317  252.395027   217.933555   218.676355   \n",
       "\n",
       "    Christmas Day  Christmas Day_lower  Christmas Day_upper  \\\n",
       "0             0.0                  0.0                  0.0   \n",
       "1             0.0                  0.0                  0.0   \n",
       "2             0.0                  0.0                  0.0   \n",
       "3             0.0                  0.0                  0.0   \n",
       "4             0.0                  0.0                  0.0   \n",
       "5             0.0                  0.0                  0.0   \n",
       "6             0.0                  0.0                  0.0   \n",
       "7             0.0                  0.0                  0.0   \n",
       "8             0.0                  0.0                  0.0   \n",
       "9             0.0                  0.0                  0.0   \n",
       "10            0.0                  0.0                  0.0   \n",
       "11            0.0                  0.0                  0.0   \n",
       "12            0.0                  0.0                  0.0   \n",
       "13            0.0                  0.0                  0.0   \n",
       "14            0.0                  0.0                  0.0   \n",
       "15            0.0                  0.0                  0.0   \n",
       "16            0.0                  0.0                  0.0   \n",
       "17            0.0                  0.0                  0.0   \n",
       "18            0.0                  0.0                  0.0   \n",
       "19            0.0                  0.0                  0.0   \n",
       "\n",
       "    Christmas Day (Observed)  ...  holidays  holidays_lower  holidays_upper  \\\n",
       "0                        0.0  ...       0.0             0.0             0.0   \n",
       "1                        0.0  ...       0.0             0.0             0.0   \n",
       "2                        0.0  ...       0.0             0.0             0.0   \n",
       "3                        0.0  ...       0.0             0.0             0.0   \n",
       "4                        0.0  ...       0.0             0.0             0.0   \n",
       "5                        0.0  ...       0.0             0.0             0.0   \n",
       "6                        0.0  ...       0.0             0.0             0.0   \n",
       "7                        0.0  ...       0.0             0.0             0.0   \n",
       "8                        0.0  ...       0.0             0.0             0.0   \n",
       "9                        0.0  ...       0.0             0.0             0.0   \n",
       "10                       0.0  ...       0.0             0.0             0.0   \n",
       "11                       0.0  ...       0.0             0.0             0.0   \n",
       "12                       0.0  ...       0.0             0.0             0.0   \n",
       "13                       0.0  ...       0.0             0.0             0.0   \n",
       "14                       0.0  ...       0.0             0.0             0.0   \n",
       "15                       0.0  ...       0.0             0.0             0.0   \n",
       "16                       0.0  ...       0.0             0.0             0.0   \n",
       "17                       0.0  ...       0.0             0.0             0.0   \n",
       "18                       0.0  ...       0.0             0.0             0.0   \n",
       "19                       0.0  ...       0.0             0.0             0.0   \n",
       "\n",
       "       yearly  yearly_lower  yearly_upper  multiplicative_terms  \\\n",
       "0  -22.920864    -22.920864    -22.920864                   0.0   \n",
       "1    5.254499      5.254499      5.254499                   0.0   \n",
       "2  -20.460986    -20.460986    -20.460986                   0.0   \n",
       "3  -28.752540    -28.752540    -28.752540                   0.0   \n",
       "4   -8.524012     -8.524012     -8.524012                   0.0   \n",
       "5  -28.239974    -28.239974    -28.239974                   0.0   \n",
       "6  -26.080804    -26.080804    -26.080804                   0.0   \n",
       "7  -47.293870    -47.293870    -47.293870                   0.0   \n",
       "8  -13.259920    -13.259920    -13.259920                   0.0   \n",
       "9  -20.229658    -20.229658    -20.229658                   0.0   \n",
       "10  -5.626258     -5.626258     -5.626258                   0.0   \n",
       "11 -23.310856    -23.310856    -23.310856                   0.0   \n",
       "12 -14.554002    -14.554002    -14.554002                   0.0   \n",
       "13  -6.930211     -6.930211     -6.930211                   0.0   \n",
       "14  -6.710819     -6.710819     -6.710819                   0.0   \n",
       "15 -19.328818    -19.328818    -19.328818                   0.0   \n",
       "16  -9.368220     -9.368220     -9.368220                   0.0   \n",
       "17   9.895218      9.895218      9.895218                   0.0   \n",
       "18   3.718062      3.718062      3.718062                   0.0   \n",
       "19   4.263433      4.263433      4.263433                   0.0   \n",
       "\n",
       "    multiplicative_terms_lower  multiplicative_terms_upper        yhat  \n",
       "0                          0.0                         0.0  198.952050  \n",
       "1                          0.0                         0.0  226.940039  \n",
       "2                          0.0                         0.0  201.037179  \n",
       "3                          0.0                         0.0  192.558251  \n",
       "4                          0.0                         0.0  212.599405  \n",
       "5                          0.0                         0.0  192.696068  \n",
       "6                          0.0                         0.0  194.667863  \n",
       "7                          0.0                         0.0  173.267422  \n",
       "8                          0.0                         0.0  207.113998  \n",
       "9                          0.0                         0.0  199.956886  \n",
       "10                         0.0                         0.0  214.372910  \n",
       "11                         0.0                         0.0  196.500939  \n",
       "12                         0.0                         0.0  205.070418  \n",
       "13                         0.0                         0.0  212.506834  \n",
       "14                         0.0                         0.0  212.538852  \n",
       "15                         0.0                         0.0  199.733478  \n",
       "16                         0.0                         0.0  209.506701  \n",
       "17                         0.0                         0.0  228.582764  \n",
       "18                         0.0                         0.0  222.218234  \n",
       "19                         0.0                         0.0  222.576230  \n",
       "\n",
       "[20 rows x 61 columns]"
      ]
     },
     "execution_count": 121,
     "metadata": {},
     "output_type": "execute_result"
    }
   ],
   "source": [
    "forecast = m.predict(future)\n",
    "forecast"
   ]
  },
  {
   "cell_type": "code",
   "execution_count": 102,
   "metadata": {},
   "outputs": [
    {
     "data": {
      "text/html": [
       "<div>\n",
       "<style scoped>\n",
       "    .dataframe tbody tr th:only-of-type {\n",
       "        vertical-align: middle;\n",
       "    }\n",
       "\n",
       "    .dataframe tbody tr th {\n",
       "        vertical-align: top;\n",
       "    }\n",
       "\n",
       "    .dataframe thead th {\n",
       "        text-align: right;\n",
       "    }\n",
       "</style>\n",
       "<table border=\"1\" class=\"dataframe\">\n",
       "  <thead>\n",
       "    <tr style=\"text-align: right;\">\n",
       "      <th></th>\n",
       "      <th>ds</th>\n",
       "      <th>yhat</th>\n",
       "      <th>yhat_lower</th>\n",
       "      <th>yhat_upper</th>\n",
       "    </tr>\n",
       "  </thead>\n",
       "  <tbody>\n",
       "    <tr>\n",
       "      <th>15</th>\n",
       "      <td>2019-04-21</td>\n",
       "      <td>199.733478</td>\n",
       "      <td>170.575532</td>\n",
       "      <td>228.278724</td>\n",
       "    </tr>\n",
       "    <tr>\n",
       "      <th>16</th>\n",
       "      <td>2019-04-28</td>\n",
       "      <td>209.506701</td>\n",
       "      <td>180.767580</td>\n",
       "      <td>238.830311</td>\n",
       "    </tr>\n",
       "    <tr>\n",
       "      <th>17</th>\n",
       "      <td>2019-05-05</td>\n",
       "      <td>228.582764</td>\n",
       "      <td>199.331892</td>\n",
       "      <td>258.716620</td>\n",
       "    </tr>\n",
       "    <tr>\n",
       "      <th>18</th>\n",
       "      <td>2019-05-12</td>\n",
       "      <td>222.218234</td>\n",
       "      <td>191.859276</td>\n",
       "      <td>251.426638</td>\n",
       "    </tr>\n",
       "    <tr>\n",
       "      <th>19</th>\n",
       "      <td>2019-05-19</td>\n",
       "      <td>222.576230</td>\n",
       "      <td>194.161560</td>\n",
       "      <td>251.526898</td>\n",
       "    </tr>\n",
       "  </tbody>\n",
       "</table>\n",
       "</div>"
      ],
      "text/plain": [
       "           ds        yhat  yhat_lower  yhat_upper\n",
       "15 2019-04-21  199.733478  170.575532  228.278724\n",
       "16 2019-04-28  209.506701  180.767580  238.830311\n",
       "17 2019-05-05  228.582764  199.331892  258.716620\n",
       "18 2019-05-12  222.218234  191.859276  251.426638\n",
       "19 2019-05-19  222.576230  194.161560  251.526898"
      ]
     },
     "execution_count": 102,
     "metadata": {},
     "output_type": "execute_result"
    }
   ],
   "source": [
    "forecast[['ds', 'yhat', 'yhat_lower', 'yhat_upper']].tail()"
   ]
  },
  {
   "cell_type": "code",
   "execution_count": 103,
   "metadata": {},
   "outputs": [
    {
     "data": {
      "image/png": "[encoded data removed]",
      "text/plain": [
       "<Figure size 720x432 with 1 Axes>"
      ]
     },
     "metadata": {},
     "output_type": "display_data"
    }
   ],
   "source": [
    "fig1 = m.plot(forecast)"
   ]
  },
  {
   "cell_type": "code",
   "execution_count": 104,
   "metadata": {},
   "outputs": [
    {
     "data": {
      "image/png": "[encoded data removed]",
      "text/plain": [
       "<Figure size 648x648 with 3 Axes>"
      ]
     },
     "metadata": {},
     "output_type": "display_data"
    }
   ],
   "source": [
    "fig2 = m.plot_components(forecast)"
   ]
  },
  {
   "cell_type": "code",
   "execution_count": 105,
   "metadata": {},
   "outputs": [
    {
     "data": {
      "image/png": "[encoded data removed]",
      "text/plain": [
       "<Figure size 720x432 with 1 Axes>"
      ]
     },
     "metadata": {},
     "output_type": "display_data"
    }
   ],
   "source": [
    "from fbprophet import plot as pl\n",
    "a = pl.plot_yearly(m)"
   ]
  },
  {
   "cell_type": "code",
   "execution_count": 106,
   "metadata": {},
   "outputs": [],
   "source": [
    "import matplotlib.pyplot as plt"
   ]
  },
  {
   "cell_type": "markdown",
   "metadata": {},
   "source": [
    "baseline"
   ]
  },
  {
   "cell_type": "code",
   "execution_count": 107,
   "metadata": {},
   "outputs": [],
   "source": [
    "y_act_18 = df['y'][-52:]\n",
    "y_base_19 = [y_act_18.mean()]*20"
   ]
  },
  {
   "cell_type": "code",
   "execution_count": 114,
   "metadata": {},
   "outputs": [
    {
     "data": {
      "text/plain": [
       "20"
      ]
     },
     "execution_count": 114,
     "metadata": {},
     "output_type": "execute_result"
    }
   ],
   "source": [
    "x = forecast.index.values[:52]\n",
    "y = forecast['yhat'][:52]\n",
    "y_low = forecast['yhat_lower'][:52]\n",
    "y_up = forecast['yhat_upper'][:52]\n",
    "\n",
    "len(y)"
   ]
  },
  {
   "cell_type": "code",
   "execution_count": 115,
   "metadata": {},
   "outputs": [],
   "source": [
    "df_act = pd.read_csv('../../data/cleaned/weekseries_19.csv')\n",
    "yr = df_act.acc_nr.values[:20]"
   ]
  },
  {
   "cell_type": "code",
   "execution_count": 110,
   "metadata": {},
   "outputs": [
    {
     "data": {
      "text/plain": [
       "20"
      ]
     },
     "execution_count": 110,
     "metadata": {},
     "output_type": "execute_result"
    }
   ],
   "source": [
    "len(yr)"
   ]
  },
  {
   "cell_type": "code",
   "execution_count": 128,
   "metadata": {},
   "outputs": [
    {
     "data": {
      "text/plain": [
       "<matplotlib.legend.Legend at 0x1a213fd400>"
      ]
     },
     "execution_count": 128,
     "metadata": {},
     "output_type": "execute_result"
    },
    {
     "data": {
      "image/png": "[encoded data removed]",
      "text/plain": [
       "<Figure size 864x432 with 1 Axes>"
      ]
     },
     "metadata": {
      "needs_background": "light"
     },
     "output_type": "display_data"
    }
   ],
   "source": [
    "fig, ax = plt.subplots(figsize=(12,6))\n",
    "ax.plot(x,y, 'b.-', label='predictions', lw=0.8)\n",
    "ax.plot(x,y_up, 'b-', label='upper', lw=0.3)\n",
    "ax.plot(x,y_low, 'b-', label='lower', lw=0.3)\n",
    "ax.fill_between(x, y_low, y_up, facecolor='lightblue')\n",
    "ax.plot(x,yr, 'r.-', label='actuals', lw=1)\n",
    "ax.plot(x,y_base_19, 'g.-', label='baseline', lw=0.5)\n",
    "ax.set_ylim(0,300)\n",
    "ax.legend()"
   ]
  },
  {
   "cell_type": "code",
   "execution_count": 112,
   "metadata": {},
   "outputs": [
    {
     "name": "stdout",
     "output_type": "stream",
     "text": [
      "MSE to actuals: 1239.2485042804478\n",
      "MSE to baseline: 2397.138091715977\n"
     ]
    }
   ],
   "source": [
    "from sklearn.metrics import mean_squared_error\n",
    "print('MSE to actuals:', mean_squared_error(y,yr))\n",
    "print('MSE to baseline:', mean_squared_error(y_base_19, yr))"
   ]
  },
  {
   "cell_type": "code",
   "execution_count": 130,
   "metadata": {},
   "outputs": [
    {
     "name": "stdout",
     "output_type": "stream",
     "text": [
      "MSE to actuals: 16.385898866157042\n",
      "MSE to baseline: 620.2015532544382\n",
      "MSE to actuals: 49.23439803580496\n",
      "MSE to baseline: 342.8746301775149\n",
      "MSE to actuals: 38.25587111047672\n",
      "MSE to baseline: 546.9323224852074\n",
      "MSE to actuals: 190.51255225946974\n",
      "MSE to baseline: 434.72078402366884\n",
      "MSE to actuals: 214.35784976507753\n",
      "MSE to baseline: 564.3092455621305\n",
      "MSE to actuals: 285.34637169724544\n",
      "MSE to baseline: 486.6053994082843\n",
      "MSE to actuals: 469.37393610765656\n",
      "MSE to baseline: 1176.371882924768\n",
      "MSE to actuals: 437.83330035008714\n",
      "MSE to baseline: 1228.3650147928997\n",
      "MSE to actuals: 577.003026038247\n",
      "MSE to baseline: 1517.6673652202503\n",
      "MSE to actuals: 648.5924856072733\n",
      "MSE to baseline: 1774.270784023669\n",
      "MSE to actuals: 943.3004357389786\n",
      "MSE to baseline: 2136.736518289403\n",
      "MSE to actuals: 890.2156369299219\n",
      "MSE to baseline: 2157.9739891518743\n",
      "MSE to actuals: 862.6793710985166\n",
      "MSE to baseline: 2154.065458579882\n",
      "MSE to actuals: 801.9310021875586\n",
      "MSE to baseline: 2010.325179628065\n",
      "MSE to actuals: 832.6696001037034\n",
      "MSE to baseline: 2049.0502712031566\n",
      "MSE to actuals: 800.2825153397541\n",
      "MSE to baseline: 2052.682322485208\n",
      "MSE to actuals: 827.3674174477862\n",
      "MSE to baseline: 2102.855399408285\n",
      "MSE to actuals: 855.7524861856157\n",
      "MSE to baseline: 2057.645997698883\n",
      "MSE to actuals: 954.2257212534121\n",
      "MSE to baseline: 2125.8149135783256\n"
     ]
    }
   ],
   "source": [
    "for i in range(1,len(yr)):\n",
    "    print('MSE to actuals:', mean_squared_error(y[:i],yr[:i]))\n",
    "    print('MSE to baseline:', mean_squared_error(y_base_19[:i], yr[:i]))"
   ]
  },
  {
   "cell_type": "markdown",
   "metadata": {},
   "source": [
    "##### Rolling windows"
   ]
  },
  {
   "cell_type": "code",
   "execution_count": 84,
   "metadata": {},
   "outputs": [],
   "source": [
    "df_act.set_index('ds', inplace=True)"
   ]
  },
  {
   "cell_type": "code",
   "execution_count": 85,
   "metadata": {},
   "outputs": [],
   "source": [
    "rolling = df_act.rolling(5, center=True)\n",
    "\n",
    "mean = rolling.mean()\n",
    "\n",
    "ym = mean.acc_nr.values"
   ]
  },
  {
   "cell_type": "code",
   "execution_count": null,
   "metadata": {},
   "outputs": [],
   "source": [
    "fig, ax = plt.subplots(figsize=(12,6))\n",
    "ax.plot(x,y, 'b.-', label='predictions', lw=0.5)\n",
    "ax.plot(x,ym, 'r.-', label='actuals, smoothed', lw=0.5)\n",
    "ax.set_ylim(0,300)\n",
    "ax.legend()"
   ]
  },
  {
   "cell_type": "code",
   "execution_count": null,
   "metadata": {},
   "outputs": [],
   "source": [
    "mean_squared_error(y[pd.notnull(ym)],ym[pd.notnull(ym)])"
   ]
  },
  {
   "cell_type": "markdown",
   "metadata": {},
   "source": [
    "#### Smooth out both actuals and predictions"
   ]
  },
  {
   "cell_type": "code",
   "execution_count": null,
   "metadata": {},
   "outputs": [],
   "source": [
    "fc_ds = forecast[['ds','yhat']][:52]\n",
    "fc_ds.set_index('ds', inplace=True)"
   ]
  },
  {
   "cell_type": "code",
   "execution_count": null,
   "metadata": {},
   "outputs": [],
   "source": [
    "rolling_fc = fc_ds.rolling(5, center=True)\n",
    "mean_fc = rolling_fc.mean()\n",
    "yfcm = mean_fc.yhat.values"
   ]
  },
  {
   "cell_type": "code",
   "execution_count": null,
   "metadata": {},
   "outputs": [],
   "source": [
    "fig, ax = plt.subplots(figsize=(12,6))\n",
    "ax.plot(x,yfcm, 'b.-', label='predictions', lw=0.5)\n",
    "ax.plot(x,ym, 'r.-', label='actuals, smoothed', lw=0.5)\n",
    "ax.set_ylim(0,300)\n",
    "ax.legend()"
   ]
  },
  {
   "cell_type": "code",
   "execution_count": null,
   "metadata": {},
   "outputs": [],
   "source": [
    "mean_squared_error(yfcm[pd.notnull(ym)],ym[pd.notnull(ym)])"
   ]
  },
  {
   "cell_type": "markdown",
   "metadata": {},
   "source": [
    "However, the mean is a better predictor:"
   ]
  },
  {
   "cell_type": "code",
   "execution_count": 17,
   "metadata": {},
   "outputs": [
    {
     "ename": "NameError",
     "evalue": "name 'ym' is not defined",
     "output_type": "error",
     "traceback": [
      "\u001b[0;31m---------------------------------------------------------------------------\u001b[0m",
      "\u001b[0;31mNameError\u001b[0m                                 Traceback (most recent call last)",
      "\u001b[0;32m<ipython-input-17-b2724a052e95>\u001b[0m in \u001b[0;36m<module>\u001b[0;34m\u001b[0m\n\u001b[0;32m----> 1\u001b[0;31m \u001b[0mym\u001b[0m\u001b[0;34m[\u001b[0m\u001b[0mpd\u001b[0m\u001b[0;34m.\u001b[0m\u001b[0mnotnull\u001b[0m\u001b[0;34m(\u001b[0m\u001b[0mym\u001b[0m\u001b[0;34m)\u001b[0m\u001b[0;34m]\u001b[0m\u001b[0;34m.\u001b[0m\u001b[0mmean\u001b[0m\u001b[0;34m(\u001b[0m\u001b[0;34m)\u001b[0m\u001b[0;34m\u001b[0m\u001b[0;34m\u001b[0m\u001b[0m\n\u001b[0m",
      "\u001b[0;31mNameError\u001b[0m: name 'ym' is not defined"
     ]
    }
   ],
   "source": [
    "ym[pd.notnull(ym)].mean()"
   ]
  },
  {
   "cell_type": "code",
   "execution_count": null,
   "metadata": {},
   "outputs": [],
   "source": []
  },
  {
   "cell_type": "code",
   "execution_count": 109,
   "metadata": {},
   "outputs": [],
   "source": [
    "ys = [ym[pd.notnull(ym)].mean()]*len(ym[pd.notnull(ym)])"
   ]
  },
  {
   "cell_type": "code",
   "execution_count": 110,
   "metadata": {},
   "outputs": [
    {
     "data": {
      "text/plain": [
       "156.31692708333333"
      ]
     },
     "execution_count": 110,
     "metadata": {},
     "output_type": "execute_result"
    }
   ],
   "source": [
    "mean_squared_error(ys,ym[pd.notnull(ym)])"
   ]
  },
  {
   "cell_type": "code",
   "execution_count": null,
   "metadata": {},
   "outputs": [],
   "source": []
  }
 ],
 "metadata": {
  "kernelspec": {
   "display_name": "Python 3",
   "language": "python",
   "name": "python3"
  },
  "language_info": {
   "codemirror_mode": {
    "name": "ipython",
    "version": 3
   },
   "file_extension": ".py",
   "mimetype": "text/x-python",
   "name": "python",
   "nbconvert_exporter": "python",
   "pygments_lexer": "ipython3",
   "version": "3.7.3"
  }
 },
 "nbformat": 4,
 "nbformat_minor": 2
}
