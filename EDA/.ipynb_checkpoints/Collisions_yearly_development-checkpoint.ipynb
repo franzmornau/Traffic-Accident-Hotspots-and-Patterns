{
 "cells": [
  {
   "cell_type": "code",
   "execution_count": 1,
   "metadata": {},
   "outputs": [],
   "source": [
    "import pandas as pd\n",
    "import numpy as np\n",
    "import matplotlib.pyplot as plt\n",
    "import geopandas as gpd\n",
    "from shapely.geometry import Point, Polygon, LineString\n",
    "import seaborn as sns"
   ]
  },
  {
   "cell_type": "code",
   "execution_count": 2,
   "metadata": {},
   "outputs": [],
   "source": [
    "#acc = gpd.read_file('https://opendata.arcgis.com/datasets/5b5c745e0f1f48e7a53acec63a0022ab_0.geojson')"
   ]
  },
  {
   "cell_type": "code",
   "execution_count": 3,
   "metadata": {},
   "outputs": [],
   "source": [
    "acc = gpd.read_file('data/Collisions.geojson')"
   ]
  },
  {
   "cell_type": "code",
   "execution_count": 4,
   "metadata": {},
   "outputs": [],
   "source": [
    "timeline=acc['INCDATE']"
   ]
  },
  {
   "cell_type": "code",
   "execution_count": 5,
   "metadata": {},
   "outputs": [
    {
     "data": {
      "text/plain": [
       "'8/15/2018 8:00:00 PM'"
      ]
     },
     "execution_count": 5,
     "metadata": {},
     "output_type": "execute_result"
    }
   ],
   "source": [
    "inc_datetimes=acc['INCDTTM']\n",
    "inc_datetimes[0]"
   ]
  },
  {
   "cell_type": "code",
   "execution_count": 6,
   "metadata": {},
   "outputs": [
    {
     "data": {
      "text/plain": [
       "pandas.core.series.Series"
      ]
     },
     "execution_count": 6,
     "metadata": {},
     "output_type": "execute_result"
    }
   ],
   "source": [
    "type(inc_datetimes)"
   ]
  },
  {
   "cell_type": "code",
   "execution_count": 7,
   "metadata": {},
   "outputs": [
    {
     "name": "stdout",
     "output_type": "stream",
     "text": [
      "2018-08-15 20:00:00\n"
     ]
    }
   ],
   "source": [
    "from dateutil import parser\n",
    "dt = parser.parse(inc_datetimes[0])\n",
    "print(dt)"
   ]
  },
  {
   "cell_type": "code",
   "execution_count": 8,
   "metadata": {},
   "outputs": [],
   "source": [
    "dts = pd.Series([parser.parse(d) for d in inc_datetimes])"
   ]
  },
  {
   "cell_type": "code",
   "execution_count": 9,
   "metadata": {},
   "outputs": [
    {
     "data": {
      "text/plain": [
       "pandas.core.series.Series"
      ]
     },
     "execution_count": 9,
     "metadata": {},
     "output_type": "execute_result"
    }
   ],
   "source": [
    "type(dts)"
   ]
  },
  {
   "cell_type": "code",
   "execution_count": 10,
   "metadata": {},
   "outputs": [],
   "source": [
    "acc['inc_datetime'] = dts"
   ]
  },
  {
   "cell_type": "code",
   "execution_count": 11,
   "metadata": {},
   "outputs": [],
   "source": [
    "years = pd.DataFrame([d.year for d in dts], columns=['year'])"
   ]
  },
  {
   "cell_type": "code",
   "execution_count": 12,
   "metadata": {},
   "outputs": [
    {
     "data": {
      "text/plain": [
       "year    209386\n",
       "dtype: int64"
      ]
     },
     "execution_count": 12,
     "metadata": {},
     "output_type": "execute_result"
    }
   ],
   "source": [
    "years.count()"
   ]
  },
  {
   "cell_type": "code",
   "execution_count": 13,
   "metadata": {},
   "outputs": [
    {
     "data": {
      "text/html": [
       "<div>\n",
       "<style scoped>\n",
       "    .dataframe tbody tr th:only-of-type {\n",
       "        vertical-align: middle;\n",
       "    }\n",
       "\n",
       "    .dataframe tbody tr th {\n",
       "        vertical-align: top;\n",
       "    }\n",
       "\n",
       "    .dataframe thead th {\n",
       "        text-align: right;\n",
       "    }\n",
       "</style>\n",
       "<table border=\"1\" class=\"dataframe\">\n",
       "  <thead>\n",
       "    <tr style=\"text-align: right;\">\n",
       "      <th></th>\n",
       "      <th>year</th>\n",
       "    </tr>\n",
       "  </thead>\n",
       "  <tbody>\n",
       "    <tr>\n",
       "      <th>0</th>\n",
       "      <td>2018</td>\n",
       "    </tr>\n",
       "  </tbody>\n",
       "</table>\n",
       "</div>"
      ],
      "text/plain": [
       "   year\n",
       "0  2018"
      ]
     },
     "execution_count": 13,
     "metadata": {},
     "output_type": "execute_result"
    }
   ],
   "source": [
    "years.head(1)"
   ]
  },
  {
   "cell_type": "code",
   "execution_count": 14,
   "metadata": {},
   "outputs": [],
   "source": [
    "years_cleaned = years[(years['year']>2003) & (years['year']<2019)]"
   ]
  },
  {
   "cell_type": "code",
   "execution_count": 15,
   "metadata": {},
   "outputs": [
    {
     "data": {
      "text/plain": [
       "year\n",
       "2004    15457\n",
       "2005    16016\n",
       "2006    15794\n",
       "2007    15082\n",
       "2008    14139\n",
       "2009    13275\n",
       "2010    11958\n",
       "2011    12416\n",
       "2012    12732\n",
       "2013    12757\n",
       "2014    13212\n",
       "2015    14260\n",
       "2016    13905\n",
       "2017    12475\n",
       "2018    12192\n",
       "dtype: int64"
      ]
     },
     "execution_count": 15,
     "metadata": {},
     "output_type": "execute_result"
    }
   ],
   "source": [
    "years_count=years_cleaned.groupby('year').size()\n",
    "years_count"
   ]
  },
  {
   "cell_type": "code",
   "execution_count": 25,
   "metadata": {},
   "outputs": [
    {
     "data": {
      "text/plain": [
       "Int64Index([2004, 2005, 2006, 2007, 2008, 2009, 2010, 2011, 2012, 2013, 2014,\n",
       "            2015, 2016, 2017, 2018],\n",
       "           dtype='int64', name='year')"
      ]
     },
     "execution_count": 25,
     "metadata": {},
     "output_type": "execute_result"
    }
   ],
   "source": [
    "years_count.index"
   ]
  },
  {
   "cell_type": "code",
   "execution_count": 32,
   "metadata": {},
   "outputs": [],
   "source": [
    "def history_plt_04to18(disp_values, label):\n",
    "    '''\n",
    "    plots values form statistics for the years 2004 to 2008.\n",
    "    Input: list of 14 values\n",
    "    output: plot\n",
    "    '''\n",
    "    x = [2004, 2005, 2006, 2007, 2008, 2009, 2010, 2011, 2012, 2013, 2014,\n",
    "            2015, 2016, 2017, 2018]\n",
    "    y = disp_values #years_count.values\n",
    "\n",
    "    plt.figure(figsize=(10,6)) \n",
    "    plt.bar(x, y, color = 'b')\n",
    "    plt.title('{} per year'.format(label))\n",
    "    plt.xlabel('Years')\n",
    "    plt.ylabel(label)\n",
    "\n",
    "    plt.savefig('{}_by_year.png'.format(label))"
   ]
  },
  {
   "cell_type": "code",
   "execution_count": 33,
   "metadata": {},
   "outputs": [
    {
     "data": {
      "image/png": "[encoded data removed]",
      "text/plain": [
       "<Figure size 720x432 with 1 Axes>"
      ]
     },
     "metadata": {
      "needs_background": "light"
     },
     "output_type": "display_data"
    }
   ],
   "source": [
    "history_plt_04to18(years_count.values, 'Accidents')"
   ]
  },
  {
   "cell_type": "code",
   "execution_count": 57,
   "metadata": {},
   "outputs": [],
   "source": [
    "popl_gr = pd.read_csv('data/seattle_ppl.csv', ' ')"
   ]
  },
  {
   "cell_type": "code",
   "execution_count": 58,
   "metadata": {},
   "outputs": [
    {
     "data": {
      "text/plain": [
       "numpy.int64"
      ]
     },
     "execution_count": 58,
     "metadata": {},
     "output_type": "execute_result"
    }
   ],
   "source": [
    "type(popl_gr['Population'][0])\n"
   ]
  },
  {
   "cell_type": "code",
   "execution_count": 59,
   "metadata": {},
   "outputs": [
    {
     "data": {
      "image/png": "[encoded data removed]",
      "text/plain": [
       "<Figure size 720x432 with 1 Axes>"
      ]
     },
     "metadata": {
      "needs_background": "light"
     },
     "output_type": "display_data"
    }
   ],
   "source": [
    "history_plt_04to18(popl_gr['Population'], 'Seattle Population')"
   ]
  },
  {
   "cell_type": "code",
   "execution_count": 53,
   "metadata": {},
   "outputs": [],
   "source": [
    "gdp = pd.read_csv('data/gdp_by_year.csv', '\\t')"
   ]
  },
  {
   "cell_type": "code",
   "execution_count": 38,
   "metadata": {},
   "outputs": [
    {
     "data": {
      "text/html": [
       "<div>\n",
       "<style scoped>\n",
       "    .dataframe tbody tr th:only-of-type {\n",
       "        vertical-align: middle;\n",
       "    }\n",
       "\n",
       "    .dataframe tbody tr th {\n",
       "        vertical-align: top;\n",
       "    }\n",
       "\n",
       "    .dataframe thead th {\n",
       "        text-align: right;\n",
       "    }\n",
       "</style>\n",
       "<table border=\"1\" class=\"dataframe\">\n",
       "  <thead>\n",
       "    <tr style=\"text-align: right;\">\n",
       "      <th></th>\n",
       "      <th>Year</th>\n",
       "      <th>Nominal GDP (trillions)</th>\n",
       "      <th>Real GDP (trillions)</th>\n",
       "      <th>GDP Growth Rate</th>\n",
       "      <th>Events Affecting GDP</th>\n",
       "    </tr>\n",
       "  </thead>\n",
       "  <tbody>\n",
       "    <tr>\n",
       "      <th>0</th>\n",
       "      <td>2004</td>\n",
       "      <td>12.214</td>\n",
       "      <td>14.406</td>\n",
       "      <td>3.8</td>\n",
       "      <td></td>\n",
       "    </tr>\n",
       "    <tr>\n",
       "      <th>1</th>\n",
       "      <td>2005</td>\n",
       "      <td>13.037</td>\n",
       "      <td>14.913</td>\n",
       "      <td>3.5</td>\n",
       "      <td>Katrina. Bankruptcy Act.</td>\n",
       "    </tr>\n",
       "    <tr>\n",
       "      <th>2</th>\n",
       "      <td>2006</td>\n",
       "      <td>13.815</td>\n",
       "      <td>15.338</td>\n",
       "      <td>2.9</td>\n",
       "      <td>Fed raised rates.</td>\n",
       "    </tr>\n",
       "    <tr>\n",
       "      <th>3</th>\n",
       "      <td>2007</td>\n",
       "      <td>14.452</td>\n",
       "      <td>15.626</td>\n",
       "      <td>1.9</td>\n",
       "      <td>Bank crisis.</td>\n",
       "    </tr>\n",
       "    <tr>\n",
       "      <th>4</th>\n",
       "      <td>2008</td>\n",
       "      <td>14.713</td>\n",
       "      <td>15.605</td>\n",
       "      <td>-0.1</td>\n",
       "      <td>Financial crisis.</td>\n",
       "    </tr>\n",
       "    <tr>\n",
       "      <th>5</th>\n",
       "      <td>2009</td>\n",
       "      <td>14.449</td>\n",
       "      <td>15.209</td>\n",
       "      <td>-2.5</td>\n",
       "      <td>Stimulus Act.</td>\n",
       "    </tr>\n",
       "    <tr>\n",
       "      <th>6</th>\n",
       "      <td>2010</td>\n",
       "      <td>14.992</td>\n",
       "      <td>15.599</td>\n",
       "      <td>2.6</td>\n",
       "      <td>ACA. Dodd-Frank.</td>\n",
       "    </tr>\n",
       "    <tr>\n",
       "      <th>7</th>\n",
       "      <td>2011</td>\n",
       "      <td>15.543</td>\n",
       "      <td>15.841</td>\n",
       "      <td>1.6</td>\n",
       "      <td>Japan earthquake.</td>\n",
       "    </tr>\n",
       "    <tr>\n",
       "      <th>8</th>\n",
       "      <td>2012</td>\n",
       "      <td>16.197</td>\n",
       "      <td>16.197</td>\n",
       "      <td>2.2</td>\n",
       "      <td>Fiscal cliff.</td>\n",
       "    </tr>\n",
       "    <tr>\n",
       "      <th>9</th>\n",
       "      <td>2013</td>\n",
       "      <td>16.785</td>\n",
       "      <td>16.495</td>\n",
       "      <td>1.8</td>\n",
       "      <td>Sequestration.</td>\n",
       "    </tr>\n",
       "    <tr>\n",
       "      <th>10</th>\n",
       "      <td>2014</td>\n",
       "      <td>17.522</td>\n",
       "      <td>16.900</td>\n",
       "      <td>2.5</td>\n",
       "      <td>QE ends.</td>\n",
       "    </tr>\n",
       "    <tr>\n",
       "      <th>11</th>\n",
       "      <td>2015</td>\n",
       "      <td>18.219</td>\n",
       "      <td>17.387</td>\n",
       "      <td>2.9</td>\n",
       "      <td>TPP. Iran deal.</td>\n",
       "    </tr>\n",
       "    <tr>\n",
       "      <th>12</th>\n",
       "      <td>2016</td>\n",
       "      <td>18.707</td>\n",
       "      <td>17.659</td>\n",
       "      <td>1.6</td>\n",
       "      <td>Presidential race.</td>\n",
       "    </tr>\n",
       "    <tr>\n",
       "      <th>13</th>\n",
       "      <td>2017</td>\n",
       "      <td>19.485</td>\n",
       "      <td>18.051</td>\n",
       "      <td>2.2</td>\n",
       "      <td>Trump Tax Act.</td>\n",
       "    </tr>\n",
       "    <tr>\n",
       "      <th>14</th>\n",
       "      <td>2018</td>\n",
       "      <td>20.494</td>\n",
       "      <td>18.566</td>\n",
       "      <td>2.9</td>\n",
       "      <td>Deficit spending.</td>\n",
       "    </tr>\n",
       "  </tbody>\n",
       "</table>\n",
       "</div>"
      ],
      "text/plain": [
       "    Year   Nominal GDP (trillions)  Real GDP (trillions)  GDP Growth Rate  \\\n",
       "0    2004                   12.214                14.406              3.8   \n",
       "1    2005                   13.037                14.913              3.5   \n",
       "2    2006                   13.815                15.338              2.9   \n",
       "3    2007                   14.452                15.626              1.9   \n",
       "4    2008                   14.713                15.605             -0.1   \n",
       "5    2009                   14.449                15.209             -2.5   \n",
       "6    2010                   14.992                15.599              2.6   \n",
       "7    2011                   15.543                15.841              1.6   \n",
       "8    2012                   16.197                16.197              2.2   \n",
       "9    2013                   16.785                16.495              1.8   \n",
       "10   2014                   17.522                16.900              2.5   \n",
       "11   2015                   18.219                17.387              2.9   \n",
       "12   2016                   18.707                17.659              1.6   \n",
       "13   2017                   19.485                18.051              2.2   \n",
       "14   2018                   20.494                18.566              2.9   \n",
       "\n",
       "        Events Affecting GDP  \n",
       "0                             \n",
       "1   Katrina. Bankruptcy Act.  \n",
       "2          Fed raised rates.  \n",
       "3               Bank crisis.  \n",
       "4          Financial crisis.  \n",
       "5              Stimulus Act.  \n",
       "6           ACA. Dodd-Frank.  \n",
       "7          Japan earthquake.  \n",
       "8              Fiscal cliff.  \n",
       "9             Sequestration.  \n",
       "10                  QE ends.  \n",
       "11           TPP. Iran deal.  \n",
       "12        Presidential race.  \n",
       "13            Trump Tax Act.  \n",
       "14         Deficit spending.  "
      ]
     },
     "execution_count": 38,
     "metadata": {},
     "output_type": "execute_result"
    }
   ],
   "source": [
    "gdp"
   ]
  },
  {
   "cell_type": "code",
   "execution_count": 39,
   "metadata": {
    "scrolled": true
   },
   "outputs": [
    {
     "data": {
      "image/png": "[encoded data removed]",
      "text/plain": [
       "<Figure size 720x432 with 1 Axes>"
      ]
     },
     "metadata": {
      "needs_background": "light"
     },
     "output_type": "display_data"
    }
   ],
   "source": [
    "history_plt_04to18(gdp['GDP Growth Rate'], 'GDP Growth Rate\t')"
   ]
  },
  {
   "cell_type": "code",
   "execution_count": null,
   "metadata": {},
   "outputs": [],
   "source": []
  }
 ],
 "metadata": {
  "kernelspec": {
   "display_name": "Python 3",
   "language": "python",
   "name": "python3"
  },
  "language_info": {
   "codemirror_mode": {
    "name": "ipython",
    "version": 3
   },
   "file_extension": ".py",
   "mimetype": "text/x-python",
   "name": "python",
   "nbconvert_exporter": "python",
   "pygments_lexer": "ipython3",
   "version": "3.7.3"
  }
 },
 "nbformat": 4,
 "nbformat_minor": 2
}
