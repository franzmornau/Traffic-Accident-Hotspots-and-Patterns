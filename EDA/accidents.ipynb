{
 "cells": [
  {
   "cell_type": "code",
   "execution_count": 1,
   "metadata": {},
   "outputs": [],
   "source": [
    "import pandas as pd\n",
    "import numpy as np\n",
    "import matplotlib.pyplot as plt\n",
    "import geopandas as gpd\n",
    "from shapely.geometry import Point, Polygon, LineString\n",
    "import seaborn as sns"
   ]
  },
  {
   "cell_type": "code",
   "execution_count": 2,
   "metadata": {},
   "outputs": [],
   "source": [
    "#acc = gpd.read_file('https://opendata.arcgis.com/datasets/5b5c745e0f1f48e7a53acec63a0022ab_0.geojson')"
   ]
  },
  {
   "cell_type": "code",
   "execution_count": 31,
   "metadata": {},
   "outputs": [],
   "source": [
    "acc = gpd.read_file('data/Collisions.geojson')"
   ]
  },
  {
   "cell_type": "code",
   "execution_count": 9,
   "metadata": {},
   "outputs": [
    {
     "data": {
      "text/plain": [
       "Index(['OBJECTID', 'INCKEY', 'COLDETKEY', 'REPORTNO', 'STATUS', 'ADDRTYPE',\n",
       "       'INTKEY', 'LOCATION', 'EXCEPTRSNCODE', 'EXCEPTRSNDESC', 'SEVERITYCODE',\n",
       "       'SEVERITYDESC', 'COLLISIONTYPE', 'PERSONCOUNT', 'PEDCOUNT',\n",
       "       'PEDCYLCOUNT', 'VEHCOUNT', 'INJURIES', 'SERIOUSINJURIES', 'FATALITIES',\n",
       "       'INCDATE', 'INCDTTM', 'JUNCTIONTYPE', 'SDOT_COLCODE', 'SDOT_COLDESC',\n",
       "       'INATTENTIONIND', 'UNDERINFL', 'WEATHER', 'ROADCOND', 'LIGHTCOND',\n",
       "       'PEDROWNOTGRNT', 'SDOTCOLNUM', 'SPEEDING', 'ST_COLCODE', 'ST_COLDESC',\n",
       "       'SEGLANEKEY', 'CROSSWALKKEY', 'HITPARKEDCAR', 'geometry'],\n",
       "      dtype='object')"
      ]
     },
     "execution_count": 9,
     "metadata": {},
     "output_type": "execute_result"
    }
   ],
   "source": [
    "acc.columns"
   ]
  },
  {
   "cell_type": "code",
   "execution_count": 6,
   "metadata": {},
   "outputs": [
    {
     "data": {
      "text/html": [
       "<div>\n",
       "<style scoped>\n",
       "    .dataframe tbody tr th:only-of-type {\n",
       "        vertical-align: middle;\n",
       "    }\n",
       "\n",
       "    .dataframe tbody tr th {\n",
       "        vertical-align: top;\n",
       "    }\n",
       "\n",
       "    .dataframe thead th {\n",
       "        text-align: right;\n",
       "    }\n",
       "</style>\n",
       "<table border=\"1\" class=\"dataframe\">\n",
       "  <thead>\n",
       "    <tr style=\"text-align: right;\">\n",
       "      <th></th>\n",
       "      <th>OBJECTID</th>\n",
       "      <th>INCKEY</th>\n",
       "      <th>COLDETKEY</th>\n",
       "      <th>INTKEY</th>\n",
       "      <th>PERSONCOUNT</th>\n",
       "      <th>PEDCOUNT</th>\n",
       "      <th>PEDCYLCOUNT</th>\n",
       "      <th>VEHCOUNT</th>\n",
       "      <th>INJURIES</th>\n",
       "      <th>SERIOUSINJURIES</th>\n",
       "      <th>FATALITIES</th>\n",
       "      <th>SEGLANEKEY</th>\n",
       "      <th>CROSSWALKKEY</th>\n",
       "    </tr>\n",
       "  </thead>\n",
       "  <tbody>\n",
       "    <tr>\n",
       "      <th>count</th>\n",
       "      <td>209386.00000</td>\n",
       "      <td>209386.000000</td>\n",
       "      <td>209386.000000</td>\n",
       "      <td>67595.000000</td>\n",
       "      <td>209386.000000</td>\n",
       "      <td>209386.000000</td>\n",
       "      <td>209386.000000</td>\n",
       "      <td>209386.000000</td>\n",
       "      <td>209386.000000</td>\n",
       "      <td>209386.000000</td>\n",
       "      <td>209386.000000</td>\n",
       "      <td>209386.000000</td>\n",
       "      <td>2.093860e+05</td>\n",
       "    </tr>\n",
       "    <tr>\n",
       "      <th>mean</th>\n",
       "      <td>104693.50000</td>\n",
       "      <td>134290.410959</td>\n",
       "      <td>134445.701537</td>\n",
       "      <td>37378.148576</td>\n",
       "      <td>2.225378</td>\n",
       "      <td>0.037261</td>\n",
       "      <td>0.026745</td>\n",
       "      <td>1.729882</td>\n",
       "      <td>0.373363</td>\n",
       "      <td>0.015001</td>\n",
       "      <td>0.001624</td>\n",
       "      <td>268.957595</td>\n",
       "      <td>9.620194e+03</td>\n",
       "    </tr>\n",
       "    <tr>\n",
       "      <th>std</th>\n",
       "      <td>60444.67607</td>\n",
       "      <td>79976.218314</td>\n",
       "      <td>80242.240004</td>\n",
       "      <td>50871.022327</td>\n",
       "      <td>1.479952</td>\n",
       "      <td>0.199185</td>\n",
       "      <td>0.162811</td>\n",
       "      <td>0.829770</td>\n",
       "      <td>0.734583</td>\n",
       "      <td>0.158796</td>\n",
       "      <td>0.044004</td>\n",
       "      <td>3298.801650</td>\n",
       "      <td>7.164626e+04</td>\n",
       "    </tr>\n",
       "    <tr>\n",
       "      <th>min</th>\n",
       "      <td>1.00000</td>\n",
       "      <td>1001.000000</td>\n",
       "      <td>1001.000000</td>\n",
       "      <td>23807.000000</td>\n",
       "      <td>0.000000</td>\n",
       "      <td>0.000000</td>\n",
       "      <td>0.000000</td>\n",
       "      <td>0.000000</td>\n",
       "      <td>0.000000</td>\n",
       "      <td>0.000000</td>\n",
       "      <td>0.000000</td>\n",
       "      <td>0.000000</td>\n",
       "      <td>0.000000e+00</td>\n",
       "    </tr>\n",
       "    <tr>\n",
       "      <th>25%</th>\n",
       "      <td>52347.25000</td>\n",
       "      <td>68633.250000</td>\n",
       "      <td>68633.250000</td>\n",
       "      <td>28648.000000</td>\n",
       "      <td>2.000000</td>\n",
       "      <td>0.000000</td>\n",
       "      <td>0.000000</td>\n",
       "      <td>2.000000</td>\n",
       "      <td>0.000000</td>\n",
       "      <td>0.000000</td>\n",
       "      <td>0.000000</td>\n",
       "      <td>0.000000</td>\n",
       "      <td>0.000000e+00</td>\n",
       "    </tr>\n",
       "    <tr>\n",
       "      <th>50%</th>\n",
       "      <td>104693.50000</td>\n",
       "      <td>121169.500000</td>\n",
       "      <td>121169.500000</td>\n",
       "      <td>29967.000000</td>\n",
       "      <td>2.000000</td>\n",
       "      <td>0.000000</td>\n",
       "      <td>0.000000</td>\n",
       "      <td>2.000000</td>\n",
       "      <td>0.000000</td>\n",
       "      <td>0.000000</td>\n",
       "      <td>0.000000</td>\n",
       "      <td>0.000000</td>\n",
       "      <td>0.000000e+00</td>\n",
       "    </tr>\n",
       "    <tr>\n",
       "      <th>75%</th>\n",
       "      <td>157039.75000</td>\n",
       "      <td>193163.750000</td>\n",
       "      <td>193243.750000</td>\n",
       "      <td>33963.000000</td>\n",
       "      <td>3.000000</td>\n",
       "      <td>0.000000</td>\n",
       "      <td>0.000000</td>\n",
       "      <td>2.000000</td>\n",
       "      <td>1.000000</td>\n",
       "      <td>0.000000</td>\n",
       "      <td>0.000000</td>\n",
       "      <td>0.000000</td>\n",
       "      <td>0.000000e+00</td>\n",
       "    </tr>\n",
       "    <tr>\n",
       "      <th>max</th>\n",
       "      <td>209386.00000</td>\n",
       "      <td>319159.000000</td>\n",
       "      <td>320659.000000</td>\n",
       "      <td>673974.000000</td>\n",
       "      <td>93.000000</td>\n",
       "      <td>6.000000</td>\n",
       "      <td>2.000000</td>\n",
       "      <td>15.000000</td>\n",
       "      <td>78.000000</td>\n",
       "      <td>41.000000</td>\n",
       "      <td>5.000000</td>\n",
       "      <td>525241.000000</td>\n",
       "      <td>5.239700e+06</td>\n",
       "    </tr>\n",
       "  </tbody>\n",
       "</table>\n",
       "</div>"
      ],
      "text/plain": [
       "           OBJECTID         INCKEY      COLDETKEY         INTKEY  \\\n",
       "count  209386.00000  209386.000000  209386.000000   67595.000000   \n",
       "mean   104693.50000  134290.410959  134445.701537   37378.148576   \n",
       "std     60444.67607   79976.218314   80242.240004   50871.022327   \n",
       "min         1.00000    1001.000000    1001.000000   23807.000000   \n",
       "25%     52347.25000   68633.250000   68633.250000   28648.000000   \n",
       "50%    104693.50000  121169.500000  121169.500000   29967.000000   \n",
       "75%    157039.75000  193163.750000  193243.750000   33963.000000   \n",
       "max    209386.00000  319159.000000  320659.000000  673974.000000   \n",
       "\n",
       "         PERSONCOUNT       PEDCOUNT    PEDCYLCOUNT       VEHCOUNT  \\\n",
       "count  209386.000000  209386.000000  209386.000000  209386.000000   \n",
       "mean        2.225378       0.037261       0.026745       1.729882   \n",
       "std         1.479952       0.199185       0.162811       0.829770   \n",
       "min         0.000000       0.000000       0.000000       0.000000   \n",
       "25%         2.000000       0.000000       0.000000       2.000000   \n",
       "50%         2.000000       0.000000       0.000000       2.000000   \n",
       "75%         3.000000       0.000000       0.000000       2.000000   \n",
       "max        93.000000       6.000000       2.000000      15.000000   \n",
       "\n",
       "            INJURIES  SERIOUSINJURIES     FATALITIES     SEGLANEKEY  \\\n",
       "count  209386.000000    209386.000000  209386.000000  209386.000000   \n",
       "mean        0.373363         0.015001       0.001624     268.957595   \n",
       "std         0.734583         0.158796       0.044004    3298.801650   \n",
       "min         0.000000         0.000000       0.000000       0.000000   \n",
       "25%         0.000000         0.000000       0.000000       0.000000   \n",
       "50%         0.000000         0.000000       0.000000       0.000000   \n",
       "75%         1.000000         0.000000       0.000000       0.000000   \n",
       "max        78.000000        41.000000       5.000000  525241.000000   \n",
       "\n",
       "       CROSSWALKKEY  \n",
       "count  2.093860e+05  \n",
       "mean   9.620194e+03  \n",
       "std    7.164626e+04  \n",
       "min    0.000000e+00  \n",
       "25%    0.000000e+00  \n",
       "50%    0.000000e+00  \n",
       "75%    0.000000e+00  \n",
       "max    5.239700e+06  "
      ]
     },
     "execution_count": 6,
     "metadata": {},
     "output_type": "execute_result"
    }
   ],
   "source": [
    "acc.describe()"
   ]
  },
  {
   "cell_type": "code",
   "execution_count": 11,
   "metadata": {},
   "outputs": [
    {
     "data": {
      "text/plain": [
       "array([None, 'Y'], dtype=object)"
      ]
     },
     "execution_count": 11,
     "metadata": {},
     "output_type": "execute_result"
    }
   ],
   "source": [
    "acc.SPEEDING.unique()"
   ]
  },
  {
   "cell_type": "code",
   "execution_count": 12,
   "metadata": {},
   "outputs": [
    {
     "data": {
      "text/html": [
       "<div>\n",
       "<style scoped>\n",
       "    .dataframe tbody tr th:only-of-type {\n",
       "        vertical-align: middle;\n",
       "    }\n",
       "\n",
       "    .dataframe tbody tr th {\n",
       "        vertical-align: top;\n",
       "    }\n",
       "\n",
       "    .dataframe thead th {\n",
       "        text-align: right;\n",
       "    }\n",
       "</style>\n",
       "<table border=\"1\" class=\"dataframe\">\n",
       "  <thead>\n",
       "    <tr style=\"text-align: right;\">\n",
       "      <th></th>\n",
       "      <th>OBJECTID</th>\n",
       "      <th>INCKEY</th>\n",
       "      <th>COLDETKEY</th>\n",
       "      <th>REPORTNO</th>\n",
       "      <th>STATUS</th>\n",
       "      <th>ADDRTYPE</th>\n",
       "      <th>INTKEY</th>\n",
       "      <th>LOCATION</th>\n",
       "      <th>EXCEPTRSNCODE</th>\n",
       "      <th>EXCEPTRSNDESC</th>\n",
       "      <th>...</th>\n",
       "      <th>LIGHTCOND</th>\n",
       "      <th>PEDROWNOTGRNT</th>\n",
       "      <th>SDOTCOLNUM</th>\n",
       "      <th>SPEEDING</th>\n",
       "      <th>ST_COLCODE</th>\n",
       "      <th>ST_COLDESC</th>\n",
       "      <th>SEGLANEKEY</th>\n",
       "      <th>CROSSWALKKEY</th>\n",
       "      <th>HITPARKEDCAR</th>\n",
       "      <th>geometry</th>\n",
       "    </tr>\n",
       "  </thead>\n",
       "  <tbody>\n",
       "    <tr>\n",
       "      <th>0</th>\n",
       "      <td>1</td>\n",
       "      <td>300647</td>\n",
       "      <td>301861</td>\n",
       "      <td>E828639</td>\n",
       "      <td>Matched</td>\n",
       "      <td>Block</td>\n",
       "      <td>NaN</td>\n",
       "      <td>WEEDIN E PL NE BETWEEN WEEDIN PL NE AND 8TH AV...</td>\n",
       "      <td></td>\n",
       "      <td>None</td>\n",
       "      <td>...</td>\n",
       "      <td>Daylight</td>\n",
       "      <td>None</td>\n",
       "      <td>None</td>\n",
       "      <td>None</td>\n",
       "      <td>10</td>\n",
       "      <td>Entering at angle</td>\n",
       "      <td>0</td>\n",
       "      <td>0</td>\n",
       "      <td>N</td>\n",
       "      <td>POINT (-122.3194826900306 47.67599681324806)</td>\n",
       "    </tr>\n",
       "    <tr>\n",
       "      <th>1</th>\n",
       "      <td>2</td>\n",
       "      <td>300655</td>\n",
       "      <td>301869</td>\n",
       "      <td>3626843</td>\n",
       "      <td>Matched</td>\n",
       "      <td>Block</td>\n",
       "      <td>NaN</td>\n",
       "      <td>OLSON PL SW BETWEEN 1ST AVE S AND 2ND AVE SW</td>\n",
       "      <td></td>\n",
       "      <td>None</td>\n",
       "      <td>...</td>\n",
       "      <td>Daylight</td>\n",
       "      <td>None</td>\n",
       "      <td>None</td>\n",
       "      <td>None</td>\n",
       "      <td>14</td>\n",
       "      <td>From same direction - both going straight - on...</td>\n",
       "      <td>0</td>\n",
       "      <td>0</td>\n",
       "      <td>N</td>\n",
       "      <td>POINT (-122.3355699288946 47.5217841204985)</td>\n",
       "    </tr>\n",
       "    <tr>\n",
       "      <th>2</th>\n",
       "      <td>3</td>\n",
       "      <td>300644</td>\n",
       "      <td>301858</td>\n",
       "      <td>E828638</td>\n",
       "      <td>Matched</td>\n",
       "      <td>Intersection</td>\n",
       "      <td>27031.0</td>\n",
       "      <td>TROLL AVE N AND N 36TH ST</td>\n",
       "      <td></td>\n",
       "      <td>None</td>\n",
       "      <td>...</td>\n",
       "      <td>Daylight</td>\n",
       "      <td>None</td>\n",
       "      <td>None</td>\n",
       "      <td>None</td>\n",
       "      <td>32</td>\n",
       "      <td>One parked--one moving</td>\n",
       "      <td>0</td>\n",
       "      <td>0</td>\n",
       "      <td>Y</td>\n",
       "      <td>POINT (-122.3473968315823 47.65096640309453)</td>\n",
       "    </tr>\n",
       "    <tr>\n",
       "      <th>3</th>\n",
       "      <td>4</td>\n",
       "      <td>300662</td>\n",
       "      <td>301876</td>\n",
       "      <td>3705919</td>\n",
       "      <td>Matched</td>\n",
       "      <td>Intersection</td>\n",
       "      <td>29080.0</td>\n",
       "      <td>FRANKLIN AVE E AND E GALER ST</td>\n",
       "      <td></td>\n",
       "      <td>None</td>\n",
       "      <td>...</td>\n",
       "      <td>Unknown</td>\n",
       "      <td>None</td>\n",
       "      <td>None</td>\n",
       "      <td>None</td>\n",
       "      <td>32</td>\n",
       "      <td>One parked--one moving</td>\n",
       "      <td>0</td>\n",
       "      <td>0</td>\n",
       "      <td>Y</td>\n",
       "      <td>POINT (-122.3249560537502 47.63225641102942)</td>\n",
       "    </tr>\n",
       "    <tr>\n",
       "      <th>4</th>\n",
       "      <td>5</td>\n",
       "      <td>300650</td>\n",
       "      <td>301864</td>\n",
       "      <td>3206769</td>\n",
       "      <td>Matched</td>\n",
       "      <td>Intersection</td>\n",
       "      <td>28403.0</td>\n",
       "      <td>24TH AVE E AND E MILLER ST</td>\n",
       "      <td></td>\n",
       "      <td>None</td>\n",
       "      <td>...</td>\n",
       "      <td>Daylight</td>\n",
       "      <td>None</td>\n",
       "      <td>None</td>\n",
       "      <td>None</td>\n",
       "      <td>14</td>\n",
       "      <td>From same direction - both going straight - on...</td>\n",
       "      <td>0</td>\n",
       "      <td>0</td>\n",
       "      <td>N</td>\n",
       "      <td>POINT (-122.3020586455341 47.64171802992309)</td>\n",
       "    </tr>\n",
       "  </tbody>\n",
       "</table>\n",
       "<p>5 rows × 39 columns</p>\n",
       "</div>"
      ],
      "text/plain": [
       "   OBJECTID  INCKEY  COLDETKEY REPORTNO   STATUS      ADDRTYPE   INTKEY  \\\n",
       "0         1  300647     301861  E828639  Matched         Block      NaN   \n",
       "1         2  300655     301869  3626843  Matched         Block      NaN   \n",
       "2         3  300644     301858  E828638  Matched  Intersection  27031.0   \n",
       "3         4  300662     301876  3705919  Matched  Intersection  29080.0   \n",
       "4         5  300650     301864  3206769  Matched  Intersection  28403.0   \n",
       "\n",
       "                                            LOCATION EXCEPTRSNCODE  \\\n",
       "0  WEEDIN E PL NE BETWEEN WEEDIN PL NE AND 8TH AV...                 \n",
       "1       OLSON PL SW BETWEEN 1ST AVE S AND 2ND AVE SW                 \n",
       "2                          TROLL AVE N AND N 36TH ST                 \n",
       "3                      FRANKLIN AVE E AND E GALER ST                 \n",
       "4                         24TH AVE E AND E MILLER ST                 \n",
       "\n",
       "  EXCEPTRSNDESC  ... LIGHTCOND PEDROWNOTGRNT SDOTCOLNUM  SPEEDING  ST_COLCODE  \\\n",
       "0          None  ...  Daylight          None       None      None          10   \n",
       "1          None  ...  Daylight          None       None      None          14   \n",
       "2          None  ...  Daylight          None       None      None          32   \n",
       "3          None  ...   Unknown          None       None      None          32   \n",
       "4          None  ...  Daylight          None       None      None          14   \n",
       "\n",
       "                                          ST_COLDESC  SEGLANEKEY  \\\n",
       "0                                  Entering at angle           0   \n",
       "1  From same direction - both going straight - on...           0   \n",
       "2                             One parked--one moving           0   \n",
       "3                             One parked--one moving           0   \n",
       "4  From same direction - both going straight - on...           0   \n",
       "\n",
       "   CROSSWALKKEY  HITPARKEDCAR                                      geometry  \n",
       "0             0             N  POINT (-122.3194826900306 47.67599681324806)  \n",
       "1             0             N   POINT (-122.3355699288946 47.5217841204985)  \n",
       "2             0             Y  POINT (-122.3473968315823 47.65096640309453)  \n",
       "3             0             Y  POINT (-122.3249560537502 47.63225641102942)  \n",
       "4             0             N  POINT (-122.3020586455341 47.64171802992309)  \n",
       "\n",
       "[5 rows x 39 columns]"
      ]
     },
     "execution_count": 12,
     "metadata": {},
     "output_type": "execute_result"
    }
   ],
   "source": [
    "acc.head()"
   ]
  },
  {
   "cell_type": "code",
   "execution_count": 14,
   "metadata": {},
   "outputs": [
    {
     "data": {
      "text/plain": [
       "array([' ', 'NEI', None], dtype=object)"
      ]
     },
     "execution_count": 14,
     "metadata": {},
     "output_type": "execute_result"
    }
   ],
   "source": [
    "acc.EXCEPTRSNCODE.unique()"
   ]
  },
  {
   "cell_type": "code",
   "execution_count": 15,
   "metadata": {},
   "outputs": [
    {
     "data": {
      "text/plain": [
       "array([None,\n",
       "       'Not Enough Information, or Insufficient Location Information'],\n",
       "      dtype=object)"
      ]
     },
     "execution_count": 15,
     "metadata": {},
     "output_type": "execute_result"
    }
   ],
   "source": [
    "acc.EXCEPTRSNDESC.unique()"
   ]
  },
  {
   "cell_type": "code",
   "execution_count": 16,
   "metadata": {},
   "outputs": [
    {
     "data": {
      "text/plain": [
       "array([None, 'Y'], dtype=object)"
      ]
     },
     "execution_count": 16,
     "metadata": {},
     "output_type": "execute_result"
    }
   ],
   "source": [
    "acc.INATTENTIONIND.unique()"
   ]
  },
  {
   "cell_type": "code",
   "execution_count": 20,
   "metadata": {},
   "outputs": [
    {
     "data": {
      "text/plain": [
       "0    POINT (-122.3194826900306 47.67599681324806)\n",
       "1     POINT (-122.3355699288946 47.5217841204985)\n",
       "2    POINT (-122.3473968315823 47.65096640309453)\n",
       "3    POINT (-122.3249560537502 47.63225641102942)\n",
       "4    POINT (-122.3020586455341 47.64171802992309)\n",
       "Name: geometry, dtype: object"
      ]
     },
     "execution_count": 20,
     "metadata": {},
     "output_type": "execute_result"
    }
   ],
   "source": [
    "acc.geometry.head()"
   ]
  },
  {
   "cell_type": "code",
   "execution_count": 30,
   "metadata": {},
   "outputs": [
    {
     "data": {
      "text/plain": [
       "209386"
      ]
     },
     "execution_count": 30,
     "metadata": {},
     "output_type": "execute_result"
    }
   ],
   "source": [
    "len(list(acc.COLDETKEY.unique()))"
   ]
  },
  {
   "cell_type": "code",
   "execution_count": null,
   "metadata": {},
   "outputs": [],
   "source": []
  }
 ],
 "metadata": {
  "kernelspec": {
   "display_name": "Python 3",
   "language": "python",
   "name": "python3"
  },
  "language_info": {
   "codemirror_mode": {
    "name": "ipython",
    "version": 3
   },
   "file_extension": ".py",
   "mimetype": "text/x-python",
   "name": "python",
   "nbconvert_exporter": "python",
   "pygments_lexer": "ipython3",
   "version": "3.7.3"
  }
 },
 "nbformat": 4,
 "nbformat_minor": 2
}
