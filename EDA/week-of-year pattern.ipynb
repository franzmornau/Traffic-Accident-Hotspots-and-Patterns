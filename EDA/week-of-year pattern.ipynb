{
 "cells": [
  {
   "cell_type": "code",
   "execution_count": 1,
   "metadata": {},
   "outputs": [],
   "source": [
    "import pandas as pd\n",
    "import numpy as np\n",
    "import matplotlib.pyplot as plt\n",
    "import geopandas as gpd\n",
    "from shapely.geometry import Point, Polygon, LineString\n",
    "import seaborn as sns"
   ]
  },
  {
   "cell_type": "code",
   "execution_count": 2,
   "metadata": {},
   "outputs": [],
   "source": [
    "#acc = gpd.read_file('https://opendata.arcgis.com/datasets/5b5c745e0f1f48e7a53acec63a0022ab_0.geojson')"
   ]
  },
  {
   "cell_type": "code",
   "execution_count": 3,
   "metadata": {},
   "outputs": [],
   "source": [
    "acc = gpd.read_file('data/Collisions.geojson')"
   ]
  },
  {
   "cell_type": "code",
   "execution_count": 10,
   "metadata": {},
   "outputs": [],
   "source": [
    "timeline=acc['INCDATE']"
   ]
  },
  {
   "cell_type": "code",
   "execution_count": 6,
   "metadata": {},
   "outputs": [
    {
     "data": {
      "text/plain": [
       "'8/15/2018 8:00:00 PM'"
      ]
     },
     "execution_count": 6,
     "metadata": {},
     "output_type": "execute_result"
    }
   ],
   "source": [
    "inc_datetimes=acc['INCDTTM']\n",
    "inc_datetimes[0]"
   ]
  },
  {
   "cell_type": "code",
   "execution_count": 7,
   "metadata": {},
   "outputs": [],
   "source": [
    "from dateutil import parser"
   ]
  },
  {
   "cell_type": "code",
   "execution_count": 8,
   "metadata": {},
   "outputs": [],
   "source": [
    "dts = pd.Series([parser.parse(d) for d in inc_datetimes])"
   ]
  },
  {
   "cell_type": "code",
   "execution_count": 11,
   "metadata": {},
   "outputs": [],
   "source": [
    "acc['year'] = pd.DataFrame([d.year for d in dts])\n",
    "acc['month'] = pd.DataFrame([d.month for d in dts])\n",
    "acc['week'] = pd.DataFrame([d.week for d in dts])\n",
    "acc['day'] = pd.DataFrame([d.day for d in dts])\n",
    "acc['hour'] = pd.DataFrame([d.hour for d in dts])\n",
    "acc['weekday'] = pd.DataFrame([d.weekday() for d in dts])"
   ]
  },
  {
   "cell_type": "code",
   "execution_count": 93,
   "metadata": {},
   "outputs": [],
   "source": [
    "# acc.head()\n"
   ]
  },
  {
   "cell_type": "code",
   "execution_count": 94,
   "metadata": {},
   "outputs": [
    {
     "data": {
      "text/html": [
       "<div>\n",
       "<style scoped>\n",
       "    .dataframe tbody tr th:only-of-type {\n",
       "        vertical-align: middle;\n",
       "    }\n",
       "\n",
       "    .dataframe tbody tr th {\n",
       "        vertical-align: top;\n",
       "    }\n",
       "\n",
       "    .dataframe thead th {\n",
       "        text-align: right;\n",
       "    }\n",
       "</style>\n",
       "<table border=\"1\" class=\"dataframe\">\n",
       "  <thead>\n",
       "    <tr style=\"text-align: right;\">\n",
       "      <th></th>\n",
       "      <th>OBJECTID</th>\n",
       "      <th>INCKEY</th>\n",
       "      <th>COLDETKEY</th>\n",
       "      <th>REPORTNO</th>\n",
       "      <th>STATUS</th>\n",
       "      <th>ADDRTYPE</th>\n",
       "      <th>INTKEY</th>\n",
       "      <th>LOCATION</th>\n",
       "      <th>EXCEPTRSNCODE</th>\n",
       "      <th>EXCEPTRSNDESC</th>\n",
       "      <th>...</th>\n",
       "      <th>CROSSWALKKEY</th>\n",
       "      <th>HITPARKEDCAR</th>\n",
       "      <th>geometry</th>\n",
       "      <th>inc_datetime</th>\n",
       "      <th>year</th>\n",
       "      <th>month</th>\n",
       "      <th>week</th>\n",
       "      <th>day</th>\n",
       "      <th>hour</th>\n",
       "      <th>weekday</th>\n",
       "    </tr>\n",
       "  </thead>\n",
       "  <tbody>\n",
       "    <tr>\n",
       "      <th>2467</th>\n",
       "      <td>1468</td>\n",
       "      <td>3663</td>\n",
       "      <td>3663</td>\n",
       "      <td>1787335</td>\n",
       "      <td>Matched</td>\n",
       "      <td>Intersection</td>\n",
       "      <td>29797.0</td>\n",
       "      <td>BROADWAY AND CHERRY ST</td>\n",
       "      <td>None</td>\n",
       "      <td>None</td>\n",
       "      <td>...</td>\n",
       "      <td>0</td>\n",
       "      <td>N</td>\n",
       "      <td>POINT (-122.320754791291 47.60807346737884)</td>\n",
       "      <td>2003-10-06</td>\n",
       "      <td>2003</td>\n",
       "      <td>10</td>\n",
       "      <td>41</td>\n",
       "      <td>6</td>\n",
       "      <td>0</td>\n",
       "      <td>0</td>\n",
       "    </tr>\n",
       "  </tbody>\n",
       "</table>\n",
       "<p>1 rows × 46 columns</p>\n",
       "</div>"
      ],
      "text/plain": [
       "      OBJECTID  INCKEY  COLDETKEY REPORTNO   STATUS      ADDRTYPE   INTKEY  \\\n",
       "2467      1468    3663       3663  1787335  Matched  Intersection  29797.0   \n",
       "\n",
       "                    LOCATION EXCEPTRSNCODE EXCEPTRSNDESC  ... CROSSWALKKEY  \\\n",
       "2467  BROADWAY AND CHERRY ST          None          None  ...            0   \n",
       "\n",
       "     HITPARKEDCAR                                     geometry  inc_datetime  \\\n",
       "2467            N  POINT (-122.320754791291 47.60807346737884)    2003-10-06   \n",
       "\n",
       "      year  month  week  day  hour  weekday  \n",
       "2467  2003     10    41    6     0        0  \n",
       "\n",
       "[1 rows x 46 columns]"
      ]
     },
     "execution_count": 94,
     "metadata": {},
     "output_type": "execute_result"
    }
   ],
   "source": [
    "acc[acc['year']==2003]"
   ]
  },
  {
   "cell_type": "code",
   "execution_count": 14,
   "metadata": {},
   "outputs": [],
   "source": [
    "acc_2015 = acc[acc['year'] == 2015]"
   ]
  },
  {
   "cell_type": "code",
   "execution_count": 15,
   "metadata": {},
   "outputs": [],
   "source": [
    "# acc[acc['year'] == 2019].head(5)"
   ]
  },
  {
   "cell_type": "code",
   "execution_count": 16,
   "metadata": {},
   "outputs": [
    {
     "data": {
      "text/plain": [
       "month\n",
       "1     1107\n",
       "2     1004\n",
       "3     1133\n",
       "4     1164\n",
       "5     1154\n",
       "6     1258\n",
       "7     1251\n",
       "8     1243\n",
       "9     1228\n",
       "10    1285\n",
       "11    1226\n",
       "12    1207\n",
       "dtype: int64"
      ]
     },
     "execution_count": 16,
     "metadata": {},
     "output_type": "execute_result"
    }
   ],
   "source": [
    "acc_2015.groupby('month').size()"
   ]
  },
  {
   "cell_type": "code",
   "execution_count": 20,
   "metadata": {},
   "outputs": [],
   "source": [
    "def acc_2015_by(unit):\n",
    "    x = acc_2015.groupby(unit).size().index\n",
    "    y = acc_2015.groupby(unit).size().values\n",
    "\n",
    "    plt.figure(figsize=(10,6)) \n",
    "    plt.bar(x, y, color = 'b')\n",
    "    plt.title('Accidents per {} in 2015'.format(unit))\n",
    "    plt.xlabel(unit)\n",
    "    plt.ylabel('Number of Accidents')\n",
    "\n",
    "    plt.savefig('{}_count_2015.png'.format(unit))"
   ]
  },
  {
   "cell_type": "code",
   "execution_count": 21,
   "metadata": {},
   "outputs": [
    {
     "data": {
      "image/png": "[encoded data removed]",
      "text/plain": [
       "<Figure size 720x432 with 1 Axes>"
      ]
     },
     "metadata": {
      "needs_background": "light"
     },
     "output_type": "display_data"
    }
   ],
   "source": [
    "acc_2015_by('month')"
   ]
  },
  {
   "cell_type": "code",
   "execution_count": 22,
   "metadata": {},
   "outputs": [
    {
     "data": {
      "image/png": "[encoded data removed]",
      "text/plain": [
       "<Figure size 720x432 with 1 Axes>"
      ]
     },
     "metadata": {
      "needs_background": "light"
     },
     "output_type": "display_data"
    }
   ],
   "source": [
    "acc_2015_by('week')"
   ]
  },
  {
   "cell_type": "code",
   "execution_count": 25,
   "metadata": {},
   "outputs": [],
   "source": [
    "acc_04_19 = acc[(acc['year'] > 2003) & (acc['year'] < 2019)]"
   ]
  },
  {
   "cell_type": "markdown",
   "metadata": {},
   "source": [
    "#### We don't see a clear pattern here, except around new years (where there is also likely an artificial low, because the last/first week is split between years.). - A pattern could occur if we have the same peaks as here in every year."
   ]
  },
  {
   "cell_type": "code",
   "execution_count": 26,
   "metadata": {},
   "outputs": [],
   "source": [
    "def acc_by(unit):\n",
    "    x = acc_04_19.groupby(unit).size().index\n",
    "    y = acc_04_19.groupby(unit).size().values\n",
    "\n",
    "    plt.figure(figsize=(10,6)) \n",
    "    plt.bar(x, y, color = 'b')\n",
    "    plt.title('Accidents per {} 2004 - 2019'.format(unit))\n",
    "    plt.xlabel(unit)\n",
    "    plt.ylabel('Number of Accidents')\n",
    "\n",
    "    plt.savefig('{}_count_04-19.png'.format(unit))"
   ]
  },
  {
   "cell_type": "code",
   "execution_count": 27,
   "metadata": {},
   "outputs": [
    {
     "data": {
      "image/png": "[encoded data removed]",
      "text/plain": [
       "<Figure size 720x432 with 1 Axes>"
      ]
     },
     "metadata": {
      "needs_background": "light"
     },
     "output_type": "display_data"
    }
   ],
   "source": [
    "acc_by('week')"
   ]
  },
  {
   "cell_type": "code",
   "execution_count": null,
   "metadata": {},
   "outputs": [],
   "source": []
  }
 ],
 "metadata": {
  "kernelspec": {
   "display_name": "Python 3",
   "language": "python",
   "name": "python3"
  },
  "language_info": {
   "codemirror_mode": {
    "name": "ipython",
    "version": 3
   },
   "file_extension": ".py",
   "mimetype": "text/x-python",
   "name": "python",
   "nbconvert_exporter": "python",
   "pygments_lexer": "ipython3",
   "version": "3.7.3"
  }
 },
 "nbformat": 4,
 "nbformat_minor": 2
}
